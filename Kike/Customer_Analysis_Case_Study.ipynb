{
 "cells": [
  {
   "cell_type": "markdown",
   "metadata": {},
   "source": [
    "# Importing modules"
   ]
  },
  {
   "cell_type": "code",
   "execution_count": 2,
   "metadata": {},
   "outputs": [],
   "source": [
    "# Cleanning\n",
    "import pandas as pd\n",
    "import numpy as np\n",
    "from scipy.stats import mode\n",
    "\n",
    "\n",
    "# Plotting\n",
    "import matplotlib.pyplot as plt\n",
    "import seaborn as sns\n",
    "%matplotlib inline\n",
    "\n",
    "# Modelling\n",
    "from scipy.stats import boxcox\n",
    "from sklearn.preprocessing import PowerTransformer\n",
    "from sklearn.preprocessing import (StandardScaler, MinMaxScaler)\n",
    "from sklearn.preprocessing import OneHotEncoder\n",
    "from sklearn.preprocessing import OrdinalEncoder\n",
    "from sklearn.model_selection import train_test_split\n",
    "from sklearn.linear_model import LinearRegression\n",
    "from sklearn.metrics import r2_score\n",
    "from sklearn.metrics import mean_squared_error as mse\n",
    "from sklearn.metrics import mean_absolute_error as mae\n",
    "from scipy.stats import iqr\n",
    "from scipy.stats import scoreatpercentile as pct\n",
    "from sklearn.linear_model import Ridge\n",
    "from sklearn.linear_model import Lasso\n",
    "from sklearn.neighbors import KNeighborsRegressor\n",
    "from sklearn.feature_selection import VarianceThreshold\n",
    "from sklearn.feature_selection import RFE\n",
    "import statsmodels.api as sm"
   ]
  },
  {
   "cell_type": "markdown",
   "metadata": {},
   "source": [
    "# Functions"
   ]
  },
  {
   "cell_type": "markdown",
   "metadata": {},
   "source": [
    "## Data Cleaning Pipeline Functions"
   ]
  },
  {
   "cell_type": "markdown",
   "metadata": {},
   "source": [
    "### Importing Data"
   ]
  },
  {
   "cell_type": "code",
   "execution_count": 2,
   "metadata": {},
   "outputs": [],
   "source": [
    "# Function Wrapping the loading operation - For Pipeline Control\n",
    "\n",
    "def load_data():\n",
    "\n",
    "    file1 = pd.read_csv(\"Data/file1.csv\")\n",
    "    file2 = pd.read_csv(\"Data/file2.csv\")\n",
    "    file3 = pd.read_csv(\"Data/file3.csv\")\n",
    "\n",
    "    file3.rename(columns={\"State\":\"ST\", \"Gender\": \"GENDER\"}, inplace=True)\n",
    "\n",
    "    return pd.concat([file1,file2,file3]).reset_index(drop=True)\n",
    "    \n"
   ]
  },
  {
   "cell_type": "markdown",
   "metadata": {},
   "source": [
    "### Standardizing Headings"
   ]
  },
  {
   "cell_type": "code",
   "execution_count": 3,
   "metadata": {},
   "outputs": [],
   "source": [
    "def standard_headings(df):\n",
    "    \"\"\"\n",
    "    Returns a Pandas Dataframe with an standarized heading, i.e lower case and \" \" replaced by \"_\"\n",
    "    \n",
    "    Parameters\n",
    "    ----------\n",
    "    columns_list : Pandas Dataframe\n",
    "\n",
    "    Returns\n",
    "    -------\n",
    "    Returns a Pandas Dataframe with an standarized heading, i.e lower case and \" \" replaced by \"_\"\n",
    "\n",
    "    \"\"\"  \n",
    "    heading = df.columns\n",
    "    df.columns = [clabel.lower().replace(\" \", \"_\") for clabel in heading]\n",
    "    return df\n"
   ]
  },
  {
   "cell_type": "markdown",
   "metadata": {},
   "source": [
    "### Correcting data types"
   ]
  },
  {
   "cell_type": "code",
   "execution_count": 4,
   "metadata": {},
   "outputs": [],
   "source": [
    "# Function Wrapping the two data correction type operations - For Pipeline Control\n",
    "\n",
    "def dt_corrector(df):\n",
    "    \n",
    "    df.customer_lifetime_value = df.customer_lifetime_value.apply(lambda x: np.round(float(x.strip(\"%\"))*100) if type(x)==str else np.round(x) if x==x else x)\n",
    "    df.number_of_open_complaints = df.number_of_open_complaints.apply(lambda x: np.array(x.split(\"/\"), dtype=int)[1] if type(x)==str else x)\n",
    "\n",
    "    return df"
   ]
  },
  {
   "cell_type": "markdown",
   "metadata": {},
   "source": [
    "### Bucketing Data"
   ]
  },
  {
   "cell_type": "code",
   "execution_count": 5,
   "metadata": {},
   "outputs": [],
   "source": [
    "\n",
    "def bucket_series(df, columns_list, bucketing_dict):\n",
    "    \"\"\"\n",
    "    Returns a Pandas Dataframe with the columns contained in columns_list modified to only have unique labels. The reduction is done following the logic contained in cleaning_dict.\n",
    "    \n",
    "    Parameters\n",
    "    ----------\n",
    "    df : Pandas Dataframe\n",
    "        The data frame to be cleaned\n",
    "    columns_list : List\n",
    "        A list of strings with the labels of the target columns\n",
    "    cleaning_dict : Dictionary\n",
    "        A dictionary of the form {redundant_value : unique_value}\n",
    "\n",
    "    Returns\n",
    "    -------\n",
    "\n",
    "    Returns a Pandas Dataframe with the columns contained in columns_list modified to only have unique labels. The reduction is done following the logic contained in cleaning_dict.\n",
    "\n",
    "    \"\"\"\n",
    "    for column in columns_list:\n",
    "\n",
    "        df[column] = list(map(lambda item : bucketing_dict[item] if item in bucketing_dict.keys() else item, df[column]))\n",
    "\n",
    "    return df\n"
   ]
  },
  {
   "cell_type": "markdown",
   "metadata": {},
   "source": [
    "### Removing Duplicates"
   ]
  },
  {
   "cell_type": "markdown",
   "metadata": {},
   "source": [
    "### Replacing Null values (Numeric Variables)"
   ]
  },
  {
   "cell_type": "code",
   "execution_count": 6,
   "metadata": {},
   "outputs": [],
   "source": [
    "def replace_by(df, columns_list, replace_zeros = False, replacer = np.mean):\n",
    "    \"\"\"\n",
    "    Returns a Pandas Dataframe with the target columns nan values replaced by the column selected paramete (median or mean).\n",
    "    \n",
    "    Parameters\n",
    "    ----------\n",
    "    df : Pandas dataframe\n",
    "        The data frame to be cleaned\n",
    "    columns_list : List\n",
    "        A list of strings with the labels of the target columns\n",
    "\n",
    "    parameter : String\n",
    "        Parameter to be used for the replacement\n",
    "        \"mean\" for the mean (default)\n",
    "        \"median\" for the median\n",
    "\n",
    "    Returns\n",
    "    -------\n",
    "    Returns a Pandas Dataframe with the target columns nan values replaced by the column selected paramete (median or mean).\n",
    "\n",
    "    \"\"\"\n",
    "    for column in columns_list:\n",
    "\n",
    "        if replace_zeros == True:\n",
    "\n",
    "            target = df[column][df[column] > 0]\n",
    "            df[column] = list(map(lambda x: replacer(target) if x == 0 else replacer(target) if x!=x else x, df[column]))\n",
    "\n",
    "        elif replace_zeros == False:\n",
    "\n",
    "            target = df[column]\n",
    "            df[column] = df[column].fillna(replacer(target))\n",
    "\n",
    "    return df\n",
    "\n"
   ]
  },
  {
   "cell_type": "markdown",
   "metadata": {},
   "source": [
    "### Replacing Null values (Categorical Variables)"
   ]
  },
  {
   "cell_type": "code",
   "execution_count": 7,
   "metadata": {},
   "outputs": [],
   "source": [
    "def replace_by_cat(df, columns_list):\n",
    "    \n",
    "    for column in columns_list:\n",
    "\n",
    "        if column[1] == \"mode\":\n",
    "\n",
    "            replacer = mode(df[column[0]])\n",
    "        \n",
    "        else:\n",
    "\n",
    "            replacer = column[1]\n",
    "\n",
    "\n",
    "        df[column[0]] = list(map(lambda x:replacer if x != x else x, df[column[0]]))\n",
    "\n",
    "    return df\n",
    "\n"
   ]
  },
  {
   "cell_type": "markdown",
   "metadata": {},
   "source": [
    "### Converting Float Columns to Int"
   ]
  },
  {
   "cell_type": "code",
   "execution_count": 8,
   "metadata": {},
   "outputs": [],
   "source": [
    "def float_to_int(df, columns_list):\n",
    "    \"\"\"\n",
    "    Returns a Pandas Dataframe with target columns casted from float to int.\n",
    "    \n",
    "    Parameters\n",
    "    ----------\n",
    "    df : Pandas Dataframe\n",
    "        \n",
    "    columns_list : List\n",
    "        A list of strings with the labels of the target columns\n",
    "\n",
    "    Returns\n",
    "    -------\n",
    "    None.\n",
    "\n",
    "    Returns a Pandas Dataframe with target columns casted from float to int.\n",
    "\n",
    "    \"\"\"\n",
    "\n",
    "    for column in columns_list:\n",
    "\n",
    "        df[column] = df[column].astype(int)\n",
    "\n",
    "    return df"
   ]
  },
  {
   "cell_type": "markdown",
   "metadata": {},
   "source": [
    "### Converting Obj Columns to Cat"
   ]
  },
  {
   "cell_type": "code",
   "execution_count": 9,
   "metadata": {},
   "outputs": [],
   "source": [
    "def obj_to_cat(df, columns_list):\n",
    "\n",
    "    for column in columns_list:\n",
    "\n",
    "        df[column] = df[column].astype(\"category\")\n",
    "\n",
    "    return df"
   ]
  },
  {
   "cell_type": "markdown",
   "metadata": {},
   "source": [
    "### Standardizing the data"
   ]
  },
  {
   "cell_type": "code",
   "execution_count": 10,
   "metadata": {},
   "outputs": [],
   "source": [
    "def standardize_data(df):\n",
    "\n",
    "    df_standardized = pd.DataFrame(list(map(lambda x: list(map(lambda y: y.lower() if type(y)==str else y, x)), df.values)))\n",
    "    df_standardized.columns = df.columns\n",
    "\n",
    "    return df_standardized\n"
   ]
  },
  {
   "cell_type": "markdown",
   "metadata": {},
   "source": [
    "## Utility Functions"
   ]
  },
  {
   "cell_type": "code",
   "execution_count": 11,
   "metadata": {},
   "outputs": [],
   "source": [
    "# Function to store in dictionary the number of nan values per column\n",
    "\n",
    "def nan_counter(df):\n",
    "    \n",
    "    \"\"\"\n",
    "    Returns a dictionary containing the number of nan values per column (for dataframe df)\n",
    "\n",
    "    Parameters\n",
    "    ----------\n",
    "    df : Pandas dataframe\n",
    "\n",
    "    Returns\n",
    "    -------\n",
    "    remaining_nan : Dictionary\n",
    "        Contains the number of nan values in each column of the dataframe\n",
    "\n",
    "    \"\"\"\n",
    "    \n",
    "    remaining_nan = {}\n",
    "\n",
    "    for column in df.columns:\n",
    "\n",
    "        remaining_nan[column] = df[column][df[column].isna() == True].size\n",
    "\n",
    "    return remaining_nan"
   ]
  },
  {
   "cell_type": "code",
   "execution_count": 12,
   "metadata": {},
   "outputs": [],
   "source": [
    "def variable_rate_vs(df, variable, grouper):\n",
    "    \"\"\"\n",
    "    Returns a panda Series with:\n",
    "    Index: the categories inside the grouper\n",
    "    Values: the variable (for example Response) rate for the group\n",
    "\n",
    "    Parameters\n",
    "    ----------\n",
    "    df : Pandas Dataframe\n",
    "        DESCRIPTION.\n",
    "    variable : String\n",
    "        The label of the df column containing the variable data used to calculate the rate, e.g Response\n",
    "    grouper : String\n",
    "        The label of the df column used to group the variable rate\n",
    "\n",
    "    Returns\n",
    "    -------\n",
    "    Panda Series\n",
    "        Index: the categories inside the grouper\n",
    "        Values: the variable (for example Response) rate for the group\n",
    "\n",
    "    \"\"\"\n",
    "\n",
    "    # Dictionary to store the results\n",
    "    rate_dict = {}\n",
    "    \n",
    "    # Series and group seting, they will be used later in the for loop for indexing and accessing the data\n",
    "    var_cats = df[variable].value_counts()\n",
    "    group_cats = df[grouper].value_counts()\n",
    "    group = df.groupby([grouper, variable])[variable].count()\n",
    "    \n",
    "    # The outer for loops through the groups\n",
    "    ## The inner for loops the group series and for the specific group access the variable catergories and stores it in a list\n",
    "    ## At the end of the innerr loop the rate for the group is stored in a dict of the form {group:rate}\n",
    "    \n",
    "    for g in group_cats.index:\n",
    "\n",
    "        store = []\n",
    "\n",
    "        for c in var_cats.index:\n",
    "        \n",
    "            n = group.loc[(g, c)]\n",
    "            store.append(n)\n",
    "\n",
    "        rate_dict[g] = round((store[1] / store[0])*100, 2)\n",
    "\n",
    "    # A series is returned\n",
    "    return pd.Series(rate_dict)"
   ]
  },
  {
   "cell_type": "markdown",
   "metadata": {},
   "source": [
    "# Pipeline Controller"
   ]
  },
  {
   "cell_type": "code",
   "execution_count": 13,
   "metadata": {},
   "outputs": [],
   "source": [
    "drop_columns = [\"customer\"]\n",
    "bucket_columns = [\"st\", \"gender\"]\n",
    "clean_columns_NaN = [\"customer_lifetime_value\", \"income\", \"monthly_premium_auto\", \"number_of_open_complaints\", \"total_claim_amount\"]\n",
    "clean_columns_zeros = [\"income\"]\n",
    "clean_columns_cat = [(\"gender\", \"U\")]\n",
    "float_columns = [\"customer_lifetime_value\", \"income\", \"monthly_premium_auto\", \"number_of_open_complaints\", \"total_claim_amount\"]\n",
    "obj_columns = [\"st\", \"gender\", \"education\", \"number_of_open_complaints\", \"policy_type\", \"vehicle_class\"]\n",
    "\n",
    "bucketing_dict = {\"F\":\"F\", \"female\":\"F\", \"Femal\":\"F\"\n",
    "                 ,\"M\":\"M\", \"Male\":\"M\"\n",
    "                 ,\"California\": \"California\", \"Cali\": \"California\"\n",
    "                 ,\"Arizona\":\"Arizona\",\"AZ\":\"Arizona\"\n",
    "                 ,\"Washington\":\"Washington\", \"WA\":\"Washington\"\n",
    "                 ,\"Oregon\":\"Oregon\"\n",
    "                 ,\"Nevada\":\"Nevada\"\n",
    "                 ,np.nan:np.nan\n",
    "                 }"
   ]
  },
  {
   "cell_type": "code",
   "execution_count": 14,
   "metadata": {},
   "outputs": [],
   "source": [
    "ca_df = (load_data()\n",
    ".pipe(standard_headings)\n",
    ".drop(drop_columns, axis=1)\n",
    ".pipe(dt_corrector)\n",
    ".pipe(bucket_series, bucket_columns, bucketing_dict)\n",
    ".drop_duplicates().reset_index(drop=True)\n",
    ".pipe(replace_by, clean_columns_NaN)\n",
    ".pipe(replace_by, clean_columns_zeros)\n",
    ".pipe(replace_by_cat, clean_columns_cat)\n",
    ".dropna()\n",
    ".pipe(standardize_data)\n",
    ".pipe(float_to_int, float_columns)\n",
    ".pipe(obj_to_cat, obj_columns)\n",
    ")"
   ]
  },
  {
   "cell_type": "code",
   "execution_count": 15,
   "metadata": {},
   "outputs": [
    {
     "data": {
      "text/html": [
       "<div>\n",
       "<style scoped>\n",
       "    .dataframe tbody tr th:only-of-type {\n",
       "        vertical-align: middle;\n",
       "    }\n",
       "\n",
       "    .dataframe tbody tr th {\n",
       "        vertical-align: top;\n",
       "    }\n",
       "\n",
       "    .dataframe thead th {\n",
       "        text-align: right;\n",
       "    }\n",
       "</style>\n",
       "<table border=\"1\" class=\"dataframe\">\n",
       "  <thead>\n",
       "    <tr style=\"text-align: right;\">\n",
       "      <th></th>\n",
       "      <th>st</th>\n",
       "      <th>gender</th>\n",
       "      <th>education</th>\n",
       "      <th>customer_lifetime_value</th>\n",
       "      <th>income</th>\n",
       "      <th>monthly_premium_auto</th>\n",
       "      <th>number_of_open_complaints</th>\n",
       "      <th>policy_type</th>\n",
       "      <th>vehicle_class</th>\n",
       "      <th>total_claim_amount</th>\n",
       "    </tr>\n",
       "  </thead>\n",
       "  <tbody>\n",
       "    <tr>\n",
       "      <th>0</th>\n",
       "      <td>washington</td>\n",
       "      <td>u</td>\n",
       "      <td>master</td>\n",
       "      <td>17946226</td>\n",
       "      <td>0</td>\n",
       "      <td>1000</td>\n",
       "      <td>0</td>\n",
       "      <td>personal auto</td>\n",
       "      <td>four-door car</td>\n",
       "      <td>2</td>\n",
       "    </tr>\n",
       "    <tr>\n",
       "      <th>1</th>\n",
       "      <td>arizona</td>\n",
       "      <td>f</td>\n",
       "      <td>bachelor</td>\n",
       "      <td>69795359</td>\n",
       "      <td>0</td>\n",
       "      <td>94</td>\n",
       "      <td>0</td>\n",
       "      <td>personal auto</td>\n",
       "      <td>four-door car</td>\n",
       "      <td>1131</td>\n",
       "    </tr>\n",
       "    <tr>\n",
       "      <th>2</th>\n",
       "      <td>nevada</td>\n",
       "      <td>f</td>\n",
       "      <td>bachelor</td>\n",
       "      <td>128874317</td>\n",
       "      <td>48767</td>\n",
       "      <td>108</td>\n",
       "      <td>0</td>\n",
       "      <td>personal auto</td>\n",
       "      <td>two-door car</td>\n",
       "      <td>566</td>\n",
       "    </tr>\n",
       "    <tr>\n",
       "      <th>3</th>\n",
       "      <td>california</td>\n",
       "      <td>m</td>\n",
       "      <td>bachelor</td>\n",
       "      <td>76458618</td>\n",
       "      <td>0</td>\n",
       "      <td>106</td>\n",
       "      <td>0</td>\n",
       "      <td>corporate auto</td>\n",
       "      <td>suv</td>\n",
       "      <td>529</td>\n",
       "    </tr>\n",
       "    <tr>\n",
       "      <th>4</th>\n",
       "      <td>washington</td>\n",
       "      <td>m</td>\n",
       "      <td>high school or below</td>\n",
       "      <td>53630765</td>\n",
       "      <td>36357</td>\n",
       "      <td>68</td>\n",
       "      <td>0</td>\n",
       "      <td>personal auto</td>\n",
       "      <td>four-door car</td>\n",
       "      <td>17</td>\n",
       "    </tr>\n",
       "    <tr>\n",
       "      <th>...</th>\n",
       "      <td>...</td>\n",
       "      <td>...</td>\n",
       "      <td>...</td>\n",
       "      <td>...</td>\n",
       "      <td>...</td>\n",
       "      <td>...</td>\n",
       "      <td>...</td>\n",
       "      <td>...</td>\n",
       "      <td>...</td>\n",
       "      <td>...</td>\n",
       "    </tr>\n",
       "    <tr>\n",
       "      <th>8870</th>\n",
       "      <td>california</td>\n",
       "      <td>m</td>\n",
       "      <td>bachelor</td>\n",
       "      <td>23406</td>\n",
       "      <td>71941</td>\n",
       "      <td>73</td>\n",
       "      <td>0</td>\n",
       "      <td>personal auto</td>\n",
       "      <td>four-door car</td>\n",
       "      <td>198</td>\n",
       "    </tr>\n",
       "    <tr>\n",
       "      <th>8871</th>\n",
       "      <td>california</td>\n",
       "      <td>f</td>\n",
       "      <td>college</td>\n",
       "      <td>3097</td>\n",
       "      <td>21604</td>\n",
       "      <td>79</td>\n",
       "      <td>0</td>\n",
       "      <td>corporate auto</td>\n",
       "      <td>four-door car</td>\n",
       "      <td>379</td>\n",
       "    </tr>\n",
       "    <tr>\n",
       "      <th>8872</th>\n",
       "      <td>california</td>\n",
       "      <td>m</td>\n",
       "      <td>bachelor</td>\n",
       "      <td>8164</td>\n",
       "      <td>0</td>\n",
       "      <td>85</td>\n",
       "      <td>3</td>\n",
       "      <td>corporate auto</td>\n",
       "      <td>four-door car</td>\n",
       "      <td>790</td>\n",
       "    </tr>\n",
       "    <tr>\n",
       "      <th>8873</th>\n",
       "      <td>california</td>\n",
       "      <td>m</td>\n",
       "      <td>college</td>\n",
       "      <td>7524</td>\n",
       "      <td>21941</td>\n",
       "      <td>96</td>\n",
       "      <td>0</td>\n",
       "      <td>personal auto</td>\n",
       "      <td>four-door car</td>\n",
       "      <td>691</td>\n",
       "    </tr>\n",
       "    <tr>\n",
       "      <th>8874</th>\n",
       "      <td>california</td>\n",
       "      <td>m</td>\n",
       "      <td>college</td>\n",
       "      <td>2612</td>\n",
       "      <td>0</td>\n",
       "      <td>77</td>\n",
       "      <td>0</td>\n",
       "      <td>corporate auto</td>\n",
       "      <td>two-door car</td>\n",
       "      <td>369</td>\n",
       "    </tr>\n",
       "  </tbody>\n",
       "</table>\n",
       "<p>8875 rows × 10 columns</p>\n",
       "</div>"
      ],
      "text/plain": [
       "              st gender             education  customer_lifetime_value  \\\n",
       "0     washington      u                master                 17946226   \n",
       "1        arizona      f              bachelor                 69795359   \n",
       "2         nevada      f              bachelor                128874317   \n",
       "3     california      m              bachelor                 76458618   \n",
       "4     washington      m  high school or below                 53630765   \n",
       "...          ...    ...                   ...                      ...   \n",
       "8870  california      m              bachelor                    23406   \n",
       "8871  california      f               college                     3097   \n",
       "8872  california      m              bachelor                     8164   \n",
       "8873  california      m               college                     7524   \n",
       "8874  california      m               college                     2612   \n",
       "\n",
       "      income  monthly_premium_auto number_of_open_complaints     policy_type  \\\n",
       "0          0                  1000                         0   personal auto   \n",
       "1          0                    94                         0   personal auto   \n",
       "2      48767                   108                         0   personal auto   \n",
       "3          0                   106                         0  corporate auto   \n",
       "4      36357                    68                         0   personal auto   \n",
       "...      ...                   ...                       ...             ...   \n",
       "8870   71941                    73                         0   personal auto   \n",
       "8871   21604                    79                         0  corporate auto   \n",
       "8872       0                    85                         3  corporate auto   \n",
       "8873   21941                    96                         0   personal auto   \n",
       "8874       0                    77                         0  corporate auto   \n",
       "\n",
       "      vehicle_class  total_claim_amount  \n",
       "0     four-door car                   2  \n",
       "1     four-door car                1131  \n",
       "2      two-door car                 566  \n",
       "3               suv                 529  \n",
       "4     four-door car                  17  \n",
       "...             ...                 ...  \n",
       "8870  four-door car                 198  \n",
       "8871  four-door car                 379  \n",
       "8872  four-door car                 790  \n",
       "8873  four-door car                 691  \n",
       "8874   two-door car                 369  \n",
       "\n",
       "[8875 rows x 10 columns]"
      ]
     },
     "execution_count": 15,
     "metadata": {},
     "output_type": "execute_result"
    }
   ],
   "source": [
    "ca_df"
   ]
  },
  {
   "cell_type": "code",
   "execution_count": 16,
   "metadata": {},
   "outputs": [
    {
     "name": "stdout",
     "output_type": "stream",
     "text": [
      "<class 'pandas.core.frame.DataFrame'>\n",
      "RangeIndex: 8875 entries, 0 to 8874\n",
      "Data columns (total 10 columns):\n",
      " #   Column                     Non-Null Count  Dtype   \n",
      "---  ------                     --------------  -----   \n",
      " 0   st                         8875 non-null   category\n",
      " 1   gender                     8875 non-null   category\n",
      " 2   education                  8875 non-null   category\n",
      " 3   customer_lifetime_value    8875 non-null   int64   \n",
      " 4   income                     8875 non-null   int64   \n",
      " 5   monthly_premium_auto       8875 non-null   int64   \n",
      " 6   number_of_open_complaints  8875 non-null   category\n",
      " 7   policy_type                8875 non-null   category\n",
      " 8   vehicle_class              8875 non-null   category\n",
      " 9   total_claim_amount         8875 non-null   int64   \n",
      "dtypes: category(6), int64(4)\n",
      "memory usage: 330.6 KB\n"
     ]
    }
   ],
   "source": [
    "ca_df.info()"
   ]
  },
  {
   "cell_type": "markdown",
   "metadata": {},
   "source": [
    "# Importing Data"
   ]
  },
  {
   "cell_type": "code",
   "execution_count": 17,
   "metadata": {},
   "outputs": [],
   "source": [
    "file1 = pd.read_csv(\"Data/file1.csv\")\n",
    "file2 = pd.read_csv(\"Data/file2.csv\")\n",
    "file3 = pd.read_csv(\"Data/file3.csv\")"
   ]
  },
  {
   "cell_type": "markdown",
   "metadata": {},
   "source": [
    "## Checking the imported data"
   ]
  },
  {
   "cell_type": "markdown",
   "metadata": {},
   "source": [
    "First let's check if the shape of the 3 files is compatible."
   ]
  },
  {
   "cell_type": "code",
   "execution_count": 18,
   "metadata": {},
   "outputs": [
    {
     "name": "stdout",
     "output_type": "stream",
     "text": [
      "The shape of file1 is (4008, 11)\n",
      "The shape of file2 is (996, 11)\n",
      "The shape of file3 is (7070, 11)\n"
     ]
    }
   ],
   "source": [
    "print(f'The shape of file1 is {file1.shape}')\n",
    "print(f'The shape of file2 is {file2.shape}')\n",
    "print(f'The shape of file3 is {file3.shape}')\n"
   ]
  },
  {
   "cell_type": "markdown",
   "metadata": {},
   "source": [
    "They are. Now let's check if the headings are the same in order to avoid generating extra columns."
   ]
  },
  {
   "cell_type": "code",
   "execution_count": 19,
   "metadata": {},
   "outputs": [
    {
     "name": "stdout",
     "output_type": "stream",
     "text": [
      "set()\n",
      "{'Gender', 'GENDER', 'State', 'ST'}\n",
      "{'Gender', 'GENDER', 'State', 'ST'}\n"
     ]
    }
   ],
   "source": [
    "print(set(file1.columns) ^ set(file2.columns))\n",
    "print(set(file1.columns) ^ set(file3.columns))\n",
    "print(set(file2.columns) ^ set(file3.columns))"
   ]
  },
  {
   "cell_type": "markdown",
   "metadata": {},
   "source": [
    "Before concatenaiting the data I will change the heading of file3 to be the same as in file1 and 2"
   ]
  },
  {
   "cell_type": "code",
   "execution_count": 20,
   "metadata": {},
   "outputs": [],
   "source": [
    "file3.rename(columns={\"State\":\"ST\", \"Gender\": \"GENDER\"}, inplace=True)\n",
    "\n",
    "ca_df = pd.concat([file1,file2,file3]).reset_index(drop=True)"
   ]
  },
  {
   "cell_type": "markdown",
   "metadata": {},
   "source": [
    "Let's check everything looks right in terms of importing."
   ]
  },
  {
   "cell_type": "code",
   "execution_count": 21,
   "metadata": {},
   "outputs": [
    {
     "data": {
      "text/html": [
       "<div>\n",
       "<style scoped>\n",
       "    .dataframe tbody tr th:only-of-type {\n",
       "        vertical-align: middle;\n",
       "    }\n",
       "\n",
       "    .dataframe tbody tr th {\n",
       "        vertical-align: top;\n",
       "    }\n",
       "\n",
       "    .dataframe thead th {\n",
       "        text-align: right;\n",
       "    }\n",
       "</style>\n",
       "<table border=\"1\" class=\"dataframe\">\n",
       "  <thead>\n",
       "    <tr style=\"text-align: right;\">\n",
       "      <th></th>\n",
       "      <th>Customer</th>\n",
       "      <th>ST</th>\n",
       "      <th>GENDER</th>\n",
       "      <th>Education</th>\n",
       "      <th>Customer Lifetime Value</th>\n",
       "      <th>Income</th>\n",
       "      <th>Monthly Premium Auto</th>\n",
       "      <th>Number of Open Complaints</th>\n",
       "      <th>Policy Type</th>\n",
       "      <th>Vehicle Class</th>\n",
       "      <th>Total Claim Amount</th>\n",
       "    </tr>\n",
       "  </thead>\n",
       "  <tbody>\n",
       "    <tr>\n",
       "      <th>0</th>\n",
       "      <td>RB50392</td>\n",
       "      <td>Washington</td>\n",
       "      <td>NaN</td>\n",
       "      <td>Master</td>\n",
       "      <td>NaN</td>\n",
       "      <td>0.0</td>\n",
       "      <td>1000.0</td>\n",
       "      <td>1/0/00</td>\n",
       "      <td>Personal Auto</td>\n",
       "      <td>Four-Door Car</td>\n",
       "      <td>2.704934</td>\n",
       "    </tr>\n",
       "    <tr>\n",
       "      <th>1</th>\n",
       "      <td>QZ44356</td>\n",
       "      <td>Arizona</td>\n",
       "      <td>F</td>\n",
       "      <td>Bachelor</td>\n",
       "      <td>697953.59%</td>\n",
       "      <td>0.0</td>\n",
       "      <td>94.0</td>\n",
       "      <td>1/0/00</td>\n",
       "      <td>Personal Auto</td>\n",
       "      <td>Four-Door Car</td>\n",
       "      <td>1131.464935</td>\n",
       "    </tr>\n",
       "    <tr>\n",
       "      <th>2</th>\n",
       "      <td>AI49188</td>\n",
       "      <td>Nevada</td>\n",
       "      <td>F</td>\n",
       "      <td>Bachelor</td>\n",
       "      <td>1288743.17%</td>\n",
       "      <td>48767.0</td>\n",
       "      <td>108.0</td>\n",
       "      <td>1/0/00</td>\n",
       "      <td>Personal Auto</td>\n",
       "      <td>Two-Door Car</td>\n",
       "      <td>566.472247</td>\n",
       "    </tr>\n",
       "    <tr>\n",
       "      <th>3</th>\n",
       "      <td>WW63253</td>\n",
       "      <td>California</td>\n",
       "      <td>M</td>\n",
       "      <td>Bachelor</td>\n",
       "      <td>764586.18%</td>\n",
       "      <td>0.0</td>\n",
       "      <td>106.0</td>\n",
       "      <td>1/0/00</td>\n",
       "      <td>Corporate Auto</td>\n",
       "      <td>SUV</td>\n",
       "      <td>529.881344</td>\n",
       "    </tr>\n",
       "    <tr>\n",
       "      <th>4</th>\n",
       "      <td>GA49547</td>\n",
       "      <td>Washington</td>\n",
       "      <td>M</td>\n",
       "      <td>High School or Below</td>\n",
       "      <td>536307.65%</td>\n",
       "      <td>36357.0</td>\n",
       "      <td>68.0</td>\n",
       "      <td>1/0/00</td>\n",
       "      <td>Personal Auto</td>\n",
       "      <td>Four-Door Car</td>\n",
       "      <td>17.269323</td>\n",
       "    </tr>\n",
       "    <tr>\n",
       "      <th>...</th>\n",
       "      <td>...</td>\n",
       "      <td>...</td>\n",
       "      <td>...</td>\n",
       "      <td>...</td>\n",
       "      <td>...</td>\n",
       "      <td>...</td>\n",
       "      <td>...</td>\n",
       "      <td>...</td>\n",
       "      <td>...</td>\n",
       "      <td>...</td>\n",
       "      <td>...</td>\n",
       "    </tr>\n",
       "    <tr>\n",
       "      <th>12069</th>\n",
       "      <td>LA72316</td>\n",
       "      <td>California</td>\n",
       "      <td>M</td>\n",
       "      <td>Bachelor</td>\n",
       "      <td>23405.98798</td>\n",
       "      <td>71941.0</td>\n",
       "      <td>73.0</td>\n",
       "      <td>0</td>\n",
       "      <td>Personal Auto</td>\n",
       "      <td>Four-Door Car</td>\n",
       "      <td>198.234764</td>\n",
       "    </tr>\n",
       "    <tr>\n",
       "      <th>12070</th>\n",
       "      <td>PK87824</td>\n",
       "      <td>California</td>\n",
       "      <td>F</td>\n",
       "      <td>College</td>\n",
       "      <td>3096.511217</td>\n",
       "      <td>21604.0</td>\n",
       "      <td>79.0</td>\n",
       "      <td>0</td>\n",
       "      <td>Corporate Auto</td>\n",
       "      <td>Four-Door Car</td>\n",
       "      <td>379.200000</td>\n",
       "    </tr>\n",
       "    <tr>\n",
       "      <th>12071</th>\n",
       "      <td>TD14365</td>\n",
       "      <td>California</td>\n",
       "      <td>M</td>\n",
       "      <td>Bachelor</td>\n",
       "      <td>8163.890428</td>\n",
       "      <td>0.0</td>\n",
       "      <td>85.0</td>\n",
       "      <td>3</td>\n",
       "      <td>Corporate Auto</td>\n",
       "      <td>Four-Door Car</td>\n",
       "      <td>790.784983</td>\n",
       "    </tr>\n",
       "    <tr>\n",
       "      <th>12072</th>\n",
       "      <td>UP19263</td>\n",
       "      <td>California</td>\n",
       "      <td>M</td>\n",
       "      <td>College</td>\n",
       "      <td>7524.442436</td>\n",
       "      <td>21941.0</td>\n",
       "      <td>96.0</td>\n",
       "      <td>0</td>\n",
       "      <td>Personal Auto</td>\n",
       "      <td>Four-Door Car</td>\n",
       "      <td>691.200000</td>\n",
       "    </tr>\n",
       "    <tr>\n",
       "      <th>12073</th>\n",
       "      <td>Y167826</td>\n",
       "      <td>California</td>\n",
       "      <td>M</td>\n",
       "      <td>College</td>\n",
       "      <td>2611.836866</td>\n",
       "      <td>0.0</td>\n",
       "      <td>77.0</td>\n",
       "      <td>0</td>\n",
       "      <td>Corporate Auto</td>\n",
       "      <td>Two-Door Car</td>\n",
       "      <td>369.600000</td>\n",
       "    </tr>\n",
       "  </tbody>\n",
       "</table>\n",
       "<p>12074 rows × 11 columns</p>\n",
       "</div>"
      ],
      "text/plain": [
       "      Customer          ST GENDER             Education  \\\n",
       "0      RB50392  Washington    NaN                Master   \n",
       "1      QZ44356     Arizona      F              Bachelor   \n",
       "2      AI49188      Nevada      F              Bachelor   \n",
       "3      WW63253  California      M              Bachelor   \n",
       "4      GA49547  Washington      M  High School or Below   \n",
       "...        ...         ...    ...                   ...   \n",
       "12069  LA72316  California      M              Bachelor   \n",
       "12070  PK87824  California      F               College   \n",
       "12071  TD14365  California      M              Bachelor   \n",
       "12072  UP19263  California      M               College   \n",
       "12073  Y167826  California      M               College   \n",
       "\n",
       "      Customer Lifetime Value   Income  Monthly Premium Auto  \\\n",
       "0                         NaN      0.0                1000.0   \n",
       "1                  697953.59%      0.0                  94.0   \n",
       "2                 1288743.17%  48767.0                 108.0   \n",
       "3                  764586.18%      0.0                 106.0   \n",
       "4                  536307.65%  36357.0                  68.0   \n",
       "...                       ...      ...                   ...   \n",
       "12069             23405.98798  71941.0                  73.0   \n",
       "12070             3096.511217  21604.0                  79.0   \n",
       "12071             8163.890428      0.0                  85.0   \n",
       "12072             7524.442436  21941.0                  96.0   \n",
       "12073             2611.836866      0.0                  77.0   \n",
       "\n",
       "      Number of Open Complaints     Policy Type  Vehicle Class  \\\n",
       "0                        1/0/00   Personal Auto  Four-Door Car   \n",
       "1                        1/0/00   Personal Auto  Four-Door Car   \n",
       "2                        1/0/00   Personal Auto   Two-Door Car   \n",
       "3                        1/0/00  Corporate Auto            SUV   \n",
       "4                        1/0/00   Personal Auto  Four-Door Car   \n",
       "...                         ...             ...            ...   \n",
       "12069                         0   Personal Auto  Four-Door Car   \n",
       "12070                         0  Corporate Auto  Four-Door Car   \n",
       "12071                         3  Corporate Auto  Four-Door Car   \n",
       "12072                         0   Personal Auto  Four-Door Car   \n",
       "12073                         0  Corporate Auto   Two-Door Car   \n",
       "\n",
       "       Total Claim Amount  \n",
       "0                2.704934  \n",
       "1             1131.464935  \n",
       "2              566.472247  \n",
       "3              529.881344  \n",
       "4               17.269323  \n",
       "...                   ...  \n",
       "12069          198.234764  \n",
       "12070          379.200000  \n",
       "12071          790.784983  \n",
       "12072          691.200000  \n",
       "12073          369.600000  \n",
       "\n",
       "[12074 rows x 11 columns]"
      ]
     },
     "execution_count": 21,
     "metadata": {},
     "output_type": "execute_result"
    }
   ],
   "source": [
    "ca_df"
   ]
  },
  {
   "cell_type": "markdown",
   "metadata": {},
   "source": [
    "# Standardizing Headings"
   ]
  },
  {
   "cell_type": "code",
   "execution_count": 22,
   "metadata": {},
   "outputs": [],
   "source": [
    "\n",
    "ca_df = standard_headings(ca_df)   "
   ]
  },
  {
   "cell_type": "markdown",
   "metadata": {},
   "source": [
    "# Deleting and rearranging columns"
   ]
  },
  {
   "cell_type": "markdown",
   "metadata": {},
   "source": [
    "We drop the column customer, as we dont need it for our analysis. We wrap the operation in a function. The function will be used in the Pipeline Controller."
   ]
  },
  {
   "cell_type": "code",
   "execution_count": 23,
   "metadata": {},
   "outputs": [],
   "source": [
    "ca_df = ca_df.drop([\"customer\"], axis=1)"
   ]
  },
  {
   "cell_type": "markdown",
   "metadata": {},
   "source": [
    "Let us check how the dataframe looks now."
   ]
  },
  {
   "cell_type": "code",
   "execution_count": 24,
   "metadata": {},
   "outputs": [
    {
     "data": {
      "text/html": [
       "<div>\n",
       "<style scoped>\n",
       "    .dataframe tbody tr th:only-of-type {\n",
       "        vertical-align: middle;\n",
       "    }\n",
       "\n",
       "    .dataframe tbody tr th {\n",
       "        vertical-align: top;\n",
       "    }\n",
       "\n",
       "    .dataframe thead th {\n",
       "        text-align: right;\n",
       "    }\n",
       "</style>\n",
       "<table border=\"1\" class=\"dataframe\">\n",
       "  <thead>\n",
       "    <tr style=\"text-align: right;\">\n",
       "      <th></th>\n",
       "      <th>st</th>\n",
       "      <th>gender</th>\n",
       "      <th>education</th>\n",
       "      <th>customer_lifetime_value</th>\n",
       "      <th>income</th>\n",
       "      <th>monthly_premium_auto</th>\n",
       "      <th>number_of_open_complaints</th>\n",
       "      <th>policy_type</th>\n",
       "      <th>vehicle_class</th>\n",
       "      <th>total_claim_amount</th>\n",
       "    </tr>\n",
       "  </thead>\n",
       "  <tbody>\n",
       "    <tr>\n",
       "      <th>0</th>\n",
       "      <td>Washington</td>\n",
       "      <td>NaN</td>\n",
       "      <td>Master</td>\n",
       "      <td>NaN</td>\n",
       "      <td>0.0</td>\n",
       "      <td>1000.0</td>\n",
       "      <td>1/0/00</td>\n",
       "      <td>Personal Auto</td>\n",
       "      <td>Four-Door Car</td>\n",
       "      <td>2.704934</td>\n",
       "    </tr>\n",
       "    <tr>\n",
       "      <th>1</th>\n",
       "      <td>Arizona</td>\n",
       "      <td>F</td>\n",
       "      <td>Bachelor</td>\n",
       "      <td>697953.59%</td>\n",
       "      <td>0.0</td>\n",
       "      <td>94.0</td>\n",
       "      <td>1/0/00</td>\n",
       "      <td>Personal Auto</td>\n",
       "      <td>Four-Door Car</td>\n",
       "      <td>1131.464935</td>\n",
       "    </tr>\n",
       "    <tr>\n",
       "      <th>2</th>\n",
       "      <td>Nevada</td>\n",
       "      <td>F</td>\n",
       "      <td>Bachelor</td>\n",
       "      <td>1288743.17%</td>\n",
       "      <td>48767.0</td>\n",
       "      <td>108.0</td>\n",
       "      <td>1/0/00</td>\n",
       "      <td>Personal Auto</td>\n",
       "      <td>Two-Door Car</td>\n",
       "      <td>566.472247</td>\n",
       "    </tr>\n",
       "    <tr>\n",
       "      <th>3</th>\n",
       "      <td>California</td>\n",
       "      <td>M</td>\n",
       "      <td>Bachelor</td>\n",
       "      <td>764586.18%</td>\n",
       "      <td>0.0</td>\n",
       "      <td>106.0</td>\n",
       "      <td>1/0/00</td>\n",
       "      <td>Corporate Auto</td>\n",
       "      <td>SUV</td>\n",
       "      <td>529.881344</td>\n",
       "    </tr>\n",
       "    <tr>\n",
       "      <th>4</th>\n",
       "      <td>Washington</td>\n",
       "      <td>M</td>\n",
       "      <td>High School or Below</td>\n",
       "      <td>536307.65%</td>\n",
       "      <td>36357.0</td>\n",
       "      <td>68.0</td>\n",
       "      <td>1/0/00</td>\n",
       "      <td>Personal Auto</td>\n",
       "      <td>Four-Door Car</td>\n",
       "      <td>17.269323</td>\n",
       "    </tr>\n",
       "  </tbody>\n",
       "</table>\n",
       "</div>"
      ],
      "text/plain": [
       "           st gender             education customer_lifetime_value   income  \\\n",
       "0  Washington    NaN                Master                     NaN      0.0   \n",
       "1     Arizona      F              Bachelor              697953.59%      0.0   \n",
       "2      Nevada      F              Bachelor             1288743.17%  48767.0   \n",
       "3  California      M              Bachelor              764586.18%      0.0   \n",
       "4  Washington      M  High School or Below              536307.65%  36357.0   \n",
       "\n",
       "   monthly_premium_auto number_of_open_complaints     policy_type  \\\n",
       "0                1000.0                    1/0/00   Personal Auto   \n",
       "1                  94.0                    1/0/00   Personal Auto   \n",
       "2                 108.0                    1/0/00   Personal Auto   \n",
       "3                 106.0                    1/0/00  Corporate Auto   \n",
       "4                  68.0                    1/0/00   Personal Auto   \n",
       "\n",
       "   vehicle_class  total_claim_amount  \n",
       "0  Four-Door Car            2.704934  \n",
       "1  Four-Door Car         1131.464935  \n",
       "2   Two-Door Car          566.472247  \n",
       "3            SUV          529.881344  \n",
       "4  Four-Door Car           17.269323  "
      ]
     },
     "execution_count": 24,
     "metadata": {},
     "output_type": "execute_result"
    }
   ],
   "source": [
    "ca_df.head()"
   ]
  },
  {
   "cell_type": "markdown",
   "metadata": {},
   "source": [
    "# Correcting data types"
   ]
  },
  {
   "cell_type": "markdown",
   "metadata": {},
   "source": [
    "First let's show the datatypes we have in our dataframe."
   ]
  },
  {
   "cell_type": "code",
   "execution_count": 25,
   "metadata": {},
   "outputs": [
    {
     "name": "stdout",
     "output_type": "stream",
     "text": [
      "<class 'pandas.core.frame.DataFrame'>\n",
      "RangeIndex: 12074 entries, 0 to 12073\n",
      "Data columns (total 10 columns):\n",
      " #   Column                     Non-Null Count  Dtype  \n",
      "---  ------                     --------------  -----  \n",
      " 0   st                         9137 non-null   object \n",
      " 1   gender                     9015 non-null   object \n",
      " 2   education                  9137 non-null   object \n",
      " 3   customer_lifetime_value    9130 non-null   object \n",
      " 4   income                     9137 non-null   float64\n",
      " 5   monthly_premium_auto       9137 non-null   float64\n",
      " 6   number_of_open_complaints  9137 non-null   object \n",
      " 7   policy_type                9137 non-null   object \n",
      " 8   vehicle_class              9137 non-null   object \n",
      " 9   total_claim_amount         9137 non-null   float64\n",
      "dtypes: float64(3), object(7)\n",
      "memory usage: 943.4+ KB\n"
     ]
    }
   ],
   "source": [
    "ca_df.info()"
   ]
  },
  {
   "cell_type": "markdown",
   "metadata": {},
   "source": [
    "Customer_lifetime_value and number_of_open_complaints should be numeric. Let's take a deeper look into these two."
   ]
  },
  {
   "cell_type": "code",
   "execution_count": 26,
   "metadata": {},
   "outputs": [
    {
     "name": "stdout",
     "output_type": "stream",
     "text": [
      "{<class 'str'>, <class 'float'>}\n",
      "{<class 'str'>, <class 'float'>, <class 'int'>}\n"
     ]
    }
   ],
   "source": [
    "print(set([type(item) for item in ca_df.customer_lifetime_value]))\n",
    "print(set([type(item) for item in ca_df.number_of_open_complaints]))\n"
   ]
  },
  {
   "cell_type": "markdown",
   "metadata": {},
   "source": [
    "We need to convert into float/integer the strings. In addition:\n",
    "\n",
    "- Customer_lifetime_value: some of the data ends with symbol %\n",
    "- number_of_open_complaints: some of the data is presented in the form n1/n2/n3. Analyzing it we can figure out that the number of complaints is actually n2 (n1 seems to be a control number taking only values 0 or 1 and n3 is always 0)\n",
    "\n",
    "The option of mapping a function in the corresponding data series has been explored below. I will use a lambda function instead of a dedicated function because the purpose of the function is very specific and it is unlikely to be reused."
   ]
  },
  {
   "cell_type": "code",
   "execution_count": 27,
   "metadata": {},
   "outputs": [],
   "source": [
    "#If the value is a string\n",
    "## strip the symbol %, convert into float and round to 0 decimals\n",
    "## Else check if the valu is Nan\n",
    "### if yes return value\n",
    "### if not round to 0 decimals\n",
    "\n",
    "ca_df.customer_lifetime_value = ca_df.customer_lifetime_value.apply(lambda x: np.round(float(x.strip(\"%\"))*100) if type(x)==str else np.round(x) if x==x else x)"
   ]
  },
  {
   "cell_type": "code",
   "execution_count": 28,
   "metadata": {},
   "outputs": [],
   "source": [
    "# If the value is a string of the form n/n/n\n",
    "## Split it into a list, convert it into array of int and apply sum()\n",
    "## Else return the value\n",
    "\n",
    "ca_df.number_of_open_complaints = ca_df.number_of_open_complaints.apply(lambda x: np.array(x.split(\"/\"), dtype=int)[1] if type(x)==str else x)"
   ]
  },
  {
   "cell_type": "markdown",
   "metadata": {},
   "source": [
    "Let us see the result."
   ]
  },
  {
   "cell_type": "code",
   "execution_count": 29,
   "metadata": {},
   "outputs": [
    {
     "name": "stdout",
     "output_type": "stream",
     "text": [
      "<class 'pandas.core.frame.DataFrame'>\n",
      "RangeIndex: 12074 entries, 0 to 12073\n",
      "Data columns (total 10 columns):\n",
      " #   Column                     Non-Null Count  Dtype  \n",
      "---  ------                     --------------  -----  \n",
      " 0   st                         9137 non-null   object \n",
      " 1   gender                     9015 non-null   object \n",
      " 2   education                  9137 non-null   object \n",
      " 3   customer_lifetime_value    9130 non-null   float64\n",
      " 4   income                     9137 non-null   float64\n",
      " 5   monthly_premium_auto       9137 non-null   float64\n",
      " 6   number_of_open_complaints  9137 non-null   float64\n",
      " 7   policy_type                9137 non-null   object \n",
      " 8   vehicle_class              9137 non-null   object \n",
      " 9   total_claim_amount         9137 non-null   float64\n",
      "dtypes: float64(5), object(5)\n",
      "memory usage: 943.4+ KB\n"
     ]
    }
   ],
   "source": [
    "ca_df.info()"
   ]
  },
  {
   "cell_type": "markdown",
   "metadata": {},
   "source": [
    "# Filtering data and Correcting typos"
   ]
  },
  {
   "cell_type": "markdown",
   "metadata": {},
   "source": [
    "Columns gender and st have obvious problems that need to be cleaned."
   ]
  },
  {
   "cell_type": "code",
   "execution_count": 30,
   "metadata": {},
   "outputs": [
    {
     "name": "stdout",
     "output_type": "stream",
     "text": [
      "F         4560\n",
      "M         4368\n",
      "NaN       3059\n",
      "Male        40\n",
      "female      30\n",
      "Femal       17\n",
      "Name: gender, dtype: int64\n",
      "\n",
      "California    3032\n",
      "NaN           2937\n",
      "Oregon        2601\n",
      "Arizona       1630\n",
      "Nevada         882\n",
      "Washington     768\n",
      "Cali           120\n",
      "AZ              74\n",
      "WA              30\n",
      "Name: st, dtype: int64\n"
     ]
    }
   ],
   "source": [
    "print(ca_df.gender.value_counts(dropna=False))\n",
    "print()\n",
    "print(ca_df.st.value_counts(dropna=False))"
   ]
  },
  {
   "cell_type": "markdown",
   "metadata": {},
   "source": [
    "- column st: we will reduce the data to the following unique values [Washington, California, Arizona, Oregon, Nevada]\n",
    "- column gender: we will reduce the data to the following unique values [M, F]\n",
    "\n",
    "For this we create a clean_series() function and a clean_one_series() helper function. I decided to use generic functions here because I think they could be used in the future for other projects. The version with a dedicated functions is in a commented cell at the end of this section."
   ]
  },
  {
   "cell_type": "code",
   "execution_count": 31,
   "metadata": {},
   "outputs": [],
   "source": [
    "cleaning_dict = {\"F\":\"F\", \"female\":\"F\", \"Femal\":\"F\", \n",
    "                 \"M\":\"M\", \"Male\":\"M\", \n",
    "                 \"California\": \"California\", \"Cali\": \"California\", \n",
    "                 \"Arizona\":\"Arizona\",\"AZ\":\"Arizona\", \n",
    "                 \"Washington\":\"Washington\", \"WA\":\"Washington\",\n",
    "                 \"Oregon\":\"Oregon\",\n",
    "                 \"Nevada\":\"Nevada\",\n",
    "                 np.nan:np.nan\n",
    "                 }"
   ]
  },
  {
   "cell_type": "code",
   "execution_count": 32,
   "metadata": {},
   "outputs": [],
   "source": [
    "\n",
    "ca_df = bucket_series(ca_df, [\"gender\", \"st\"], cleaning_dict)"
   ]
  },
  {
   "cell_type": "code",
   "execution_count": 33,
   "metadata": {},
   "outputs": [
    {
     "name": "stdout",
     "output_type": "stream",
     "text": [
      "F      4607\n",
      "M      4408\n",
      "NaN    3059\n",
      "Name: gender, dtype: int64\n",
      "\n",
      "California    3152\n",
      "NaN           2937\n",
      "Oregon        2601\n",
      "Arizona       1704\n",
      "Nevada         882\n",
      "Washington     798\n",
      "Name: st, dtype: int64\n"
     ]
    }
   ],
   "source": [
    "print(ca_df.gender.value_counts(dropna=False))\n",
    "print()\n",
    "print(ca_df.st.value_counts(dropna=False))"
   ]
  },
  {
   "cell_type": "markdown",
   "metadata": {},
   "source": [
    "# Removing Duplicates"
   ]
  },
  {
   "cell_type": "markdown",
   "metadata": {},
   "source": [
    "Here we remove duplicate row.\n",
    "There were (12074 - 8876) = 3198 duplicated rows"
   ]
  },
  {
   "cell_type": "code",
   "execution_count": 34,
   "metadata": {},
   "outputs": [],
   "source": [
    "ca_df.drop_duplicates(inplace=True)\n",
    "ca_df = ca_df.reset_index(drop=True)"
   ]
  },
  {
   "cell_type": "code",
   "execution_count": 35,
   "metadata": {},
   "outputs": [
    {
     "name": "stdout",
     "output_type": "stream",
     "text": [
      "F      4479\n",
      "M      4274\n",
      "NaN     123\n",
      "Name: gender, dtype: int64\n",
      "\n",
      "California    3039\n",
      "Oregon        2512\n",
      "Arizona       1665\n",
      "Nevada         867\n",
      "Washington     792\n",
      "NaN              1\n",
      "Name: st, dtype: int64\n"
     ]
    }
   ],
   "source": [
    "print(ca_df.gender.value_counts(dropna=False))\n",
    "print()\n",
    "print(ca_df.st.value_counts(dropna=False))"
   ]
  },
  {
   "cell_type": "markdown",
   "metadata": {},
   "source": [
    "# Replacing null values\n"
   ]
  },
  {
   "cell_type": "markdown",
   "metadata": {},
   "source": [
    "## Numeric Columns"
   ]
  },
  {
   "cell_type": "markdown",
   "metadata": {},
   "source": [
    "For the numeric values we will replace nan values with the mean. The following functions have been created:\n",
    "\n",
    "- replace_by_mean()\n",
    "- nan_counter() -only for checking purposes-\n",
    "\n"
   ]
  },
  {
   "cell_type": "code",
   "execution_count": 36,
   "metadata": {},
   "outputs": [],
   "source": [
    "columns_list = [\"customer_lifetime_value\", \"income\", \"monthly_premium_auto\", \"number_of_open_complaints\", \"total_claim_amount\"]\n",
    "ca_df = replace_by(ca_df, columns_list)"
   ]
  },
  {
   "cell_type": "code",
   "execution_count": 37,
   "metadata": {},
   "outputs": [
    {
     "data": {
      "text/plain": [
       "pandas.core.frame.DataFrame"
      ]
     },
     "execution_count": 37,
     "metadata": {},
     "output_type": "execute_result"
    }
   ],
   "source": [
    "type(ca_df)"
   ]
  },
  {
   "cell_type": "code",
   "execution_count": 38,
   "metadata": {},
   "outputs": [
    {
     "name": "stdout",
     "output_type": "stream",
     "text": [
      "{'st': 1, 'gender': 123, 'education': 1, 'customer_lifetime_value': 0, 'income': 0, 'monthly_premium_auto': 0, 'number_of_open_complaints': 0, 'policy_type': 1, 'vehicle_class': 1, 'total_claim_amount': 0}\n"
     ]
    }
   ],
   "source": [
    "print(nan_counter(ca_df))"
   ]
  },
  {
   "cell_type": "markdown",
   "metadata": {},
   "source": [
    "### What about the income column?"
   ]
  },
  {
   "cell_type": "markdown",
   "metadata": {},
   "source": [
    "The income columns has more than 2,000 values=0. Does that make sense? Not really"
   ]
  },
  {
   "cell_type": "code",
   "execution_count": 39,
   "metadata": {},
   "outputs": [
    {
     "data": {
      "text/plain": [
       "2256"
      ]
     },
     "execution_count": 39,
     "metadata": {},
     "output_type": "execute_result"
    }
   ],
   "source": [
    "ca_df.income[ca_df.income == 0].size"
   ]
  },
  {
   "cell_type": "code",
   "execution_count": 40,
   "metadata": {},
   "outputs": [
    {
     "data": {
      "text/plain": [
       "<AxesSubplot:>"
      ]
     },
     "execution_count": 40,
     "metadata": {},
     "output_type": "execute_result"
    },
    {
     "data": {
      "image/png": "[encoded data removed]",
      "text/plain": [
       "<Figure size 432x288 with 1 Axes>"
      ]
     },
     "metadata": {
      "needs_background": "light"
     },
     "output_type": "display_data"
    }
   ],
   "source": [
    "ca_df.income.hist()"
   ]
  },
  {
   "cell_type": "markdown",
   "metadata": {},
   "source": [
    "Let us replace the zeros by the Income mean (calculated exlcuding zeros)."
   ]
  },
  {
   "cell_type": "code",
   "execution_count": 41,
   "metadata": {},
   "outputs": [],
   "source": [
    "ca_df = replace_by(ca_df, [\"income\"], replace_zeros=True)"
   ]
  },
  {
   "cell_type": "code",
   "execution_count": 42,
   "metadata": {},
   "outputs": [
    {
     "data": {
      "text/plain": [
       "0"
      ]
     },
     "execution_count": 42,
     "metadata": {},
     "output_type": "execute_result"
    }
   ],
   "source": [
    "ca_df.income[ca_df.income == 0].size"
   ]
  },
  {
   "cell_type": "code",
   "execution_count": 43,
   "metadata": {},
   "outputs": [
    {
     "data": {
      "text/plain": [
       "<AxesSubplot:>"
      ]
     },
     "execution_count": 43,
     "metadata": {},
     "output_type": "execute_result"
    },
    {
     "data": {
      "image/png": "[encoded data removed]",
      "text/plain": [
       "<Figure size 432x288 with 1 Axes>"
      ]
     },
     "metadata": {
      "needs_background": "light"
     },
     "output_type": "display_data"
    }
   ],
   "source": [
    "ca_df.income.hist()"
   ]
  },
  {
   "cell_type": "markdown",
   "metadata": {},
   "source": [
    "Now that we don't have Nan values we can convert floats to integer if appropiate. In this case all the numeric columns can be converted to int without losing significant precision. Again we define a function for this."
   ]
  },
  {
   "cell_type": "code",
   "execution_count": 44,
   "metadata": {},
   "outputs": [
    {
     "name": "stdout",
     "output_type": "stream",
     "text": [
      "<class 'pandas.core.frame.DataFrame'>\n",
      "RangeIndex: 8876 entries, 0 to 8875\n",
      "Data columns (total 10 columns):\n",
      " #   Column                     Non-Null Count  Dtype \n",
      "---  ------                     --------------  ----- \n",
      " 0   st                         8875 non-null   object\n",
      " 1   gender                     8753 non-null   object\n",
      " 2   education                  8875 non-null   object\n",
      " 3   customer_lifetime_value    8876 non-null   int64 \n",
      " 4   income                     8876 non-null   int64 \n",
      " 5   monthly_premium_auto       8876 non-null   int64 \n",
      " 6   number_of_open_complaints  8876 non-null   int64 \n",
      " 7   policy_type                8875 non-null   object\n",
      " 8   vehicle_class              8875 non-null   object\n",
      " 9   total_claim_amount         8876 non-null   int64 \n",
      "dtypes: int64(5), object(5)\n",
      "memory usage: 693.6+ KB\n"
     ]
    }
   ],
   "source": [
    "float_to_int(ca_df, columns_list)\n",
    "ca_df.info()"
   ]
  },
  {
   "cell_type": "markdown",
   "metadata": {},
   "source": [
    "## Categorical columns"
   ]
  },
  {
   "cell_type": "markdown",
   "metadata": {},
   "source": [
    "Nan value rows dropped in those column with only one occurrence. In the gender column Nan values replace by \"U\" (for Unknown)."
   ]
  },
  {
   "cell_type": "code",
   "execution_count": 45,
   "metadata": {},
   "outputs": [
    {
     "name": "stdout",
     "output_type": "stream",
     "text": [
      "{'st': 1, 'gender': 123, 'education': 1, 'customer_lifetime_value': 0, 'income': 0, 'monthly_premium_auto': 0, 'number_of_open_complaints': 0, 'policy_type': 1, 'vehicle_class': 1, 'total_claim_amount': 0}\n"
     ]
    }
   ],
   "source": [
    "print(nan_counter(ca_df))"
   ]
  },
  {
   "cell_type": "code",
   "execution_count": 46,
   "metadata": {},
   "outputs": [],
   "source": [
    "ca_df = replace_by_cat(ca_df, [(\"gender\", \"U\")])\n",
    "ca_df.dropna(inplace=True)"
   ]
  },
  {
   "cell_type": "code",
   "execution_count": 47,
   "metadata": {},
   "outputs": [
    {
     "name": "stdout",
     "output_type": "stream",
     "text": [
      "{'st': 0, 'gender': 0, 'education': 0, 'customer_lifetime_value': 0, 'income': 0, 'monthly_premium_auto': 0, 'number_of_open_complaints': 0, 'policy_type': 0, 'vehicle_class': 0, 'total_claim_amount': 0}\n"
     ]
    }
   ],
   "source": [
    "print(nan_counter(ca_df))"
   ]
  },
  {
   "cell_type": "markdown",
   "metadata": {},
   "source": [
    "Let us see how the data looks now."
   ]
  },
  {
   "cell_type": "code",
   "execution_count": 48,
   "metadata": {},
   "outputs": [
    {
     "data": {
      "text/html": [
       "<div>\n",
       "<style scoped>\n",
       "    .dataframe tbody tr th:only-of-type {\n",
       "        vertical-align: middle;\n",
       "    }\n",
       "\n",
       "    .dataframe tbody tr th {\n",
       "        vertical-align: top;\n",
       "    }\n",
       "\n",
       "    .dataframe thead th {\n",
       "        text-align: right;\n",
       "    }\n",
       "</style>\n",
       "<table border=\"1\" class=\"dataframe\">\n",
       "  <thead>\n",
       "    <tr style=\"text-align: right;\">\n",
       "      <th></th>\n",
       "      <th>st</th>\n",
       "      <th>gender</th>\n",
       "      <th>education</th>\n",
       "      <th>customer_lifetime_value</th>\n",
       "      <th>income</th>\n",
       "      <th>monthly_premium_auto</th>\n",
       "      <th>number_of_open_complaints</th>\n",
       "      <th>policy_type</th>\n",
       "      <th>vehicle_class</th>\n",
       "      <th>total_claim_amount</th>\n",
       "    </tr>\n",
       "  </thead>\n",
       "  <tbody>\n",
       "    <tr>\n",
       "      <th>0</th>\n",
       "      <td>Washington</td>\n",
       "      <td>U</td>\n",
       "      <td>Master</td>\n",
       "      <td>17946226</td>\n",
       "      <td>50712</td>\n",
       "      <td>1000</td>\n",
       "      <td>0</td>\n",
       "      <td>Personal Auto</td>\n",
       "      <td>Four-Door Car</td>\n",
       "      <td>2</td>\n",
       "    </tr>\n",
       "    <tr>\n",
       "      <th>1</th>\n",
       "      <td>Arizona</td>\n",
       "      <td>F</td>\n",
       "      <td>Bachelor</td>\n",
       "      <td>69795359</td>\n",
       "      <td>50712</td>\n",
       "      <td>94</td>\n",
       "      <td>0</td>\n",
       "      <td>Personal Auto</td>\n",
       "      <td>Four-Door Car</td>\n",
       "      <td>1131</td>\n",
       "    </tr>\n",
       "    <tr>\n",
       "      <th>2</th>\n",
       "      <td>Nevada</td>\n",
       "      <td>F</td>\n",
       "      <td>Bachelor</td>\n",
       "      <td>128874317</td>\n",
       "      <td>48767</td>\n",
       "      <td>108</td>\n",
       "      <td>0</td>\n",
       "      <td>Personal Auto</td>\n",
       "      <td>Two-Door Car</td>\n",
       "      <td>566</td>\n",
       "    </tr>\n",
       "    <tr>\n",
       "      <th>3</th>\n",
       "      <td>California</td>\n",
       "      <td>M</td>\n",
       "      <td>Bachelor</td>\n",
       "      <td>76458618</td>\n",
       "      <td>50712</td>\n",
       "      <td>106</td>\n",
       "      <td>0</td>\n",
       "      <td>Corporate Auto</td>\n",
       "      <td>SUV</td>\n",
       "      <td>529</td>\n",
       "    </tr>\n",
       "    <tr>\n",
       "      <th>4</th>\n",
       "      <td>Washington</td>\n",
       "      <td>M</td>\n",
       "      <td>High School or Below</td>\n",
       "      <td>53630765</td>\n",
       "      <td>36357</td>\n",
       "      <td>68</td>\n",
       "      <td>0</td>\n",
       "      <td>Personal Auto</td>\n",
       "      <td>Four-Door Car</td>\n",
       "      <td>17</td>\n",
       "    </tr>\n",
       "    <tr>\n",
       "      <th>...</th>\n",
       "      <td>...</td>\n",
       "      <td>...</td>\n",
       "      <td>...</td>\n",
       "      <td>...</td>\n",
       "      <td>...</td>\n",
       "      <td>...</td>\n",
       "      <td>...</td>\n",
       "      <td>...</td>\n",
       "      <td>...</td>\n",
       "      <td>...</td>\n",
       "    </tr>\n",
       "    <tr>\n",
       "      <th>8871</th>\n",
       "      <td>California</td>\n",
       "      <td>M</td>\n",
       "      <td>Bachelor</td>\n",
       "      <td>23406</td>\n",
       "      <td>71941</td>\n",
       "      <td>73</td>\n",
       "      <td>0</td>\n",
       "      <td>Personal Auto</td>\n",
       "      <td>Four-Door Car</td>\n",
       "      <td>198</td>\n",
       "    </tr>\n",
       "    <tr>\n",
       "      <th>8872</th>\n",
       "      <td>California</td>\n",
       "      <td>F</td>\n",
       "      <td>College</td>\n",
       "      <td>3097</td>\n",
       "      <td>21604</td>\n",
       "      <td>79</td>\n",
       "      <td>0</td>\n",
       "      <td>Corporate Auto</td>\n",
       "      <td>Four-Door Car</td>\n",
       "      <td>379</td>\n",
       "    </tr>\n",
       "    <tr>\n",
       "      <th>8873</th>\n",
       "      <td>California</td>\n",
       "      <td>M</td>\n",
       "      <td>Bachelor</td>\n",
       "      <td>8164</td>\n",
       "      <td>50712</td>\n",
       "      <td>85</td>\n",
       "      <td>3</td>\n",
       "      <td>Corporate Auto</td>\n",
       "      <td>Four-Door Car</td>\n",
       "      <td>790</td>\n",
       "    </tr>\n",
       "    <tr>\n",
       "      <th>8874</th>\n",
       "      <td>California</td>\n",
       "      <td>M</td>\n",
       "      <td>College</td>\n",
       "      <td>7524</td>\n",
       "      <td>21941</td>\n",
       "      <td>96</td>\n",
       "      <td>0</td>\n",
       "      <td>Personal Auto</td>\n",
       "      <td>Four-Door Car</td>\n",
       "      <td>691</td>\n",
       "    </tr>\n",
       "    <tr>\n",
       "      <th>8875</th>\n",
       "      <td>California</td>\n",
       "      <td>M</td>\n",
       "      <td>College</td>\n",
       "      <td>2612</td>\n",
       "      <td>50712</td>\n",
       "      <td>77</td>\n",
       "      <td>0</td>\n",
       "      <td>Corporate Auto</td>\n",
       "      <td>Two-Door Car</td>\n",
       "      <td>369</td>\n",
       "    </tr>\n",
       "  </tbody>\n",
       "</table>\n",
       "<p>8875 rows × 10 columns</p>\n",
       "</div>"
      ],
      "text/plain": [
       "              st gender             education  customer_lifetime_value  \\\n",
       "0     Washington      U                Master                 17946226   \n",
       "1        Arizona      F              Bachelor                 69795359   \n",
       "2         Nevada      F              Bachelor                128874317   \n",
       "3     California      M              Bachelor                 76458618   \n",
       "4     Washington      M  High School or Below                 53630765   \n",
       "...          ...    ...                   ...                      ...   \n",
       "8871  California      M              Bachelor                    23406   \n",
       "8872  California      F               College                     3097   \n",
       "8873  California      M              Bachelor                     8164   \n",
       "8874  California      M               College                     7524   \n",
       "8875  California      M               College                     2612   \n",
       "\n",
       "      income  monthly_premium_auto  number_of_open_complaints     policy_type  \\\n",
       "0      50712                  1000                          0   Personal Auto   \n",
       "1      50712                    94                          0   Personal Auto   \n",
       "2      48767                   108                          0   Personal Auto   \n",
       "3      50712                   106                          0  Corporate Auto   \n",
       "4      36357                    68                          0   Personal Auto   \n",
       "...      ...                   ...                        ...             ...   \n",
       "8871   71941                    73                          0   Personal Auto   \n",
       "8872   21604                    79                          0  Corporate Auto   \n",
       "8873   50712                    85                          3  Corporate Auto   \n",
       "8874   21941                    96                          0   Personal Auto   \n",
       "8875   50712                    77                          0  Corporate Auto   \n",
       "\n",
       "      vehicle_class  total_claim_amount  \n",
       "0     Four-Door Car                   2  \n",
       "1     Four-Door Car                1131  \n",
       "2      Two-Door Car                 566  \n",
       "3               SUV                 529  \n",
       "4     Four-Door Car                  17  \n",
       "...             ...                 ...  \n",
       "8871  Four-Door Car                 198  \n",
       "8872  Four-Door Car                 379  \n",
       "8873  Four-Door Car                 790  \n",
       "8874  Four-Door Car                 691  \n",
       "8875   Two-Door Car                 369  \n",
       "\n",
       "[8875 rows x 10 columns]"
      ]
     },
     "execution_count": 48,
     "metadata": {},
     "output_type": "execute_result"
    }
   ],
   "source": [
    "ca_df"
   ]
  },
  {
   "cell_type": "markdown",
   "metadata": {},
   "source": [
    "# Standardizing the data"
   ]
  },
  {
   "cell_type": "code",
   "execution_count": 49,
   "metadata": {},
   "outputs": [],
   "source": [
    "ca_df_standarized = standardize_data(ca_df)"
   ]
  },
  {
   "cell_type": "code",
   "execution_count": 50,
   "metadata": {},
   "outputs": [
    {
     "data": {
      "text/html": [
       "<div>\n",
       "<style scoped>\n",
       "    .dataframe tbody tr th:only-of-type {\n",
       "        vertical-align: middle;\n",
       "    }\n",
       "\n",
       "    .dataframe tbody tr th {\n",
       "        vertical-align: top;\n",
       "    }\n",
       "\n",
       "    .dataframe thead th {\n",
       "        text-align: right;\n",
       "    }\n",
       "</style>\n",
       "<table border=\"1\" class=\"dataframe\">\n",
       "  <thead>\n",
       "    <tr style=\"text-align: right;\">\n",
       "      <th></th>\n",
       "      <th>st</th>\n",
       "      <th>gender</th>\n",
       "      <th>education</th>\n",
       "      <th>customer_lifetime_value</th>\n",
       "      <th>income</th>\n",
       "      <th>monthly_premium_auto</th>\n",
       "      <th>number_of_open_complaints</th>\n",
       "      <th>policy_type</th>\n",
       "      <th>vehicle_class</th>\n",
       "      <th>total_claim_amount</th>\n",
       "    </tr>\n",
       "  </thead>\n",
       "  <tbody>\n",
       "    <tr>\n",
       "      <th>0</th>\n",
       "      <td>washington</td>\n",
       "      <td>u</td>\n",
       "      <td>master</td>\n",
       "      <td>17946226</td>\n",
       "      <td>50712</td>\n",
       "      <td>1000</td>\n",
       "      <td>0</td>\n",
       "      <td>personal auto</td>\n",
       "      <td>four-door car</td>\n",
       "      <td>2</td>\n",
       "    </tr>\n",
       "    <tr>\n",
       "      <th>1</th>\n",
       "      <td>arizona</td>\n",
       "      <td>f</td>\n",
       "      <td>bachelor</td>\n",
       "      <td>69795359</td>\n",
       "      <td>50712</td>\n",
       "      <td>94</td>\n",
       "      <td>0</td>\n",
       "      <td>personal auto</td>\n",
       "      <td>four-door car</td>\n",
       "      <td>1131</td>\n",
       "    </tr>\n",
       "    <tr>\n",
       "      <th>2</th>\n",
       "      <td>nevada</td>\n",
       "      <td>f</td>\n",
       "      <td>bachelor</td>\n",
       "      <td>128874317</td>\n",
       "      <td>48767</td>\n",
       "      <td>108</td>\n",
       "      <td>0</td>\n",
       "      <td>personal auto</td>\n",
       "      <td>two-door car</td>\n",
       "      <td>566</td>\n",
       "    </tr>\n",
       "    <tr>\n",
       "      <th>3</th>\n",
       "      <td>california</td>\n",
       "      <td>m</td>\n",
       "      <td>bachelor</td>\n",
       "      <td>76458618</td>\n",
       "      <td>50712</td>\n",
       "      <td>106</td>\n",
       "      <td>0</td>\n",
       "      <td>corporate auto</td>\n",
       "      <td>suv</td>\n",
       "      <td>529</td>\n",
       "    </tr>\n",
       "    <tr>\n",
       "      <th>4</th>\n",
       "      <td>washington</td>\n",
       "      <td>m</td>\n",
       "      <td>high school or below</td>\n",
       "      <td>53630765</td>\n",
       "      <td>36357</td>\n",
       "      <td>68</td>\n",
       "      <td>0</td>\n",
       "      <td>personal auto</td>\n",
       "      <td>four-door car</td>\n",
       "      <td>17</td>\n",
       "    </tr>\n",
       "    <tr>\n",
       "      <th>...</th>\n",
       "      <td>...</td>\n",
       "      <td>...</td>\n",
       "      <td>...</td>\n",
       "      <td>...</td>\n",
       "      <td>...</td>\n",
       "      <td>...</td>\n",
       "      <td>...</td>\n",
       "      <td>...</td>\n",
       "      <td>...</td>\n",
       "      <td>...</td>\n",
       "    </tr>\n",
       "    <tr>\n",
       "      <th>8870</th>\n",
       "      <td>california</td>\n",
       "      <td>m</td>\n",
       "      <td>bachelor</td>\n",
       "      <td>23406</td>\n",
       "      <td>71941</td>\n",
       "      <td>73</td>\n",
       "      <td>0</td>\n",
       "      <td>personal auto</td>\n",
       "      <td>four-door car</td>\n",
       "      <td>198</td>\n",
       "    </tr>\n",
       "    <tr>\n",
       "      <th>8871</th>\n",
       "      <td>california</td>\n",
       "      <td>f</td>\n",
       "      <td>college</td>\n",
       "      <td>3097</td>\n",
       "      <td>21604</td>\n",
       "      <td>79</td>\n",
       "      <td>0</td>\n",
       "      <td>corporate auto</td>\n",
       "      <td>four-door car</td>\n",
       "      <td>379</td>\n",
       "    </tr>\n",
       "    <tr>\n",
       "      <th>8872</th>\n",
       "      <td>california</td>\n",
       "      <td>m</td>\n",
       "      <td>bachelor</td>\n",
       "      <td>8164</td>\n",
       "      <td>50712</td>\n",
       "      <td>85</td>\n",
       "      <td>3</td>\n",
       "      <td>corporate auto</td>\n",
       "      <td>four-door car</td>\n",
       "      <td>790</td>\n",
       "    </tr>\n",
       "    <tr>\n",
       "      <th>8873</th>\n",
       "      <td>california</td>\n",
       "      <td>m</td>\n",
       "      <td>college</td>\n",
       "      <td>7524</td>\n",
       "      <td>21941</td>\n",
       "      <td>96</td>\n",
       "      <td>0</td>\n",
       "      <td>personal auto</td>\n",
       "      <td>four-door car</td>\n",
       "      <td>691</td>\n",
       "    </tr>\n",
       "    <tr>\n",
       "      <th>8874</th>\n",
       "      <td>california</td>\n",
       "      <td>m</td>\n",
       "      <td>college</td>\n",
       "      <td>2612</td>\n",
       "      <td>50712</td>\n",
       "      <td>77</td>\n",
       "      <td>0</td>\n",
       "      <td>corporate auto</td>\n",
       "      <td>two-door car</td>\n",
       "      <td>369</td>\n",
       "    </tr>\n",
       "  </tbody>\n",
       "</table>\n",
       "<p>8875 rows × 10 columns</p>\n",
       "</div>"
      ],
      "text/plain": [
       "              st gender             education  customer_lifetime_value  \\\n",
       "0     washington      u                master                 17946226   \n",
       "1        arizona      f              bachelor                 69795359   \n",
       "2         nevada      f              bachelor                128874317   \n",
       "3     california      m              bachelor                 76458618   \n",
       "4     washington      m  high school or below                 53630765   \n",
       "...          ...    ...                   ...                      ...   \n",
       "8870  california      m              bachelor                    23406   \n",
       "8871  california      f               college                     3097   \n",
       "8872  california      m              bachelor                     8164   \n",
       "8873  california      m               college                     7524   \n",
       "8874  california      m               college                     2612   \n",
       "\n",
       "      income  monthly_premium_auto  number_of_open_complaints     policy_type  \\\n",
       "0      50712                  1000                          0   personal auto   \n",
       "1      50712                    94                          0   personal auto   \n",
       "2      48767                   108                          0   personal auto   \n",
       "3      50712                   106                          0  corporate auto   \n",
       "4      36357                    68                          0   personal auto   \n",
       "...      ...                   ...                        ...             ...   \n",
       "8870   71941                    73                          0   personal auto   \n",
       "8871   21604                    79                          0  corporate auto   \n",
       "8872   50712                    85                          3  corporate auto   \n",
       "8873   21941                    96                          0   personal auto   \n",
       "8874   50712                    77                          0  corporate auto   \n",
       "\n",
       "      vehicle_class  total_claim_amount  \n",
       "0     four-door car                   2  \n",
       "1     four-door car                1131  \n",
       "2      two-door car                 566  \n",
       "3               suv                 529  \n",
       "4     four-door car                  17  \n",
       "...             ...                 ...  \n",
       "8870  four-door car                 198  \n",
       "8871  four-door car                 379  \n",
       "8872  four-door car                 790  \n",
       "8873  four-door car                 691  \n",
       "8874   two-door car                 369  \n",
       "\n",
       "[8875 rows x 10 columns]"
      ]
     },
     "execution_count": 50,
     "metadata": {},
     "output_type": "execute_result"
    }
   ],
   "source": [
    "ca_df_standarized"
   ]
  },
  {
   "cell_type": "code",
   "execution_count": 51,
   "metadata": {},
   "outputs": [
    {
     "name": "stdout",
     "output_type": "stream",
     "text": [
      "<class 'pandas.core.frame.DataFrame'>\n",
      "Int64Index: 8875 entries, 0 to 8875\n",
      "Data columns (total 10 columns):\n",
      " #   Column                     Non-Null Count  Dtype \n",
      "---  ------                     --------------  ----- \n",
      " 0   st                         8875 non-null   object\n",
      " 1   gender                     8875 non-null   object\n",
      " 2   education                  8875 non-null   object\n",
      " 3   customer_lifetime_value    8875 non-null   int64 \n",
      " 4   income                     8875 non-null   int64 \n",
      " 5   monthly_premium_auto       8875 non-null   int64 \n",
      " 6   number_of_open_complaints  8875 non-null   int64 \n",
      " 7   policy_type                8875 non-null   object\n",
      " 8   vehicle_class              8875 non-null   object\n",
      " 9   total_claim_amount         8875 non-null   int64 \n",
      "dtypes: int64(5), object(5)\n",
      "memory usage: 762.7+ KB\n"
     ]
    }
   ],
   "source": [
    "ca_df.info()"
   ]
  },
  {
   "cell_type": "markdown",
   "metadata": {},
   "source": [
    "# Plotting"
   ]
  },
  {
   "cell_type": "markdown",
   "metadata": {},
   "source": [
    "First we import the csv file with all the data (provided on Wednesday)"
   ]
  },
  {
   "cell_type": "code",
   "execution_count": 52,
   "metadata": {},
   "outputs": [],
   "source": [
    "ca_c_df = pd.read_csv(\"Data/Data_Marketing_Customer_Analysis_Round2.csv\")\n",
    "ca_c_df = standard_headings(ca_c_df)\n"
   ]
  },
  {
   "cell_type": "markdown",
   "metadata": {},
   "source": [
    "## Pipeline Controller"
   ]
  },
  {
   "cell_type": "code",
   "execution_count": 53,
   "metadata": {},
   "outputs": [],
   "source": [
    "drop_columns = [\"unnamed:_0\", \"customer\", \"effective_to_date\", \"policy\", \"vehicle_type\"]\n",
    "bucket_columns = [\"vehicle_class\"]\n",
    "# clean_columns_NaN = [\"customer_lifetime_value\", \"income\", \"monthly_premium_auto\", \"number_of_open_complaints\", \"total_claim_amount\"]\n",
    "clean_columns_zeros = [\"income\"]\n",
    "clean_columns_cat = [(\"response\", \"No\")]\n",
    "float_columns = list(set(ca_c_df._get_numeric_data().columns).difference(set(drop_columns)))\n",
    "obj_columns = list(set(ca_c_df.select_dtypes(\"object\").columns).difference(set(drop_columns)))\n",
    "\n",
    "cleaning_dict = {\"Luxury SUV\":\"Luxury\", \"Luxury Car\":\"Luxury\"\n",
    "                 ,np.nan:np.nan\n",
    "                 }"
   ]
  },
  {
   "cell_type": "code",
   "execution_count": 54,
   "metadata": {},
   "outputs": [],
   "source": [
    "ca_c_df = (pd.read_csv(\"Data/Data_Marketing_Customer_Analysis_Round2.csv\")\n",
    ".pipe(standard_headings)\n",
    ".drop(drop_columns, axis=1)\n",
    "#.pipe(dt_corrector)\n",
    ".pipe(bucket_series, bucket_columns ,cleaning_dict)\n",
    "#.drop_duplicates().reset_index(drop=True)\n",
    "#.pipe(replace_by, clean_columns_NaN)\n",
    ".pipe(replace_by, clean_columns_zeros)\n",
    ".pipe(replace_by_cat, clean_columns_cat)\n",
    ".dropna()\n",
    ".pipe(standardize_data)\n",
    ".pipe(float_to_int, float_columns)\n",
    ".pipe(obj_to_cat, obj_columns)\n",
    ")"
   ]
  },
  {
   "cell_type": "code",
   "execution_count": 55,
   "metadata": {},
   "outputs": [
    {
     "data": {
      "text/html": [
       "<div>\n",
       "<style scoped>\n",
       "    .dataframe tbody tr th:only-of-type {\n",
       "        vertical-align: middle;\n",
       "    }\n",
       "\n",
       "    .dataframe tbody tr th {\n",
       "        vertical-align: top;\n",
       "    }\n",
       "\n",
       "    .dataframe thead th {\n",
       "        text-align: right;\n",
       "    }\n",
       "</style>\n",
       "<table border=\"1\" class=\"dataframe\">\n",
       "  <thead>\n",
       "    <tr style=\"text-align: right;\">\n",
       "      <th></th>\n",
       "      <th>state</th>\n",
       "      <th>customer_lifetime_value</th>\n",
       "      <th>response</th>\n",
       "      <th>coverage</th>\n",
       "      <th>education</th>\n",
       "      <th>employmentstatus</th>\n",
       "      <th>gender</th>\n",
       "      <th>income</th>\n",
       "      <th>location_code</th>\n",
       "      <th>marital_status</th>\n",
       "      <th>...</th>\n",
       "      <th>months_since_last_claim</th>\n",
       "      <th>months_since_policy_inception</th>\n",
       "      <th>number_of_open_complaints</th>\n",
       "      <th>number_of_policies</th>\n",
       "      <th>policy_type</th>\n",
       "      <th>renew_offer_type</th>\n",
       "      <th>sales_channel</th>\n",
       "      <th>total_claim_amount</th>\n",
       "      <th>vehicle_class</th>\n",
       "      <th>vehicle_size</th>\n",
       "    </tr>\n",
       "  </thead>\n",
       "  <tbody>\n",
       "    <tr>\n",
       "      <th>0</th>\n",
       "      <td>arizona</td>\n",
       "      <td>4809</td>\n",
       "      <td>no</td>\n",
       "      <td>basic</td>\n",
       "      <td>college</td>\n",
       "      <td>employed</td>\n",
       "      <td>m</td>\n",
       "      <td>48029</td>\n",
       "      <td>suburban</td>\n",
       "      <td>married</td>\n",
       "      <td>...</td>\n",
       "      <td>7</td>\n",
       "      <td>52</td>\n",
       "      <td>0</td>\n",
       "      <td>9</td>\n",
       "      <td>corporate auto</td>\n",
       "      <td>offer3</td>\n",
       "      <td>agent</td>\n",
       "      <td>292</td>\n",
       "      <td>four-door car</td>\n",
       "      <td>medsize</td>\n",
       "    </tr>\n",
       "    <tr>\n",
       "      <th>1</th>\n",
       "      <td>california</td>\n",
       "      <td>2228</td>\n",
       "      <td>no</td>\n",
       "      <td>basic</td>\n",
       "      <td>college</td>\n",
       "      <td>unemployed</td>\n",
       "      <td>f</td>\n",
       "      <td>0</td>\n",
       "      <td>suburban</td>\n",
       "      <td>single</td>\n",
       "      <td>...</td>\n",
       "      <td>3</td>\n",
       "      <td>26</td>\n",
       "      <td>0</td>\n",
       "      <td>1</td>\n",
       "      <td>personal auto</td>\n",
       "      <td>offer4</td>\n",
       "      <td>call center</td>\n",
       "      <td>744</td>\n",
       "      <td>four-door car</td>\n",
       "      <td>medsize</td>\n",
       "    </tr>\n",
       "    <tr>\n",
       "      <th>2</th>\n",
       "      <td>washington</td>\n",
       "      <td>14947</td>\n",
       "      <td>no</td>\n",
       "      <td>basic</td>\n",
       "      <td>bachelor</td>\n",
       "      <td>employed</td>\n",
       "      <td>m</td>\n",
       "      <td>22139</td>\n",
       "      <td>suburban</td>\n",
       "      <td>single</td>\n",
       "      <td>...</td>\n",
       "      <td>34</td>\n",
       "      <td>31</td>\n",
       "      <td>0</td>\n",
       "      <td>2</td>\n",
       "      <td>personal auto</td>\n",
       "      <td>offer3</td>\n",
       "      <td>call center</td>\n",
       "      <td>480</td>\n",
       "      <td>suv</td>\n",
       "      <td>medsize</td>\n",
       "    </tr>\n",
       "    <tr>\n",
       "      <th>3</th>\n",
       "      <td>oregon</td>\n",
       "      <td>22332</td>\n",
       "      <td>yes</td>\n",
       "      <td>extended</td>\n",
       "      <td>college</td>\n",
       "      <td>employed</td>\n",
       "      <td>m</td>\n",
       "      <td>49078</td>\n",
       "      <td>suburban</td>\n",
       "      <td>single</td>\n",
       "      <td>...</td>\n",
       "      <td>10</td>\n",
       "      <td>3</td>\n",
       "      <td>0</td>\n",
       "      <td>2</td>\n",
       "      <td>corporate auto</td>\n",
       "      <td>offer2</td>\n",
       "      <td>branch</td>\n",
       "      <td>484</td>\n",
       "      <td>four-door car</td>\n",
       "      <td>medsize</td>\n",
       "    </tr>\n",
       "    <tr>\n",
       "      <th>4</th>\n",
       "      <td>california</td>\n",
       "      <td>5035</td>\n",
       "      <td>no</td>\n",
       "      <td>basic</td>\n",
       "      <td>doctor</td>\n",
       "      <td>employed</td>\n",
       "      <td>f</td>\n",
       "      <td>37405</td>\n",
       "      <td>urban</td>\n",
       "      <td>married</td>\n",
       "      <td>...</td>\n",
       "      <td>8</td>\n",
       "      <td>99</td>\n",
       "      <td>3</td>\n",
       "      <td>4</td>\n",
       "      <td>corporate auto</td>\n",
       "      <td>offer2</td>\n",
       "      <td>branch</td>\n",
       "      <td>287</td>\n",
       "      <td>four-door car</td>\n",
       "      <td>medsize</td>\n",
       "    </tr>\n",
       "    <tr>\n",
       "      <th>...</th>\n",
       "      <td>...</td>\n",
       "      <td>...</td>\n",
       "      <td>...</td>\n",
       "      <td>...</td>\n",
       "      <td>...</td>\n",
       "      <td>...</td>\n",
       "      <td>...</td>\n",
       "      <td>...</td>\n",
       "      <td>...</td>\n",
       "      <td>...</td>\n",
       "      <td>...</td>\n",
       "      <td>...</td>\n",
       "      <td>...</td>\n",
       "      <td>...</td>\n",
       "      <td>...</td>\n",
       "      <td>...</td>\n",
       "      <td>...</td>\n",
       "      <td>...</td>\n",
       "      <td>...</td>\n",
       "      <td>...</td>\n",
       "      <td>...</td>\n",
       "    </tr>\n",
       "    <tr>\n",
       "      <th>9129</th>\n",
       "      <td>arizona</td>\n",
       "      <td>2771</td>\n",
       "      <td>no</td>\n",
       "      <td>basic</td>\n",
       "      <td>college</td>\n",
       "      <td>employed</td>\n",
       "      <td>m</td>\n",
       "      <td>59855</td>\n",
       "      <td>suburban</td>\n",
       "      <td>married</td>\n",
       "      <td>...</td>\n",
       "      <td>30</td>\n",
       "      <td>82</td>\n",
       "      <td>4</td>\n",
       "      <td>1</td>\n",
       "      <td>personal auto</td>\n",
       "      <td>offer2</td>\n",
       "      <td>branch</td>\n",
       "      <td>355</td>\n",
       "      <td>two-door car</td>\n",
       "      <td>medsize</td>\n",
       "    </tr>\n",
       "    <tr>\n",
       "      <th>9130</th>\n",
       "      <td>nevada</td>\n",
       "      <td>19228</td>\n",
       "      <td>no</td>\n",
       "      <td>basic</td>\n",
       "      <td>high school or below</td>\n",
       "      <td>unemployed</td>\n",
       "      <td>m</td>\n",
       "      <td>0</td>\n",
       "      <td>suburban</td>\n",
       "      <td>single</td>\n",
       "      <td>...</td>\n",
       "      <td>14</td>\n",
       "      <td>32</td>\n",
       "      <td>0</td>\n",
       "      <td>2</td>\n",
       "      <td>personal auto</td>\n",
       "      <td>offer1</td>\n",
       "      <td>branch</td>\n",
       "      <td>897</td>\n",
       "      <td>luxury</td>\n",
       "      <td>medsize</td>\n",
       "    </tr>\n",
       "    <tr>\n",
       "      <th>9131</th>\n",
       "      <td>oregon</td>\n",
       "      <td>5259</td>\n",
       "      <td>no</td>\n",
       "      <td>basic</td>\n",
       "      <td>college</td>\n",
       "      <td>employed</td>\n",
       "      <td>f</td>\n",
       "      <td>61146</td>\n",
       "      <td>urban</td>\n",
       "      <td>married</td>\n",
       "      <td>...</td>\n",
       "      <td>7</td>\n",
       "      <td>68</td>\n",
       "      <td>0</td>\n",
       "      <td>6</td>\n",
       "      <td>personal auto</td>\n",
       "      <td>offer2</td>\n",
       "      <td>branch</td>\n",
       "      <td>273</td>\n",
       "      <td>four-door car</td>\n",
       "      <td>medsize</td>\n",
       "    </tr>\n",
       "    <tr>\n",
       "      <th>9132</th>\n",
       "      <td>arizona</td>\n",
       "      <td>23893</td>\n",
       "      <td>no</td>\n",
       "      <td>extended</td>\n",
       "      <td>bachelor</td>\n",
       "      <td>employed</td>\n",
       "      <td>f</td>\n",
       "      <td>39837</td>\n",
       "      <td>rural</td>\n",
       "      <td>married</td>\n",
       "      <td>...</td>\n",
       "      <td>11</td>\n",
       "      <td>63</td>\n",
       "      <td>0</td>\n",
       "      <td>2</td>\n",
       "      <td>corporate auto</td>\n",
       "      <td>offer1</td>\n",
       "      <td>web</td>\n",
       "      <td>381</td>\n",
       "      <td>luxury</td>\n",
       "      <td>medsize</td>\n",
       "    </tr>\n",
       "    <tr>\n",
       "      <th>9133</th>\n",
       "      <td>california</td>\n",
       "      <td>11971</td>\n",
       "      <td>no</td>\n",
       "      <td>premium</td>\n",
       "      <td>college</td>\n",
       "      <td>employed</td>\n",
       "      <td>f</td>\n",
       "      <td>64195</td>\n",
       "      <td>urban</td>\n",
       "      <td>divorced</td>\n",
       "      <td>...</td>\n",
       "      <td>0</td>\n",
       "      <td>27</td>\n",
       "      <td>4</td>\n",
       "      <td>6</td>\n",
       "      <td>personal auto</td>\n",
       "      <td>offer1</td>\n",
       "      <td>branch</td>\n",
       "      <td>618</td>\n",
       "      <td>suv</td>\n",
       "      <td>medsize</td>\n",
       "    </tr>\n",
       "  </tbody>\n",
       "</table>\n",
       "<p>9134 rows × 21 columns</p>\n",
       "</div>"
      ],
      "text/plain": [
       "           state  customer_lifetime_value response  coverage  \\\n",
       "0        arizona                     4809       no     basic   \n",
       "1     california                     2228       no     basic   \n",
       "2     washington                    14947       no     basic   \n",
       "3         oregon                    22332      yes  extended   \n",
       "4     california                     5035       no     basic   \n",
       "...          ...                      ...      ...       ...   \n",
       "9129     arizona                     2771       no     basic   \n",
       "9130      nevada                    19228       no     basic   \n",
       "9131      oregon                     5259       no     basic   \n",
       "9132     arizona                    23893       no  extended   \n",
       "9133  california                    11971       no   premium   \n",
       "\n",
       "                 education employmentstatus gender  income location_code  \\\n",
       "0                  college         employed      m   48029      suburban   \n",
       "1                  college       unemployed      f       0      suburban   \n",
       "2                 bachelor         employed      m   22139      suburban   \n",
       "3                  college         employed      m   49078      suburban   \n",
       "4                   doctor         employed      f   37405         urban   \n",
       "...                    ...              ...    ...     ...           ...   \n",
       "9129               college         employed      m   59855      suburban   \n",
       "9130  high school or below       unemployed      m       0      suburban   \n",
       "9131               college         employed      f   61146         urban   \n",
       "9132              bachelor         employed      f   39837         rural   \n",
       "9133               college         employed      f   64195         urban   \n",
       "\n",
       "     marital_status  ...  months_since_last_claim  \\\n",
       "0           married  ...                        7   \n",
       "1            single  ...                        3   \n",
       "2            single  ...                       34   \n",
       "3            single  ...                       10   \n",
       "4           married  ...                        8   \n",
       "...             ...  ...                      ...   \n",
       "9129        married  ...                       30   \n",
       "9130         single  ...                       14   \n",
       "9131        married  ...                        7   \n",
       "9132        married  ...                       11   \n",
       "9133       divorced  ...                        0   \n",
       "\n",
       "      months_since_policy_inception  number_of_open_complaints  \\\n",
       "0                                52                          0   \n",
       "1                                26                          0   \n",
       "2                                31                          0   \n",
       "3                                 3                          0   \n",
       "4                                99                          3   \n",
       "...                             ...                        ...   \n",
       "9129                             82                          4   \n",
       "9130                             32                          0   \n",
       "9131                             68                          0   \n",
       "9132                             63                          0   \n",
       "9133                             27                          4   \n",
       "\n",
       "      number_of_policies     policy_type renew_offer_type sales_channel  \\\n",
       "0                      9  corporate auto           offer3         agent   \n",
       "1                      1   personal auto           offer4   call center   \n",
       "2                      2   personal auto           offer3   call center   \n",
       "3                      2  corporate auto           offer2        branch   \n",
       "4                      4  corporate auto           offer2        branch   \n",
       "...                  ...             ...              ...           ...   \n",
       "9129                   1   personal auto           offer2        branch   \n",
       "9130                   2   personal auto           offer1        branch   \n",
       "9131                   6   personal auto           offer2        branch   \n",
       "9132                   2  corporate auto           offer1           web   \n",
       "9133                   6   personal auto           offer1        branch   \n",
       "\n",
       "     total_claim_amount  vehicle_class vehicle_size  \n",
       "0                   292  four-door car      medsize  \n",
       "1                   744  four-door car      medsize  \n",
       "2                   480            suv      medsize  \n",
       "3                   484  four-door car      medsize  \n",
       "4                   287  four-door car      medsize  \n",
       "...                 ...            ...          ...  \n",
       "9129                355   two-door car      medsize  \n",
       "9130                897         luxury      medsize  \n",
       "9131                273  four-door car      medsize  \n",
       "9132                381         luxury      medsize  \n",
       "9133                618            suv      medsize  \n",
       "\n",
       "[9134 rows x 21 columns]"
      ]
     },
     "execution_count": 55,
     "metadata": {},
     "output_type": "execute_result"
    }
   ],
   "source": [
    "ca_c_df"
   ]
  },
  {
   "cell_type": "code",
   "execution_count": 56,
   "metadata": {},
   "outputs": [
    {
     "name": "stdout",
     "output_type": "stream",
     "text": [
      "<class 'pandas.core.frame.DataFrame'>\n",
      "RangeIndex: 9134 entries, 0 to 9133\n",
      "Data columns (total 21 columns):\n",
      " #   Column                         Non-Null Count  Dtype   \n",
      "---  ------                         --------------  -----   \n",
      " 0   state                          9134 non-null   category\n",
      " 1   customer_lifetime_value        9134 non-null   int64   \n",
      " 2   response                       9134 non-null   category\n",
      " 3   coverage                       9134 non-null   category\n",
      " 4   education                      9134 non-null   category\n",
      " 5   employmentstatus               9134 non-null   category\n",
      " 6   gender                         9134 non-null   category\n",
      " 7   income                         9134 non-null   int64   \n",
      " 8   location_code                  9134 non-null   category\n",
      " 9   marital_status                 9134 non-null   category\n",
      " 10  monthly_premium_auto           9134 non-null   int64   \n",
      " 11  months_since_last_claim        9134 non-null   int64   \n",
      " 12  months_since_policy_inception  9134 non-null   int64   \n",
      " 13  number_of_open_complaints      9134 non-null   int64   \n",
      " 14  number_of_policies             9134 non-null   int64   \n",
      " 15  policy_type                    9134 non-null   category\n",
      " 16  renew_offer_type               9134 non-null   category\n",
      " 17  sales_channel                  9134 non-null   category\n",
      " 18  total_claim_amount             9134 non-null   int64   \n",
      " 19  vehicle_class                  9134 non-null   category\n",
      " 20  vehicle_size                   9134 non-null   category\n",
      "dtypes: category(13), int64(8)\n",
      "memory usage: 689.1 KB\n"
     ]
    }
   ],
   "source": [
    "ca_c_df.info()"
   ]
  },
  {
   "cell_type": "code",
   "execution_count": 57,
   "metadata": {},
   "outputs": [
    {
     "data": {
      "text/plain": [
       "{'state': 0,\n",
       " 'customer_lifetime_value': 0,\n",
       " 'response': 0,\n",
       " 'coverage': 0,\n",
       " 'education': 0,\n",
       " 'employmentstatus': 0,\n",
       " 'gender': 0,\n",
       " 'income': 0,\n",
       " 'location_code': 0,\n",
       " 'marital_status': 0,\n",
       " 'monthly_premium_auto': 0,\n",
       " 'months_since_last_claim': 0,\n",
       " 'months_since_policy_inception': 0,\n",
       " 'number_of_open_complaints': 0,\n",
       " 'number_of_policies': 0,\n",
       " 'policy_type': 0,\n",
       " 'renew_offer_type': 0,\n",
       " 'sales_channel': 0,\n",
       " 'total_claim_amount': 0,\n",
       " 'vehicle_class': 0,\n",
       " 'vehicle_size': 0}"
      ]
     },
     "execution_count": 57,
     "metadata": {},
     "output_type": "execute_result"
    }
   ],
   "source": [
    "nan_counter(ca_c_df)"
   ]
  },
  {
   "cell_type": "markdown",
   "metadata": {},
   "source": [
    "## Plot of the total number of responses"
   ]
  },
  {
   "cell_type": "markdown",
   "metadata": {},
   "source": [
    "We create a new variable with the categories in Respone column [Yes, No]."
   ]
  },
  {
   "cell_type": "code",
   "execution_count": 58,
   "metadata": {},
   "outputs": [
    {
     "data": {
      "text/plain": [
       "no     7826\n",
       "yes    1308\n",
       "Name: response, dtype: int64"
      ]
     },
     "execution_count": 58,
     "metadata": {},
     "output_type": "execute_result"
    }
   ],
   "source": [
    "response = ca_c_df[\"response\"].value_counts(dropna=False)\n",
    "response"
   ]
  },
  {
   "cell_type": "markdown",
   "metadata": {},
   "source": [
    "Following code plots and shows the total response as a bar plot."
   ]
  },
  {
   "cell_type": "code",
   "execution_count": 59,
   "metadata": {},
   "outputs": [],
   "source": [
    "# theme\n",
    "sns.set_theme(style=\"darkgrid\")"
   ]
  },
  {
   "cell_type": "code",
   "execution_count": 60,
   "metadata": {},
   "outputs": [
    {
     "data": {
      "text/plain": [
       "<BarContainer object of 2 artists>"
      ]
     },
     "execution_count": 60,
     "metadata": {},
     "output_type": "execute_result"
    },
    {
     "data": {
      "image/png": "[encoded data removed]",
      "text/plain": [
       "<Figure size 576x576 with 1 Axes>"
      ]
     },
     "metadata": {},
     "output_type": "display_data"
    }
   ],
   "source": [
    "# create figure and axes\n",
    "fig1, ax1 = plt.subplots(figsize = (8,8))\n",
    "\n",
    "# set title\n",
    "ax1.set_title('total_response_number', fontweight='bold')\n",
    "\n",
    "# plot the bar chart\n",
    "ax1.bar(response.index, response, color=('red','green', 'black'))"
   ]
  },
  {
   "cell_type": "markdown",
   "metadata": {},
   "source": [
    "## Plot of the response rate by the sales channel."
   ]
  },
  {
   "cell_type": "code",
   "execution_count": 61,
   "metadata": {},
   "outputs": [],
   "source": [
    "response_channel_rate = variable_rate_vs(ca_c_df, \"response\", \"sales_channel\")"
   ]
  },
  {
   "cell_type": "code",
   "execution_count": 62,
   "metadata": {},
   "outputs": [
    {
     "data": {
      "text/plain": [
       "<BarContainer object of 4 artists>"
      ]
     },
     "execution_count": 62,
     "metadata": {},
     "output_type": "execute_result"
    },
    {
     "data": {
      "image/png": "[encoded data removed]",
      "text/plain": [
       "<Figure size 576x576 with 1 Axes>"
      ]
     },
     "metadata": {},
     "output_type": "display_data"
    }
   ],
   "source": [
    "# create figure and axes\n",
    "fig2, ax2 = plt.subplots(figsize = (8,8))\n",
    "\n",
    "# set title\n",
    "ax2.set_title('Response Rate by Channel', fontweight='bold')\n",
    "\n",
    "# axes titles\n",
    "ax2.set_xlabel(\"Channel\", fontweight='bold')\n",
    "ax2.set_ylabel(\"Response Rate (%)\", fontweight='bold')\n",
    "\n",
    "# plot the bar chart\n",
    "ax2.bar(response_channel_rate.index, response_channel_rate, color=('blue','orange', 'yellow', \"red\"))"
   ]
  },
  {
   "cell_type": "code",
   "execution_count": 63,
   "metadata": {},
   "outputs": [
    {
     "name": "stderr",
     "output_type": "stream",
     "text": [
      "/Users/filipmakara2/opt/anaconda3/envs/DA_Env/lib/python3.9/site-packages/seaborn/_decorators.py:36: FutureWarning: Pass the following variable as a keyword arg: x. From version 0.12, the only valid positional argument will be `data`, and passing other arguments without an explicit keyword will result in an error or misinterpretation.\n",
      "  warnings.warn(\n"
     ]
    },
    {
     "data": {
      "image/png": "[encoded data removed]",
      "text/plain": [
       "<Figure size 576x576 with 1 Axes>"
      ]
     },
     "metadata": {},
     "output_type": "display_data"
    }
   ],
   "source": [
    "# create figure and axes\n",
    "fig2b, ax2b = plt.subplots(figsize = (8,8))\n",
    "\n",
    "# set title\n",
    "ax2b.set_title('Response Rate by Channel', fontweight='bold')\n",
    "\n",
    "# plot the bar chart\n",
    "ax2b = sns.countplot(\"sales_channel\", hue=\"response\", data = ca_c_df)"
   ]
  },
  {
   "cell_type": "markdown",
   "metadata": {},
   "source": [
    "Following code plots and shows the total response as a bar plot."
   ]
  },
  {
   "cell_type": "markdown",
   "metadata": {},
   "source": [
    "## Plot of the response rate by the Total Claim Amount."
   ]
  },
  {
   "cell_type": "markdown",
   "metadata": {},
   "source": [
    "First I will bin the Total Claim Amount into categories."
   ]
  },
  {
   "cell_type": "code",
   "execution_count": 64,
   "metadata": {},
   "outputs": [],
   "source": [
    "total_claim_amount_labels = ['Low', 'Moderate', 'High']\n",
    "ca_c_df['total_claim_amount_binned'] = pd.cut(ca_c_df['total_claim_amount'],3, labels=total_claim_amount_labels)"
   ]
  },
  {
   "cell_type": "code",
   "execution_count": 65,
   "metadata": {},
   "outputs": [
    {
     "data": {
      "text/html": [
       "<div>\n",
       "<style scoped>\n",
       "    .dataframe tbody tr th:only-of-type {\n",
       "        vertical-align: middle;\n",
       "    }\n",
       "\n",
       "    .dataframe tbody tr th {\n",
       "        vertical-align: top;\n",
       "    }\n",
       "\n",
       "    .dataframe thead th {\n",
       "        text-align: right;\n",
       "    }\n",
       "</style>\n",
       "<table border=\"1\" class=\"dataframe\">\n",
       "  <thead>\n",
       "    <tr style=\"text-align: right;\">\n",
       "      <th></th>\n",
       "      <th>state</th>\n",
       "      <th>customer_lifetime_value</th>\n",
       "      <th>response</th>\n",
       "      <th>coverage</th>\n",
       "      <th>education</th>\n",
       "      <th>employmentstatus</th>\n",
       "      <th>gender</th>\n",
       "      <th>income</th>\n",
       "      <th>location_code</th>\n",
       "      <th>marital_status</th>\n",
       "      <th>...</th>\n",
       "      <th>months_since_policy_inception</th>\n",
       "      <th>number_of_open_complaints</th>\n",
       "      <th>number_of_policies</th>\n",
       "      <th>policy_type</th>\n",
       "      <th>renew_offer_type</th>\n",
       "      <th>sales_channel</th>\n",
       "      <th>total_claim_amount</th>\n",
       "      <th>vehicle_class</th>\n",
       "      <th>vehicle_size</th>\n",
       "      <th>total_claim_amount_binned</th>\n",
       "    </tr>\n",
       "  </thead>\n",
       "  <tbody>\n",
       "    <tr>\n",
       "      <th>0</th>\n",
       "      <td>arizona</td>\n",
       "      <td>4809</td>\n",
       "      <td>no</td>\n",
       "      <td>basic</td>\n",
       "      <td>college</td>\n",
       "      <td>employed</td>\n",
       "      <td>m</td>\n",
       "      <td>48029</td>\n",
       "      <td>suburban</td>\n",
       "      <td>married</td>\n",
       "      <td>...</td>\n",
       "      <td>52</td>\n",
       "      <td>0</td>\n",
       "      <td>9</td>\n",
       "      <td>corporate auto</td>\n",
       "      <td>offer3</td>\n",
       "      <td>agent</td>\n",
       "      <td>292</td>\n",
       "      <td>four-door car</td>\n",
       "      <td>medsize</td>\n",
       "      <td>Low</td>\n",
       "    </tr>\n",
       "    <tr>\n",
       "      <th>1</th>\n",
       "      <td>california</td>\n",
       "      <td>2228</td>\n",
       "      <td>no</td>\n",
       "      <td>basic</td>\n",
       "      <td>college</td>\n",
       "      <td>unemployed</td>\n",
       "      <td>f</td>\n",
       "      <td>0</td>\n",
       "      <td>suburban</td>\n",
       "      <td>single</td>\n",
       "      <td>...</td>\n",
       "      <td>26</td>\n",
       "      <td>0</td>\n",
       "      <td>1</td>\n",
       "      <td>personal auto</td>\n",
       "      <td>offer4</td>\n",
       "      <td>call center</td>\n",
       "      <td>744</td>\n",
       "      <td>four-door car</td>\n",
       "      <td>medsize</td>\n",
       "      <td>Low</td>\n",
       "    </tr>\n",
       "    <tr>\n",
       "      <th>2</th>\n",
       "      <td>washington</td>\n",
       "      <td>14947</td>\n",
       "      <td>no</td>\n",
       "      <td>basic</td>\n",
       "      <td>bachelor</td>\n",
       "      <td>employed</td>\n",
       "      <td>m</td>\n",
       "      <td>22139</td>\n",
       "      <td>suburban</td>\n",
       "      <td>single</td>\n",
       "      <td>...</td>\n",
       "      <td>31</td>\n",
       "      <td>0</td>\n",
       "      <td>2</td>\n",
       "      <td>personal auto</td>\n",
       "      <td>offer3</td>\n",
       "      <td>call center</td>\n",
       "      <td>480</td>\n",
       "      <td>suv</td>\n",
       "      <td>medsize</td>\n",
       "      <td>Low</td>\n",
       "    </tr>\n",
       "    <tr>\n",
       "      <th>3</th>\n",
       "      <td>oregon</td>\n",
       "      <td>22332</td>\n",
       "      <td>yes</td>\n",
       "      <td>extended</td>\n",
       "      <td>college</td>\n",
       "      <td>employed</td>\n",
       "      <td>m</td>\n",
       "      <td>49078</td>\n",
       "      <td>suburban</td>\n",
       "      <td>single</td>\n",
       "      <td>...</td>\n",
       "      <td>3</td>\n",
       "      <td>0</td>\n",
       "      <td>2</td>\n",
       "      <td>corporate auto</td>\n",
       "      <td>offer2</td>\n",
       "      <td>branch</td>\n",
       "      <td>484</td>\n",
       "      <td>four-door car</td>\n",
       "      <td>medsize</td>\n",
       "      <td>Low</td>\n",
       "    </tr>\n",
       "    <tr>\n",
       "      <th>4</th>\n",
       "      <td>california</td>\n",
       "      <td>5035</td>\n",
       "      <td>no</td>\n",
       "      <td>basic</td>\n",
       "      <td>doctor</td>\n",
       "      <td>employed</td>\n",
       "      <td>f</td>\n",
       "      <td>37405</td>\n",
       "      <td>urban</td>\n",
       "      <td>married</td>\n",
       "      <td>...</td>\n",
       "      <td>99</td>\n",
       "      <td>3</td>\n",
       "      <td>4</td>\n",
       "      <td>corporate auto</td>\n",
       "      <td>offer2</td>\n",
       "      <td>branch</td>\n",
       "      <td>287</td>\n",
       "      <td>four-door car</td>\n",
       "      <td>medsize</td>\n",
       "      <td>Low</td>\n",
       "    </tr>\n",
       "  </tbody>\n",
       "</table>\n",
       "<p>5 rows × 22 columns</p>\n",
       "</div>"
      ],
      "text/plain": [
       "        state  customer_lifetime_value response  coverage education  \\\n",
       "0     arizona                     4809       no     basic   college   \n",
       "1  california                     2228       no     basic   college   \n",
       "2  washington                    14947       no     basic  bachelor   \n",
       "3      oregon                    22332      yes  extended   college   \n",
       "4  california                     5035       no     basic    doctor   \n",
       "\n",
       "  employmentstatus gender  income location_code marital_status  ...  \\\n",
       "0         employed      m   48029      suburban        married  ...   \n",
       "1       unemployed      f       0      suburban         single  ...   \n",
       "2         employed      m   22139      suburban         single  ...   \n",
       "3         employed      m   49078      suburban         single  ...   \n",
       "4         employed      f   37405         urban        married  ...   \n",
       "\n",
       "   months_since_policy_inception  number_of_open_complaints  \\\n",
       "0                             52                          0   \n",
       "1                             26                          0   \n",
       "2                             31                          0   \n",
       "3                              3                          0   \n",
       "4                             99                          3   \n",
       "\n",
       "   number_of_policies     policy_type  renew_offer_type sales_channel  \\\n",
       "0                   9  corporate auto            offer3         agent   \n",
       "1                   1   personal auto            offer4   call center   \n",
       "2                   2   personal auto            offer3   call center   \n",
       "3                   2  corporate auto            offer2        branch   \n",
       "4                   4  corporate auto            offer2        branch   \n",
       "\n",
       "  total_claim_amount  vehicle_class  vehicle_size total_claim_amount_binned  \n",
       "0                292  four-door car       medsize                       Low  \n",
       "1                744  four-door car       medsize                       Low  \n",
       "2                480            suv       medsize                       Low  \n",
       "3                484  four-door car       medsize                       Low  \n",
       "4                287  four-door car       medsize                       Low  \n",
       "\n",
       "[5 rows x 22 columns]"
      ]
     },
     "execution_count": 65,
     "metadata": {},
     "output_type": "execute_result"
    }
   ],
   "source": [
    "ca_c_df.head()"
   ]
  },
  {
   "cell_type": "markdown",
   "metadata": {},
   "source": [
    "Then fuction variable_rate_vs() can be used."
   ]
  },
  {
   "cell_type": "code",
   "execution_count": 66,
   "metadata": {},
   "outputs": [],
   "source": [
    "response_total_claim_amount_rate = variable_rate_vs(ca_c_df, \"response\", \"total_claim_amount_binned\")\n"
   ]
  },
  {
   "cell_type": "code",
   "execution_count": 67,
   "metadata": {},
   "outputs": [
    {
     "data": {
      "text/plain": [
       "Low         16.77\n",
       "Moderate    16.81\n",
       "High         0.00\n",
       "dtype: float64"
      ]
     },
     "execution_count": 67,
     "metadata": {},
     "output_type": "execute_result"
    }
   ],
   "source": [
    "response_total_claim_amount_rate"
   ]
  },
  {
   "cell_type": "markdown",
   "metadata": {},
   "source": [
    "Following code plots and shows the total response as a bar plot."
   ]
  },
  {
   "cell_type": "code",
   "execution_count": 68,
   "metadata": {},
   "outputs": [
    {
     "data": {
      "text/plain": [
       "<BarContainer object of 3 artists>"
      ]
     },
     "execution_count": 68,
     "metadata": {},
     "output_type": "execute_result"
    },
    {
     "data": {
      "image/png": "[encoded data removed]",
      "text/plain": [
       "<Figure size 576x576 with 1 Axes>"
      ]
     },
     "metadata": {},
     "output_type": "display_data"
    }
   ],
   "source": [
    "# create figure and axes\n",
    "fig3, ax3 = plt.subplots(figsize = (8,8))\n",
    "\n",
    "# set title\n",
    "ax3.set_title('Response Rate by Total Claim Amount', fontweight='bold')\n",
    "\n",
    "# axes titles\n",
    "ax3.set_xlabel(\"Total Claim Amount\", fontweight='bold')\n",
    "ax3.set_ylabel(\"Response Rate (%)\", fontweight='bold')\n",
    "\n",
    "# plot the bar chart\n",
    "ax3.bar(response_total_claim_amount_rate.index, response_total_claim_amount_rate, color=('blue','orange', 'yellow', \"red\", \"black\"))"
   ]
  },
  {
   "cell_type": "code",
   "execution_count": 69,
   "metadata": {},
   "outputs": [
    {
     "name": "stderr",
     "output_type": "stream",
     "text": [
      "/Users/filipmakara2/opt/anaconda3/envs/DA_Env/lib/python3.9/site-packages/seaborn/_decorators.py:36: FutureWarning: Pass the following variable as a keyword arg: x. From version 0.12, the only valid positional argument will be `data`, and passing other arguments without an explicit keyword will result in an error or misinterpretation.\n",
      "  warnings.warn(\n"
     ]
    },
    {
     "data": {
      "image/png": "[encoded data removed]",
      "text/plain": [
       "<Figure size 576x576 with 1 Axes>"
      ]
     },
     "metadata": {},
     "output_type": "display_data"
    }
   ],
   "source": [
    "# create figure and axes\n",
    "fig3b, ax3b = plt.subplots(figsize = (8,8))\n",
    "\n",
    "# set title\n",
    "ax3b.set_title('Response Rate by Total Claim Amount', fontweight='bold')\n",
    "\n",
    "# plot the bar chart\n",
    "ax3b = sns.countplot(\"total_claim_amount_binned\", hue=\"response\", data = ca_c_df)"
   ]
  },
  {
   "cell_type": "markdown",
   "metadata": {},
   "source": [
    "Let us do some checks."
   ]
  },
  {
   "cell_type": "code",
   "execution_count": 70,
   "metadata": {},
   "outputs": [
    {
     "data": {
      "text/plain": [
       "no     29\n",
       "yes     0\n",
       "Name: response, dtype: int64"
      ]
     },
     "execution_count": 70,
     "metadata": {},
     "output_type": "execute_result"
    }
   ],
   "source": [
    "ca_c_df[\"response\"][ca_c_df.total_claim_amount_binned == (\"High\" or \"Very High\")].value_counts()"
   ]
  },
  {
   "cell_type": "markdown",
   "metadata": {},
   "source": [
    "The high and very high claims are not responded, which kind of makes sense."
   ]
  },
  {
   "cell_type": "markdown",
   "metadata": {},
   "source": [
    "## Plot of the response rate by income"
   ]
  },
  {
   "cell_type": "markdown",
   "metadata": {},
   "source": [
    "The approach is very simmilar to that for the income."
   ]
  },
  {
   "cell_type": "code",
   "execution_count": 71,
   "metadata": {},
   "outputs": [],
   "source": [
    "income_labels = ['Very Low', 'Low', 'Moderate', 'High', 'Very High']\n",
    "ca_c_df['income_binned'] = pd.cut(ca_c_df['income'],5, labels=income_labels)"
   ]
  },
  {
   "cell_type": "code",
   "execution_count": 72,
   "metadata": {},
   "outputs": [
    {
     "data": {
      "text/html": [
       "<div>\n",
       "<style scoped>\n",
       "    .dataframe tbody tr th:only-of-type {\n",
       "        vertical-align: middle;\n",
       "    }\n",
       "\n",
       "    .dataframe tbody tr th {\n",
       "        vertical-align: top;\n",
       "    }\n",
       "\n",
       "    .dataframe thead th {\n",
       "        text-align: right;\n",
       "    }\n",
       "</style>\n",
       "<table border=\"1\" class=\"dataframe\">\n",
       "  <thead>\n",
       "    <tr style=\"text-align: right;\">\n",
       "      <th></th>\n",
       "      <th>state</th>\n",
       "      <th>customer_lifetime_value</th>\n",
       "      <th>response</th>\n",
       "      <th>coverage</th>\n",
       "      <th>education</th>\n",
       "      <th>employmentstatus</th>\n",
       "      <th>gender</th>\n",
       "      <th>income</th>\n",
       "      <th>location_code</th>\n",
       "      <th>marital_status</th>\n",
       "      <th>...</th>\n",
       "      <th>number_of_open_complaints</th>\n",
       "      <th>number_of_policies</th>\n",
       "      <th>policy_type</th>\n",
       "      <th>renew_offer_type</th>\n",
       "      <th>sales_channel</th>\n",
       "      <th>total_claim_amount</th>\n",
       "      <th>vehicle_class</th>\n",
       "      <th>vehicle_size</th>\n",
       "      <th>total_claim_amount_binned</th>\n",
       "      <th>income_binned</th>\n",
       "    </tr>\n",
       "  </thead>\n",
       "  <tbody>\n",
       "    <tr>\n",
       "      <th>0</th>\n",
       "      <td>arizona</td>\n",
       "      <td>4809</td>\n",
       "      <td>no</td>\n",
       "      <td>basic</td>\n",
       "      <td>college</td>\n",
       "      <td>employed</td>\n",
       "      <td>m</td>\n",
       "      <td>48029</td>\n",
       "      <td>suburban</td>\n",
       "      <td>married</td>\n",
       "      <td>...</td>\n",
       "      <td>0</td>\n",
       "      <td>9</td>\n",
       "      <td>corporate auto</td>\n",
       "      <td>offer3</td>\n",
       "      <td>agent</td>\n",
       "      <td>292</td>\n",
       "      <td>four-door car</td>\n",
       "      <td>medsize</td>\n",
       "      <td>Low</td>\n",
       "      <td>Moderate</td>\n",
       "    </tr>\n",
       "    <tr>\n",
       "      <th>1</th>\n",
       "      <td>california</td>\n",
       "      <td>2228</td>\n",
       "      <td>no</td>\n",
       "      <td>basic</td>\n",
       "      <td>college</td>\n",
       "      <td>unemployed</td>\n",
       "      <td>f</td>\n",
       "      <td>0</td>\n",
       "      <td>suburban</td>\n",
       "      <td>single</td>\n",
       "      <td>...</td>\n",
       "      <td>0</td>\n",
       "      <td>1</td>\n",
       "      <td>personal auto</td>\n",
       "      <td>offer4</td>\n",
       "      <td>call center</td>\n",
       "      <td>744</td>\n",
       "      <td>four-door car</td>\n",
       "      <td>medsize</td>\n",
       "      <td>Low</td>\n",
       "      <td>Very Low</td>\n",
       "    </tr>\n",
       "    <tr>\n",
       "      <th>2</th>\n",
       "      <td>washington</td>\n",
       "      <td>14947</td>\n",
       "      <td>no</td>\n",
       "      <td>basic</td>\n",
       "      <td>bachelor</td>\n",
       "      <td>employed</td>\n",
       "      <td>m</td>\n",
       "      <td>22139</td>\n",
       "      <td>suburban</td>\n",
       "      <td>single</td>\n",
       "      <td>...</td>\n",
       "      <td>0</td>\n",
       "      <td>2</td>\n",
       "      <td>personal auto</td>\n",
       "      <td>offer3</td>\n",
       "      <td>call center</td>\n",
       "      <td>480</td>\n",
       "      <td>suv</td>\n",
       "      <td>medsize</td>\n",
       "      <td>Low</td>\n",
       "      <td>Low</td>\n",
       "    </tr>\n",
       "    <tr>\n",
       "      <th>3</th>\n",
       "      <td>oregon</td>\n",
       "      <td>22332</td>\n",
       "      <td>yes</td>\n",
       "      <td>extended</td>\n",
       "      <td>college</td>\n",
       "      <td>employed</td>\n",
       "      <td>m</td>\n",
       "      <td>49078</td>\n",
       "      <td>suburban</td>\n",
       "      <td>single</td>\n",
       "      <td>...</td>\n",
       "      <td>0</td>\n",
       "      <td>2</td>\n",
       "      <td>corporate auto</td>\n",
       "      <td>offer2</td>\n",
       "      <td>branch</td>\n",
       "      <td>484</td>\n",
       "      <td>four-door car</td>\n",
       "      <td>medsize</td>\n",
       "      <td>Low</td>\n",
       "      <td>Moderate</td>\n",
       "    </tr>\n",
       "    <tr>\n",
       "      <th>4</th>\n",
       "      <td>california</td>\n",
       "      <td>5035</td>\n",
       "      <td>no</td>\n",
       "      <td>basic</td>\n",
       "      <td>doctor</td>\n",
       "      <td>employed</td>\n",
       "      <td>f</td>\n",
       "      <td>37405</td>\n",
       "      <td>urban</td>\n",
       "      <td>married</td>\n",
       "      <td>...</td>\n",
       "      <td>3</td>\n",
       "      <td>4</td>\n",
       "      <td>corporate auto</td>\n",
       "      <td>offer2</td>\n",
       "      <td>branch</td>\n",
       "      <td>287</td>\n",
       "      <td>four-door car</td>\n",
       "      <td>medsize</td>\n",
       "      <td>Low</td>\n",
       "      <td>Low</td>\n",
       "    </tr>\n",
       "  </tbody>\n",
       "</table>\n",
       "<p>5 rows × 23 columns</p>\n",
       "</div>"
      ],
      "text/plain": [
       "        state  customer_lifetime_value response  coverage education  \\\n",
       "0     arizona                     4809       no     basic   college   \n",
       "1  california                     2228       no     basic   college   \n",
       "2  washington                    14947       no     basic  bachelor   \n",
       "3      oregon                    22332      yes  extended   college   \n",
       "4  california                     5035       no     basic    doctor   \n",
       "\n",
       "  employmentstatus gender  income location_code marital_status  ...  \\\n",
       "0         employed      m   48029      suburban        married  ...   \n",
       "1       unemployed      f       0      suburban         single  ...   \n",
       "2         employed      m   22139      suburban         single  ...   \n",
       "3         employed      m   49078      suburban         single  ...   \n",
       "4         employed      f   37405         urban        married  ...   \n",
       "\n",
       "   number_of_open_complaints  number_of_policies     policy_type  \\\n",
       "0                          0                   9  corporate auto   \n",
       "1                          0                   1   personal auto   \n",
       "2                          0                   2   personal auto   \n",
       "3                          0                   2  corporate auto   \n",
       "4                          3                   4  corporate auto   \n",
       "\n",
       "   renew_offer_type  sales_channel total_claim_amount  vehicle_class  \\\n",
       "0            offer3          agent                292  four-door car   \n",
       "1            offer4    call center                744  four-door car   \n",
       "2            offer3    call center                480            suv   \n",
       "3            offer2         branch                484  four-door car   \n",
       "4            offer2         branch                287  four-door car   \n",
       "\n",
       "  vehicle_size  total_claim_amount_binned income_binned  \n",
       "0      medsize                        Low      Moderate  \n",
       "1      medsize                        Low      Very Low  \n",
       "2      medsize                        Low           Low  \n",
       "3      medsize                        Low      Moderate  \n",
       "4      medsize                        Low           Low  \n",
       "\n",
       "[5 rows x 23 columns]"
      ]
     },
     "execution_count": 72,
     "metadata": {},
     "output_type": "execute_result"
    }
   ],
   "source": [
    "ca_c_df.head()"
   ]
  },
  {
   "cell_type": "code",
   "execution_count": 73,
   "metadata": {},
   "outputs": [],
   "source": [
    "response_income_rate = variable_rate_vs(ca_c_df, \"response\", \"income_binned\")\n"
   ]
  },
  {
   "cell_type": "code",
   "execution_count": 74,
   "metadata": {},
   "outputs": [
    {
     "data": {
      "text/plain": [
       "Very Low     14.52\n",
       "Low          21.86\n",
       "Moderate     14.24\n",
       "High         19.13\n",
       "Very High    12.53\n",
       "dtype: float64"
      ]
     },
     "execution_count": 74,
     "metadata": {},
     "output_type": "execute_result"
    }
   ],
   "source": [
    "response_income_rate"
   ]
  },
  {
   "cell_type": "code",
   "execution_count": 75,
   "metadata": {},
   "outputs": [
    {
     "data": {
      "text/plain": [
       "<BarContainer object of 5 artists>"
      ]
     },
     "execution_count": 75,
     "metadata": {},
     "output_type": "execute_result"
    },
    {
     "data": {
      "image/png": "[encoded data removed]",
      "text/plain": [
       "<Figure size 576x576 with 1 Axes>"
      ]
     },
     "metadata": {},
     "output_type": "display_data"
    }
   ],
   "source": [
    "# create figure and axes\n",
    "fig4, ax4 = plt.subplots(figsize = (8,8))\n",
    "\n",
    "# set title\n",
    "ax4.set_title('Response Rate by Income', fontweight='bold')\n",
    "\n",
    "# axes titles\n",
    "ax4.set_xlabel(\"Income\", fontweight='bold')\n",
    "ax4.set_ylabel(\"Response Rate (%)\", fontweight='bold')\n",
    "\n",
    "# plot the bar chart\n",
    "ax4.bar(response_income_rate.index, response_income_rate, color=('blue','orange', 'yellow', \"red\", \"black\"))"
   ]
  },
  {
   "cell_type": "code",
   "execution_count": 76,
   "metadata": {},
   "outputs": [
    {
     "name": "stderr",
     "output_type": "stream",
     "text": [
      "/Users/filipmakara2/opt/anaconda3/envs/DA_Env/lib/python3.9/site-packages/seaborn/_decorators.py:36: FutureWarning: Pass the following variable as a keyword arg: x. From version 0.12, the only valid positional argument will be `data`, and passing other arguments without an explicit keyword will result in an error or misinterpretation.\n",
      "  warnings.warn(\n"
     ]
    },
    {
     "data": {
      "image/png": "[encoded data removed]",
      "text/plain": [
       "<Figure size 576x576 with 1 Axes>"
      ]
     },
     "metadata": {},
     "output_type": "display_data"
    }
   ],
   "source": [
    "# create figure and axes\n",
    "fig4b, ax4b = plt.subplots(figsize = (8,8))\n",
    "\n",
    "# set title\n",
    "ax4b.set_title('Response Rate by Income', fontweight='bold')\n",
    "\n",
    "# plot the bar chart\n",
    "ax4b = sns.countplot(\"income_binned\", hue=\"response\", data = ca_c_df)"
   ]
  },
  {
   "cell_type": "markdown",
   "metadata": {},
   "source": [
    "Seems like the income does not correlate with the response rate. Before the analysis I would have assumed that the claims of the High-Very High income clients will be responded more often. "
   ]
  },
  {
   "cell_type": "markdown",
   "metadata": {},
   "source": [
    "## Plot the Correlation Heatmap."
   ]
  },
  {
   "cell_type": "markdown",
   "metadata": {},
   "source": [
    "We will apply method pd.corr() only to the numerical columns"
   ]
  },
  {
   "cell_type": "code",
   "execution_count": 77,
   "metadata": {},
   "outputs": [],
   "source": [
    "ca_c_num_df = ca_c_df._get_numeric_data()\n",
    "correlation_matrix = ca_c_num_df.corr()\n",
    "\n"
   ]
  },
  {
   "cell_type": "code",
   "execution_count": 78,
   "metadata": {},
   "outputs": [
    {
     "data": {
      "text/html": [
       "<div>\n",
       "<style scoped>\n",
       "    .dataframe tbody tr th:only-of-type {\n",
       "        vertical-align: middle;\n",
       "    }\n",
       "\n",
       "    .dataframe tbody tr th {\n",
       "        vertical-align: top;\n",
       "    }\n",
       "\n",
       "    .dataframe thead th {\n",
       "        text-align: right;\n",
       "    }\n",
       "</style>\n",
       "<table border=\"1\" class=\"dataframe\">\n",
       "  <thead>\n",
       "    <tr style=\"text-align: right;\">\n",
       "      <th></th>\n",
       "      <th>customer_lifetime_value</th>\n",
       "      <th>income</th>\n",
       "      <th>monthly_premium_auto</th>\n",
       "      <th>months_since_last_claim</th>\n",
       "      <th>months_since_policy_inception</th>\n",
       "      <th>number_of_open_complaints</th>\n",
       "      <th>number_of_policies</th>\n",
       "      <th>total_claim_amount</th>\n",
       "    </tr>\n",
       "  </thead>\n",
       "  <tbody>\n",
       "    <tr>\n",
       "      <th>customer_lifetime_value</th>\n",
       "      <td>1.000000</td>\n",
       "      <td>0.024365</td>\n",
       "      <td>0.396262</td>\n",
       "      <td>0.011516</td>\n",
       "      <td>0.009419</td>\n",
       "      <td>-0.036342</td>\n",
       "      <td>0.021956</td>\n",
       "      <td>0.226454</td>\n",
       "    </tr>\n",
       "    <tr>\n",
       "      <th>income</th>\n",
       "      <td>0.024365</td>\n",
       "      <td>1.000000</td>\n",
       "      <td>-0.016665</td>\n",
       "      <td>-0.026715</td>\n",
       "      <td>-0.000875</td>\n",
       "      <td>0.006408</td>\n",
       "      <td>-0.008656</td>\n",
       "      <td>-0.355249</td>\n",
       "    </tr>\n",
       "    <tr>\n",
       "      <th>monthly_premium_auto</th>\n",
       "      <td>0.396262</td>\n",
       "      <td>-0.016665</td>\n",
       "      <td>1.000000</td>\n",
       "      <td>0.005026</td>\n",
       "      <td>0.020257</td>\n",
       "      <td>-0.013122</td>\n",
       "      <td>-0.011233</td>\n",
       "      <td>0.632012</td>\n",
       "    </tr>\n",
       "    <tr>\n",
       "      <th>months_since_last_claim</th>\n",
       "      <td>0.011516</td>\n",
       "      <td>-0.026715</td>\n",
       "      <td>0.005026</td>\n",
       "      <td>1.000000</td>\n",
       "      <td>-0.042959</td>\n",
       "      <td>0.005354</td>\n",
       "      <td>0.009136</td>\n",
       "      <td>0.007541</td>\n",
       "    </tr>\n",
       "    <tr>\n",
       "      <th>months_since_policy_inception</th>\n",
       "      <td>0.009419</td>\n",
       "      <td>-0.000875</td>\n",
       "      <td>0.020257</td>\n",
       "      <td>-0.042959</td>\n",
       "      <td>1.000000</td>\n",
       "      <td>-0.001158</td>\n",
       "      <td>-0.013333</td>\n",
       "      <td>0.003345</td>\n",
       "    </tr>\n",
       "    <tr>\n",
       "      <th>number_of_open_complaints</th>\n",
       "      <td>-0.036342</td>\n",
       "      <td>0.006408</td>\n",
       "      <td>-0.013122</td>\n",
       "      <td>0.005354</td>\n",
       "      <td>-0.001158</td>\n",
       "      <td>1.000000</td>\n",
       "      <td>0.001498</td>\n",
       "      <td>-0.014253</td>\n",
       "    </tr>\n",
       "    <tr>\n",
       "      <th>number_of_policies</th>\n",
       "      <td>0.021956</td>\n",
       "      <td>-0.008656</td>\n",
       "      <td>-0.011233</td>\n",
       "      <td>0.009136</td>\n",
       "      <td>-0.013333</td>\n",
       "      <td>0.001498</td>\n",
       "      <td>1.000000</td>\n",
       "      <td>-0.002379</td>\n",
       "    </tr>\n",
       "    <tr>\n",
       "      <th>total_claim_amount</th>\n",
       "      <td>0.226454</td>\n",
       "      <td>-0.355249</td>\n",
       "      <td>0.632012</td>\n",
       "      <td>0.007541</td>\n",
       "      <td>0.003345</td>\n",
       "      <td>-0.014253</td>\n",
       "      <td>-0.002379</td>\n",
       "      <td>1.000000</td>\n",
       "    </tr>\n",
       "  </tbody>\n",
       "</table>\n",
       "</div>"
      ],
      "text/plain": [
       "                               customer_lifetime_value    income  \\\n",
       "customer_lifetime_value                       1.000000  0.024365   \n",
       "income                                        0.024365  1.000000   \n",
       "monthly_premium_auto                          0.396262 -0.016665   \n",
       "months_since_last_claim                       0.011516 -0.026715   \n",
       "months_since_policy_inception                 0.009419 -0.000875   \n",
       "number_of_open_complaints                    -0.036342  0.006408   \n",
       "number_of_policies                            0.021956 -0.008656   \n",
       "total_claim_amount                            0.226454 -0.355249   \n",
       "\n",
       "                               monthly_premium_auto  months_since_last_claim  \\\n",
       "customer_lifetime_value                    0.396262                 0.011516   \n",
       "income                                    -0.016665                -0.026715   \n",
       "monthly_premium_auto                       1.000000                 0.005026   \n",
       "months_since_last_claim                    0.005026                 1.000000   \n",
       "months_since_policy_inception              0.020257                -0.042959   \n",
       "number_of_open_complaints                 -0.013122                 0.005354   \n",
       "number_of_policies                        -0.011233                 0.009136   \n",
       "total_claim_amount                         0.632012                 0.007541   \n",
       "\n",
       "                               months_since_policy_inception  \\\n",
       "customer_lifetime_value                             0.009419   \n",
       "income                                             -0.000875   \n",
       "monthly_premium_auto                                0.020257   \n",
       "months_since_last_claim                            -0.042959   \n",
       "months_since_policy_inception                       1.000000   \n",
       "number_of_open_complaints                          -0.001158   \n",
       "number_of_policies                                 -0.013333   \n",
       "total_claim_amount                                  0.003345   \n",
       "\n",
       "                               number_of_open_complaints  number_of_policies  \\\n",
       "customer_lifetime_value                        -0.036342            0.021956   \n",
       "income                                          0.006408           -0.008656   \n",
       "monthly_premium_auto                           -0.013122           -0.011233   \n",
       "months_since_last_claim                         0.005354            0.009136   \n",
       "months_since_policy_inception                  -0.001158           -0.013333   \n",
       "number_of_open_complaints                       1.000000            0.001498   \n",
       "number_of_policies                              0.001498            1.000000   \n",
       "total_claim_amount                             -0.014253           -0.002379   \n",
       "\n",
       "                               total_claim_amount  \n",
       "customer_lifetime_value                  0.226454  \n",
       "income                                  -0.355249  \n",
       "monthly_premium_auto                     0.632012  \n",
       "months_since_last_claim                  0.007541  \n",
       "months_since_policy_inception            0.003345  \n",
       "number_of_open_complaints               -0.014253  \n",
       "number_of_policies                      -0.002379  \n",
       "total_claim_amount                       1.000000  "
      ]
     },
     "execution_count": 78,
     "metadata": {},
     "output_type": "execute_result"
    }
   ],
   "source": [
    "correlation_matrix"
   ]
  },
  {
   "cell_type": "markdown",
   "metadata": {},
   "source": [
    "We plot the heatmap with seaborn fuction sns."
   ]
  },
  {
   "cell_type": "code",
   "execution_count": 79,
   "metadata": {},
   "outputs": [
    {
     "data": {
      "text/plain": [
       "<AxesSubplot:title={'center':'Correlation Heatmap'}>"
      ]
     },
     "execution_count": 79,
     "metadata": {},
     "output_type": "execute_result"
    },
    {
     "data": {
      "image/png": "[encoded data removed]",
      "text/plain": [
       "<Figure size 576x576 with 2 Axes>"
      ]
     },
     "metadata": {},
     "output_type": "display_data"
    }
   ],
   "source": [
    "# create figure and axes\n",
    "fig5, ax5 = plt.subplots(figsize = (8,8))\n",
    "\n",
    "# set title\n",
    "ax5.set_title('Correlation Heatmap', fontweight='bold')\n",
    "\n",
    "\n",
    "\n",
    "sns.heatmap(correlation_matrix,  # the data for the heatmap\n",
    "                          annot=True,  # show the actual values of correlation\n",
    "                          cmap='seismic',  # provide the 'seismic' colormap\n",
    "                          center=0,  # specify the value at which to center the colormap\n",
    "                          )"
   ]
  },
  {
   "cell_type": "markdown",
   "metadata": {},
   "source": [
    "## Numerical and Categorical Columns"
   ]
  },
  {
   "cell_type": "code",
   "execution_count": 80,
   "metadata": {},
   "outputs": [
    {
     "data": {
      "text/html": [
       "<div>\n",
       "<style scoped>\n",
       "    .dataframe tbody tr th:only-of-type {\n",
       "        vertical-align: middle;\n",
       "    }\n",
       "\n",
       "    .dataframe tbody tr th {\n",
       "        vertical-align: top;\n",
       "    }\n",
       "\n",
       "    .dataframe thead th {\n",
       "        text-align: right;\n",
       "    }\n",
       "</style>\n",
       "<table border=\"1\" class=\"dataframe\">\n",
       "  <thead>\n",
       "    <tr style=\"text-align: right;\">\n",
       "      <th></th>\n",
       "      <th>customer_lifetime_value</th>\n",
       "      <th>income</th>\n",
       "      <th>monthly_premium_auto</th>\n",
       "      <th>months_since_last_claim</th>\n",
       "      <th>months_since_policy_inception</th>\n",
       "      <th>number_of_open_complaints</th>\n",
       "      <th>number_of_policies</th>\n",
       "      <th>total_claim_amount</th>\n",
       "    </tr>\n",
       "  </thead>\n",
       "  <tbody>\n",
       "    <tr>\n",
       "      <th>0</th>\n",
       "      <td>4809</td>\n",
       "      <td>48029</td>\n",
       "      <td>61</td>\n",
       "      <td>7</td>\n",
       "      <td>52</td>\n",
       "      <td>0</td>\n",
       "      <td>9</td>\n",
       "      <td>292</td>\n",
       "    </tr>\n",
       "    <tr>\n",
       "      <th>1</th>\n",
       "      <td>2228</td>\n",
       "      <td>0</td>\n",
       "      <td>64</td>\n",
       "      <td>3</td>\n",
       "      <td>26</td>\n",
       "      <td>0</td>\n",
       "      <td>1</td>\n",
       "      <td>744</td>\n",
       "    </tr>\n",
       "    <tr>\n",
       "      <th>2</th>\n",
       "      <td>14947</td>\n",
       "      <td>22139</td>\n",
       "      <td>100</td>\n",
       "      <td>34</td>\n",
       "      <td>31</td>\n",
       "      <td>0</td>\n",
       "      <td>2</td>\n",
       "      <td>480</td>\n",
       "    </tr>\n",
       "    <tr>\n",
       "      <th>3</th>\n",
       "      <td>22332</td>\n",
       "      <td>49078</td>\n",
       "      <td>97</td>\n",
       "      <td>10</td>\n",
       "      <td>3</td>\n",
       "      <td>0</td>\n",
       "      <td>2</td>\n",
       "      <td>484</td>\n",
       "    </tr>\n",
       "    <tr>\n",
       "      <th>4</th>\n",
       "      <td>5035</td>\n",
       "      <td>37405</td>\n",
       "      <td>63</td>\n",
       "      <td>8</td>\n",
       "      <td>99</td>\n",
       "      <td>3</td>\n",
       "      <td>4</td>\n",
       "      <td>287</td>\n",
       "    </tr>\n",
       "    <tr>\n",
       "      <th>...</th>\n",
       "      <td>...</td>\n",
       "      <td>...</td>\n",
       "      <td>...</td>\n",
       "      <td>...</td>\n",
       "      <td>...</td>\n",
       "      <td>...</td>\n",
       "      <td>...</td>\n",
       "      <td>...</td>\n",
       "    </tr>\n",
       "    <tr>\n",
       "      <th>9129</th>\n",
       "      <td>2771</td>\n",
       "      <td>59855</td>\n",
       "      <td>74</td>\n",
       "      <td>30</td>\n",
       "      <td>82</td>\n",
       "      <td>4</td>\n",
       "      <td>1</td>\n",
       "      <td>355</td>\n",
       "    </tr>\n",
       "    <tr>\n",
       "      <th>9130</th>\n",
       "      <td>19228</td>\n",
       "      <td>0</td>\n",
       "      <td>187</td>\n",
       "      <td>14</td>\n",
       "      <td>32</td>\n",
       "      <td>0</td>\n",
       "      <td>2</td>\n",
       "      <td>897</td>\n",
       "    </tr>\n",
       "    <tr>\n",
       "      <th>9131</th>\n",
       "      <td>5259</td>\n",
       "      <td>61146</td>\n",
       "      <td>65</td>\n",
       "      <td>7</td>\n",
       "      <td>68</td>\n",
       "      <td>0</td>\n",
       "      <td>6</td>\n",
       "      <td>273</td>\n",
       "    </tr>\n",
       "    <tr>\n",
       "      <th>9132</th>\n",
       "      <td>23893</td>\n",
       "      <td>39837</td>\n",
       "      <td>201</td>\n",
       "      <td>11</td>\n",
       "      <td>63</td>\n",
       "      <td>0</td>\n",
       "      <td>2</td>\n",
       "      <td>381</td>\n",
       "    </tr>\n",
       "    <tr>\n",
       "      <th>9133</th>\n",
       "      <td>11971</td>\n",
       "      <td>64195</td>\n",
       "      <td>158</td>\n",
       "      <td>0</td>\n",
       "      <td>27</td>\n",
       "      <td>4</td>\n",
       "      <td>6</td>\n",
       "      <td>618</td>\n",
       "    </tr>\n",
       "  </tbody>\n",
       "</table>\n",
       "<p>9134 rows × 8 columns</p>\n",
       "</div>"
      ],
      "text/plain": [
       "      customer_lifetime_value  income  monthly_premium_auto  \\\n",
       "0                        4809   48029                    61   \n",
       "1                        2228       0                    64   \n",
       "2                       14947   22139                   100   \n",
       "3                       22332   49078                    97   \n",
       "4                        5035   37405                    63   \n",
       "...                       ...     ...                   ...   \n",
       "9129                     2771   59855                    74   \n",
       "9130                    19228       0                   187   \n",
       "9131                     5259   61146                    65   \n",
       "9132                    23893   39837                   201   \n",
       "9133                    11971   64195                   158   \n",
       "\n",
       "      months_since_last_claim  months_since_policy_inception  \\\n",
       "0                           7                             52   \n",
       "1                           3                             26   \n",
       "2                          34                             31   \n",
       "3                          10                              3   \n",
       "4                           8                             99   \n",
       "...                       ...                            ...   \n",
       "9129                       30                             82   \n",
       "9130                       14                             32   \n",
       "9131                        7                             68   \n",
       "9132                       11                             63   \n",
       "9133                        0                             27   \n",
       "\n",
       "      number_of_open_complaints  number_of_policies  total_claim_amount  \n",
       "0                             0                   9                 292  \n",
       "1                             0                   1                 744  \n",
       "2                             0                   2                 480  \n",
       "3                             0                   2                 484  \n",
       "4                             3                   4                 287  \n",
       "...                         ...                 ...                 ...  \n",
       "9129                          4                   1                 355  \n",
       "9130                          0                   2                 897  \n",
       "9131                          0                   6                 273  \n",
       "9132                          0                   2                 381  \n",
       "9133                          4                   6                 618  \n",
       "\n",
       "[9134 rows x 8 columns]"
      ]
     },
     "execution_count": 80,
     "metadata": {},
     "output_type": "execute_result"
    }
   ],
   "source": [
    "ca_c_num_df"
   ]
  },
  {
   "cell_type": "code",
   "execution_count": 81,
   "metadata": {},
   "outputs": [
    {
     "data": {
      "text/html": [
       "<div>\n",
       "<style scoped>\n",
       "    .dataframe tbody tr th:only-of-type {\n",
       "        vertical-align: middle;\n",
       "    }\n",
       "\n",
       "    .dataframe tbody tr th {\n",
       "        vertical-align: top;\n",
       "    }\n",
       "\n",
       "    .dataframe thead th {\n",
       "        text-align: right;\n",
       "    }\n",
       "</style>\n",
       "<table border=\"1\" class=\"dataframe\">\n",
       "  <thead>\n",
       "    <tr style=\"text-align: right;\">\n",
       "      <th></th>\n",
       "    </tr>\n",
       "  </thead>\n",
       "  <tbody>\n",
       "    <tr>\n",
       "      <th>0</th>\n",
       "    </tr>\n",
       "    <tr>\n",
       "      <th>1</th>\n",
       "    </tr>\n",
       "    <tr>\n",
       "      <th>2</th>\n",
       "    </tr>\n",
       "    <tr>\n",
       "      <th>3</th>\n",
       "    </tr>\n",
       "    <tr>\n",
       "      <th>4</th>\n",
       "    </tr>\n",
       "    <tr>\n",
       "      <th>...</th>\n",
       "    </tr>\n",
       "    <tr>\n",
       "      <th>9129</th>\n",
       "    </tr>\n",
       "    <tr>\n",
       "      <th>9130</th>\n",
       "    </tr>\n",
       "    <tr>\n",
       "      <th>9131</th>\n",
       "    </tr>\n",
       "    <tr>\n",
       "      <th>9132</th>\n",
       "    </tr>\n",
       "    <tr>\n",
       "      <th>9133</th>\n",
       "    </tr>\n",
       "  </tbody>\n",
       "</table>\n",
       "<p>9134 rows × 0 columns</p>\n",
       "</div>"
      ],
      "text/plain": [
       "Empty DataFrame\n",
       "Columns: []\n",
       "Index: [0, 1, 2, 3, 4, 5, 6, 7, 8, 9, 10, 11, 12, 13, 14, 15, 16, 17, 18, 19, 20, 21, 22, 23, 24, 25, 26, 27, 28, 29, 30, 31, 32, 33, 34, 35, 36, 37, 38, 39, 40, 41, 42, 43, 44, 45, 46, 47, 48, 49, 50, 51, 52, 53, 54, 55, 56, 57, 58, 59, 60, 61, 62, 63, 64, 65, 66, 67, 68, 69, 70, 71, 72, 73, 74, 75, 76, 77, 78, 79, 80, 81, 82, 83, 84, 85, 86, 87, 88, 89, 90, 91, 92, 93, 94, 95, 96, 97, 98, 99, ...]\n",
       "\n",
       "[9134 rows x 0 columns]"
      ]
     },
     "execution_count": 81,
     "metadata": {},
     "output_type": "execute_result"
    }
   ],
   "source": [
    "ca_c_cat_df = ca_c_df.select_dtypes(\"object\")\n",
    "ca_c_cat_df"
   ]
  },
  {
   "cell_type": "markdown",
   "metadata": {},
   "source": [
    "## Distribution plots"
   ]
  },
  {
   "cell_type": "code",
   "execution_count": 82,
   "metadata": {},
   "outputs": [
    {
     "data": {
      "text/plain": [
       "array([[<AxesSubplot:title={'center':'customer_lifetime_value'}>,\n",
       "        <AxesSubplot:title={'center':'income'}>,\n",
       "        <AxesSubplot:title={'center':'monthly_premium_auto'}>],\n",
       "       [<AxesSubplot:title={'center':'months_since_last_claim'}>,\n",
       "        <AxesSubplot:title={'center':'months_since_policy_inception'}>,\n",
       "        <AxesSubplot:title={'center':'number_of_open_complaints'}>],\n",
       "       [<AxesSubplot:title={'center':'number_of_policies'}>,\n",
       "        <AxesSubplot:title={'center':'total_claim_amount'}>,\n",
       "        <AxesSubplot:>]], dtype=object)"
      ]
     },
     "execution_count": 82,
     "metadata": {},
     "output_type": "execute_result"
    },
    {
     "data": {
      "image/png": "[encoded data removed]",
      "text/plain": [
       "<Figure size 864x864 with 9 Axes>"
      ]
     },
     "metadata": {},
     "output_type": "display_data"
    }
   ],
   "source": [
    "# Using Pandas\n",
    "\n",
    "ca_c_num_df.hist(figsize=(12,12))"
   ]
  },
  {
   "cell_type": "code",
   "execution_count": 83,
   "metadata": {},
   "outputs": [],
   "source": [
    "#using sns and dedicated function\n",
    "\n",
    "def dist_plot(df, ncolumns):\n",
    "\n",
    "    columns = np.array(df.columns)\n",
    "    nrows = (len(columns) % ncolumns) + 1\n",
    "\n",
    "    fig, axs = plt.subplots(nrows, ncolumns, figsize = (16,16))\n",
    "\n",
    "    pad_value = (nrows - (len(columns) // nrows))\n",
    "    columns = np.pad(columns, pad_value, constant_values = \"\")[pad_value:]\n",
    "    columns = columns.reshape(nrows, ncolumns)\n",
    "\n",
    "\n",
    "    for i in range(nrows):\n",
    "\n",
    "        for j in range(ncolumns):\n",
    "\n",
    "            try:\n",
    "\n",
    "                sns.histplot(df, x = columns[i,j], ax = axs[i, j])\n",
    "\n",
    "            except:\n",
    "                continue\n",
    "\n"
   ]
  },
  {
   "cell_type": "code",
   "execution_count": 84,
   "metadata": {},
   "outputs": [
    {
     "data": {
      "image/png": "[encoded data removed]",
      "text/plain": [
       "<Figure size 1152x1152 with 9 Axes>"
      ]
     },
     "metadata": {},
     "output_type": "display_data"
    }
   ],
   "source": [
    "dist_plot(ca_c_num_df, 3)"
   ]
  },
  {
   "cell_type": "code",
   "execution_count": 85,
   "metadata": {},
   "outputs": [
    {
     "data": {
      "image/png": "[encoded data removed]",
      "text/plain": [
       "<Figure size 216x216 with 1 Axes>"
      ]
     },
     "metadata": {},
     "output_type": "display_data"
    }
   ],
   "source": [
    "g = sns.FacetGrid(ca_c_num_df)"
   ]
  },
  {
   "cell_type": "code",
   "execution_count": 86,
   "metadata": {},
   "outputs": [],
   "source": [
    "#using sns FacetGrid\n",
    "\n",
    "\n",
    "# First we melt the dataframe to have all data in one single column\n",
    "ca_c_num_df_melted = ca_c_num_df.melt(var_name=\"column\")\n"
   ]
  },
  {
   "cell_type": "code",
   "execution_count": 87,
   "metadata": {},
   "outputs": [
    {
     "data": {
      "text/html": [
       "<div>\n",
       "<style scoped>\n",
       "    .dataframe tbody tr th:only-of-type {\n",
       "        vertical-align: middle;\n",
       "    }\n",
       "\n",
       "    .dataframe tbody tr th {\n",
       "        vertical-align: top;\n",
       "    }\n",
       "\n",
       "    .dataframe thead th {\n",
       "        text-align: right;\n",
       "    }\n",
       "</style>\n",
       "<table border=\"1\" class=\"dataframe\">\n",
       "  <thead>\n",
       "    <tr style=\"text-align: right;\">\n",
       "      <th></th>\n",
       "      <th>column</th>\n",
       "      <th>value</th>\n",
       "    </tr>\n",
       "  </thead>\n",
       "  <tbody>\n",
       "    <tr>\n",
       "      <th>0</th>\n",
       "      <td>customer_lifetime_value</td>\n",
       "      <td>4809</td>\n",
       "    </tr>\n",
       "    <tr>\n",
       "      <th>1</th>\n",
       "      <td>customer_lifetime_value</td>\n",
       "      <td>2228</td>\n",
       "    </tr>\n",
       "    <tr>\n",
       "      <th>2</th>\n",
       "      <td>customer_lifetime_value</td>\n",
       "      <td>14947</td>\n",
       "    </tr>\n",
       "    <tr>\n",
       "      <th>3</th>\n",
       "      <td>customer_lifetime_value</td>\n",
       "      <td>22332</td>\n",
       "    </tr>\n",
       "    <tr>\n",
       "      <th>4</th>\n",
       "      <td>customer_lifetime_value</td>\n",
       "      <td>5035</td>\n",
       "    </tr>\n",
       "  </tbody>\n",
       "</table>\n",
       "</div>"
      ],
      "text/plain": [
       "                    column  value\n",
       "0  customer_lifetime_value   4809\n",
       "1  customer_lifetime_value   2228\n",
       "2  customer_lifetime_value  14947\n",
       "3  customer_lifetime_value  22332\n",
       "4  customer_lifetime_value   5035"
      ]
     },
     "execution_count": 87,
     "metadata": {},
     "output_type": "execute_result"
    }
   ],
   "source": [
    "ca_c_num_df_melted.head()"
   ]
  },
  {
   "cell_type": "code",
   "execution_count": 88,
   "metadata": {},
   "outputs": [
    {
     "data": {
      "text/html": [
       "<div>\n",
       "<style scoped>\n",
       "    .dataframe tbody tr th:only-of-type {\n",
       "        vertical-align: middle;\n",
       "    }\n",
       "\n",
       "    .dataframe tbody tr th {\n",
       "        vertical-align: top;\n",
       "    }\n",
       "\n",
       "    .dataframe thead th {\n",
       "        text-align: right;\n",
       "    }\n",
       "</style>\n",
       "<table border=\"1\" class=\"dataframe\">\n",
       "  <thead>\n",
       "    <tr style=\"text-align: right;\">\n",
       "      <th></th>\n",
       "      <th>column</th>\n",
       "      <th>value</th>\n",
       "    </tr>\n",
       "  </thead>\n",
       "  <tbody>\n",
       "    <tr>\n",
       "      <th>73067</th>\n",
       "      <td>total_claim_amount</td>\n",
       "      <td>355</td>\n",
       "    </tr>\n",
       "    <tr>\n",
       "      <th>73068</th>\n",
       "      <td>total_claim_amount</td>\n",
       "      <td>897</td>\n",
       "    </tr>\n",
       "    <tr>\n",
       "      <th>73069</th>\n",
       "      <td>total_claim_amount</td>\n",
       "      <td>273</td>\n",
       "    </tr>\n",
       "    <tr>\n",
       "      <th>73070</th>\n",
       "      <td>total_claim_amount</td>\n",
       "      <td>381</td>\n",
       "    </tr>\n",
       "    <tr>\n",
       "      <th>73071</th>\n",
       "      <td>total_claim_amount</td>\n",
       "      <td>618</td>\n",
       "    </tr>\n",
       "  </tbody>\n",
       "</table>\n",
       "</div>"
      ],
      "text/plain": [
       "                   column  value\n",
       "73067  total_claim_amount    355\n",
       "73068  total_claim_amount    897\n",
       "73069  total_claim_amount    273\n",
       "73070  total_claim_amount    381\n",
       "73071  total_claim_amount    618"
      ]
     },
     "execution_count": 88,
     "metadata": {},
     "output_type": "execute_result"
    }
   ],
   "source": [
    "ca_c_num_df_melted.tail()"
   ]
  },
  {
   "cell_type": "code",
   "execution_count": 89,
   "metadata": {},
   "outputs": [
    {
     "data": {
      "text/plain": [
       "<seaborn.axisgrid.FacetGrid at 0x7fe1ae669e80>"
      ]
     },
     "execution_count": 89,
     "metadata": {},
     "output_type": "execute_result"
    },
    {
     "data": {
      "image/png": "[encoded data removed]",
      "text/plain": [
       "<Figure size 648x648 with 8 Axes>"
      ]
     },
     "metadata": {},
     "output_type": "display_data"
    }
   ],
   "source": [
    "# FacetGrid\n",
    "g = sns.FacetGrid(ca_c_num_df_melted, col='column', col_wrap=3, sharex=False, sharey=False)\n",
    "g.map(plt.hist, 'value')"
   ]
  },
  {
   "cell_type": "markdown",
   "metadata": {},
   "source": [
    "None of the numerical variables seems to be normally distributed."
   ]
  },
  {
   "cell_type": "markdown",
   "metadata": {},
   "source": [
    "## Multicollinearity"
   ]
  },
  {
   "cell_type": "code",
   "execution_count": 90,
   "metadata": {},
   "outputs": [
    {
     "data": {
      "image/png": "[encoded data removed]",
      "text/plain": [
       "<Figure size 576x576 with 2 Axes>"
      ]
     },
     "execution_count": 90,
     "metadata": {},
     "output_type": "execute_result"
    }
   ],
   "source": [
    "fig5"
   ]
  },
  {
   "cell_type": "markdown",
   "metadata": {},
   "source": [
    "There are no high correlated feature pairs in the dataset."
   ]
  },
  {
   "cell_type": "code",
   "execution_count": 91,
   "metadata": {},
   "outputs": [],
   "source": [
    "# sns.pairplot(ca_c_num_df)"
   ]
  },
  {
   "cell_type": "markdown",
   "metadata": {},
   "source": [
    "# Data Transformation"
   ]
  },
  {
   "cell_type": "markdown",
   "metadata": {},
   "source": [
    "## x-y split"
   ]
  },
  {
   "cell_type": "markdown",
   "metadata": {},
   "source": [
    "First we separate the dependent variable (Y) from the independent variables (X)"
   ]
  },
  {
   "cell_type": "code",
   "execution_count": 92,
   "metadata": {},
   "outputs": [],
   "source": [
    "X = ca_c_df.drop(\"total_claim_amount\", axis=1)\n",
    "y = ca_c_df[\"total_claim_amount\"]"
   ]
  },
  {
   "cell_type": "markdown",
   "metadata": {},
   "source": [
    "We allocate the categorical variable and the numerical variables."
   ]
  },
  {
   "cell_type": "code",
   "execution_count": 93,
   "metadata": {},
   "outputs": [],
   "source": [
    "X_num = X._get_numeric_data()\n",
    "X_cat = X.select_dtypes(\"category\")"
   ]
  },
  {
   "cell_type": "code",
   "execution_count": 94,
   "metadata": {},
   "outputs": [
    {
     "data": {
      "text/html": [
       "<div>\n",
       "<style scoped>\n",
       "    .dataframe tbody tr th:only-of-type {\n",
       "        vertical-align: middle;\n",
       "    }\n",
       "\n",
       "    .dataframe tbody tr th {\n",
       "        vertical-align: top;\n",
       "    }\n",
       "\n",
       "    .dataframe thead th {\n",
       "        text-align: right;\n",
       "    }\n",
       "</style>\n",
       "<table border=\"1\" class=\"dataframe\">\n",
       "  <thead>\n",
       "    <tr style=\"text-align: right;\">\n",
       "      <th></th>\n",
       "      <th>customer_lifetime_value</th>\n",
       "      <th>income</th>\n",
       "      <th>monthly_premium_auto</th>\n",
       "      <th>months_since_last_claim</th>\n",
       "      <th>months_since_policy_inception</th>\n",
       "      <th>number_of_open_complaints</th>\n",
       "      <th>number_of_policies</th>\n",
       "    </tr>\n",
       "  </thead>\n",
       "  <tbody>\n",
       "    <tr>\n",
       "      <th>0</th>\n",
       "      <td>4809</td>\n",
       "      <td>48029</td>\n",
       "      <td>61</td>\n",
       "      <td>7</td>\n",
       "      <td>52</td>\n",
       "      <td>0</td>\n",
       "      <td>9</td>\n",
       "    </tr>\n",
       "    <tr>\n",
       "      <th>1</th>\n",
       "      <td>2228</td>\n",
       "      <td>0</td>\n",
       "      <td>64</td>\n",
       "      <td>3</td>\n",
       "      <td>26</td>\n",
       "      <td>0</td>\n",
       "      <td>1</td>\n",
       "    </tr>\n",
       "    <tr>\n",
       "      <th>2</th>\n",
       "      <td>14947</td>\n",
       "      <td>22139</td>\n",
       "      <td>100</td>\n",
       "      <td>34</td>\n",
       "      <td>31</td>\n",
       "      <td>0</td>\n",
       "      <td>2</td>\n",
       "    </tr>\n",
       "    <tr>\n",
       "      <th>3</th>\n",
       "      <td>22332</td>\n",
       "      <td>49078</td>\n",
       "      <td>97</td>\n",
       "      <td>10</td>\n",
       "      <td>3</td>\n",
       "      <td>0</td>\n",
       "      <td>2</td>\n",
       "    </tr>\n",
       "    <tr>\n",
       "      <th>4</th>\n",
       "      <td>5035</td>\n",
       "      <td>37405</td>\n",
       "      <td>63</td>\n",
       "      <td>8</td>\n",
       "      <td>99</td>\n",
       "      <td>3</td>\n",
       "      <td>4</td>\n",
       "    </tr>\n",
       "    <tr>\n",
       "      <th>...</th>\n",
       "      <td>...</td>\n",
       "      <td>...</td>\n",
       "      <td>...</td>\n",
       "      <td>...</td>\n",
       "      <td>...</td>\n",
       "      <td>...</td>\n",
       "      <td>...</td>\n",
       "    </tr>\n",
       "    <tr>\n",
       "      <th>9129</th>\n",
       "      <td>2771</td>\n",
       "      <td>59855</td>\n",
       "      <td>74</td>\n",
       "      <td>30</td>\n",
       "      <td>82</td>\n",
       "      <td>4</td>\n",
       "      <td>1</td>\n",
       "    </tr>\n",
       "    <tr>\n",
       "      <th>9130</th>\n",
       "      <td>19228</td>\n",
       "      <td>0</td>\n",
       "      <td>187</td>\n",
       "      <td>14</td>\n",
       "      <td>32</td>\n",
       "      <td>0</td>\n",
       "      <td>2</td>\n",
       "    </tr>\n",
       "    <tr>\n",
       "      <th>9131</th>\n",
       "      <td>5259</td>\n",
       "      <td>61146</td>\n",
       "      <td>65</td>\n",
       "      <td>7</td>\n",
       "      <td>68</td>\n",
       "      <td>0</td>\n",
       "      <td>6</td>\n",
       "    </tr>\n",
       "    <tr>\n",
       "      <th>9132</th>\n",
       "      <td>23893</td>\n",
       "      <td>39837</td>\n",
       "      <td>201</td>\n",
       "      <td>11</td>\n",
       "      <td>63</td>\n",
       "      <td>0</td>\n",
       "      <td>2</td>\n",
       "    </tr>\n",
       "    <tr>\n",
       "      <th>9133</th>\n",
       "      <td>11971</td>\n",
       "      <td>64195</td>\n",
       "      <td>158</td>\n",
       "      <td>0</td>\n",
       "      <td>27</td>\n",
       "      <td>4</td>\n",
       "      <td>6</td>\n",
       "    </tr>\n",
       "  </tbody>\n",
       "</table>\n",
       "<p>9134 rows × 7 columns</p>\n",
       "</div>"
      ],
      "text/plain": [
       "      customer_lifetime_value  income  monthly_premium_auto  \\\n",
       "0                        4809   48029                    61   \n",
       "1                        2228       0                    64   \n",
       "2                       14947   22139                   100   \n",
       "3                       22332   49078                    97   \n",
       "4                        5035   37405                    63   \n",
       "...                       ...     ...                   ...   \n",
       "9129                     2771   59855                    74   \n",
       "9130                    19228       0                   187   \n",
       "9131                     5259   61146                    65   \n",
       "9132                    23893   39837                   201   \n",
       "9133                    11971   64195                   158   \n",
       "\n",
       "      months_since_last_claim  months_since_policy_inception  \\\n",
       "0                           7                             52   \n",
       "1                           3                             26   \n",
       "2                          34                             31   \n",
       "3                          10                              3   \n",
       "4                           8                             99   \n",
       "...                       ...                            ...   \n",
       "9129                       30                             82   \n",
       "9130                       14                             32   \n",
       "9131                        7                             68   \n",
       "9132                       11                             63   \n",
       "9133                        0                             27   \n",
       "\n",
       "      number_of_open_complaints  number_of_policies  \n",
       "0                             0                   9  \n",
       "1                             0                   1  \n",
       "2                             0                   2  \n",
       "3                             0                   2  \n",
       "4                             3                   4  \n",
       "...                         ...                 ...  \n",
       "9129                          4                   1  \n",
       "9130                          0                   2  \n",
       "9131                          0                   6  \n",
       "9132                          0                   2  \n",
       "9133                          4                   6  \n",
       "\n",
       "[9134 rows x 7 columns]"
      ]
     },
     "execution_count": 94,
     "metadata": {},
     "output_type": "execute_result"
    }
   ],
   "source": [
    "X_num"
   ]
  },
  {
   "cell_type": "markdown",
   "metadata": {},
   "source": [
    "## Normalize numerical variables"
   ]
  },
  {
   "cell_type": "markdown",
   "metadata": {},
   "source": [
    "### Min-max normalization"
   ]
  },
  {
   "cell_type": "code",
   "execution_count": 95,
   "metadata": {},
   "outputs": [
    {
     "data": {
      "text/html": [
       "<div>\n",
       "<style scoped>\n",
       "    .dataframe tbody tr th:only-of-type {\n",
       "        vertical-align: middle;\n",
       "    }\n",
       "\n",
       "    .dataframe tbody tr th {\n",
       "        vertical-align: top;\n",
       "    }\n",
       "\n",
       "    .dataframe thead th {\n",
       "        text-align: right;\n",
       "    }\n",
       "</style>\n",
       "<table border=\"1\" class=\"dataframe\">\n",
       "  <thead>\n",
       "    <tr style=\"text-align: right;\">\n",
       "      <th></th>\n",
       "      <th>customer_lifetime_value</th>\n",
       "      <th>income</th>\n",
       "      <th>monthly_premium_auto</th>\n",
       "      <th>months_since_last_claim</th>\n",
       "      <th>months_since_policy_inception</th>\n",
       "      <th>number_of_open_complaints</th>\n",
       "      <th>number_of_policies</th>\n",
       "    </tr>\n",
       "  </thead>\n",
       "  <tbody>\n",
       "    <tr>\n",
       "      <th>0</th>\n",
       "      <td>0.035750</td>\n",
       "      <td>0.480381</td>\n",
       "      <td>0.000000</td>\n",
       "      <td>0.200000</td>\n",
       "      <td>0.525253</td>\n",
       "      <td>0.0</td>\n",
       "      <td>1.000</td>\n",
       "    </tr>\n",
       "    <tr>\n",
       "      <th>1</th>\n",
       "      <td>0.004053</td>\n",
       "      <td>0.000000</td>\n",
       "      <td>0.012658</td>\n",
       "      <td>0.085714</td>\n",
       "      <td>0.262626</td>\n",
       "      <td>0.0</td>\n",
       "      <td>0.000</td>\n",
       "    </tr>\n",
       "    <tr>\n",
       "      <th>2</th>\n",
       "      <td>0.160254</td>\n",
       "      <td>0.221432</td>\n",
       "      <td>0.164557</td>\n",
       "      <td>0.971429</td>\n",
       "      <td>0.313131</td>\n",
       "      <td>0.0</td>\n",
       "      <td>0.125</td>\n",
       "    </tr>\n",
       "    <tr>\n",
       "      <th>3</th>\n",
       "      <td>0.250949</td>\n",
       "      <td>0.490873</td>\n",
       "      <td>0.151899</td>\n",
       "      <td>0.285714</td>\n",
       "      <td>0.030303</td>\n",
       "      <td>0.0</td>\n",
       "      <td>0.125</td>\n",
       "    </tr>\n",
       "    <tr>\n",
       "      <th>4</th>\n",
       "      <td>0.038525</td>\n",
       "      <td>0.374121</td>\n",
       "      <td>0.008439</td>\n",
       "      <td>0.228571</td>\n",
       "      <td>1.000000</td>\n",
       "      <td>0.6</td>\n",
       "      <td>0.375</td>\n",
       "    </tr>\n",
       "    <tr>\n",
       "      <th>...</th>\n",
       "      <td>...</td>\n",
       "      <td>...</td>\n",
       "      <td>...</td>\n",
       "      <td>...</td>\n",
       "      <td>...</td>\n",
       "      <td>...</td>\n",
       "      <td>...</td>\n",
       "    </tr>\n",
       "    <tr>\n",
       "      <th>9129</th>\n",
       "      <td>0.010721</td>\n",
       "      <td>0.598664</td>\n",
       "      <td>0.054852</td>\n",
       "      <td>0.857143</td>\n",
       "      <td>0.828283</td>\n",
       "      <td>0.8</td>\n",
       "      <td>0.000</td>\n",
       "    </tr>\n",
       "    <tr>\n",
       "      <th>9130</th>\n",
       "      <td>0.212829</td>\n",
       "      <td>0.000000</td>\n",
       "      <td>0.531646</td>\n",
       "      <td>0.400000</td>\n",
       "      <td>0.323232</td>\n",
       "      <td>0.0</td>\n",
       "      <td>0.125</td>\n",
       "    </tr>\n",
       "    <tr>\n",
       "      <th>9131</th>\n",
       "      <td>0.041276</td>\n",
       "      <td>0.611576</td>\n",
       "      <td>0.016878</td>\n",
       "      <td>0.200000</td>\n",
       "      <td>0.686869</td>\n",
       "      <td>0.0</td>\n",
       "      <td>0.625</td>\n",
       "    </tr>\n",
       "    <tr>\n",
       "      <th>9132</th>\n",
       "      <td>0.270119</td>\n",
       "      <td>0.398446</td>\n",
       "      <td>0.590717</td>\n",
       "      <td>0.314286</td>\n",
       "      <td>0.636364</td>\n",
       "      <td>0.0</td>\n",
       "      <td>0.125</td>\n",
       "    </tr>\n",
       "    <tr>\n",
       "      <th>9133</th>\n",
       "      <td>0.123706</td>\n",
       "      <td>0.642072</td>\n",
       "      <td>0.409283</td>\n",
       "      <td>0.000000</td>\n",
       "      <td>0.272727</td>\n",
       "      <td>0.8</td>\n",
       "      <td>0.625</td>\n",
       "    </tr>\n",
       "  </tbody>\n",
       "</table>\n",
       "<p>9134 rows × 7 columns</p>\n",
       "</div>"
      ],
      "text/plain": [
       "      customer_lifetime_value    income  monthly_premium_auto  \\\n",
       "0                    0.035750  0.480381              0.000000   \n",
       "1                    0.004053  0.000000              0.012658   \n",
       "2                    0.160254  0.221432              0.164557   \n",
       "3                    0.250949  0.490873              0.151899   \n",
       "4                    0.038525  0.374121              0.008439   \n",
       "...                       ...       ...                   ...   \n",
       "9129                 0.010721  0.598664              0.054852   \n",
       "9130                 0.212829  0.000000              0.531646   \n",
       "9131                 0.041276  0.611576              0.016878   \n",
       "9132                 0.270119  0.398446              0.590717   \n",
       "9133                 0.123706  0.642072              0.409283   \n",
       "\n",
       "      months_since_last_claim  months_since_policy_inception  \\\n",
       "0                    0.200000                       0.525253   \n",
       "1                    0.085714                       0.262626   \n",
       "2                    0.971429                       0.313131   \n",
       "3                    0.285714                       0.030303   \n",
       "4                    0.228571                       1.000000   \n",
       "...                       ...                            ...   \n",
       "9129                 0.857143                       0.828283   \n",
       "9130                 0.400000                       0.323232   \n",
       "9131                 0.200000                       0.686869   \n",
       "9132                 0.314286                       0.636364   \n",
       "9133                 0.000000                       0.272727   \n",
       "\n",
       "      number_of_open_complaints  number_of_policies  \n",
       "0                           0.0               1.000  \n",
       "1                           0.0               0.000  \n",
       "2                           0.0               0.125  \n",
       "3                           0.0               0.125  \n",
       "4                           0.6               0.375  \n",
       "...                         ...                 ...  \n",
       "9129                        0.8               0.000  \n",
       "9130                        0.0               0.125  \n",
       "9131                        0.0               0.625  \n",
       "9132                        0.0               0.125  \n",
       "9133                        0.8               0.625  \n",
       "\n",
       "[9134 rows x 7 columns]"
      ]
     },
     "execution_count": 95,
     "metadata": {},
     "output_type": "execute_result"
    }
   ],
   "source": [
    "X_num_scaled_minmax = pd.DataFrame(MinMaxScaler().fit_transform(X_num), columns=X_num.columns)\n",
    "X_num_scaled_minmax\n"
   ]
  },
  {
   "cell_type": "markdown",
   "metadata": {},
   "source": [
    "### Standard normalization"
   ]
  },
  {
   "cell_type": "code",
   "execution_count": 96,
   "metadata": {},
   "outputs": [
    {
     "data": {
      "text/html": [
       "<div>\n",
       "<style scoped>\n",
       "    .dataframe tbody tr th:only-of-type {\n",
       "        vertical-align: middle;\n",
       "    }\n",
       "\n",
       "    .dataframe tbody tr th {\n",
       "        vertical-align: top;\n",
       "    }\n",
       "\n",
       "    .dataframe thead th {\n",
       "        text-align: right;\n",
       "    }\n",
       "</style>\n",
       "<table border=\"1\" class=\"dataframe\">\n",
       "  <thead>\n",
       "    <tr style=\"text-align: right;\">\n",
       "      <th></th>\n",
       "      <th>customer_lifetime_value</th>\n",
       "      <th>income</th>\n",
       "      <th>monthly_premium_auto</th>\n",
       "      <th>months_since_last_claim</th>\n",
       "      <th>months_since_policy_inception</th>\n",
       "      <th>number_of_open_complaints</th>\n",
       "      <th>number_of_policies</th>\n",
       "    </tr>\n",
       "  </thead>\n",
       "  <tbody>\n",
       "    <tr>\n",
       "      <th>0</th>\n",
       "      <td>-0.465089</td>\n",
       "      <td>0.341416</td>\n",
       "      <td>-0.936442</td>\n",
       "      <td>-0.803856</td>\n",
       "      <td>0.141031</td>\n",
       "      <td>-0.422250</td>\n",
       "      <td>2.524561</td>\n",
       "    </tr>\n",
       "    <tr>\n",
       "      <th>1</th>\n",
       "      <td>-0.840748</td>\n",
       "      <td>-1.239617</td>\n",
       "      <td>-0.849248</td>\n",
       "      <td>-1.200968</td>\n",
       "      <td>-0.790719</td>\n",
       "      <td>-0.422250</td>\n",
       "      <td>-0.822648</td>\n",
       "    </tr>\n",
       "    <tr>\n",
       "      <th>2</th>\n",
       "      <td>1.010475</td>\n",
       "      <td>-0.510839</td>\n",
       "      <td>0.197079</td>\n",
       "      <td>1.876656</td>\n",
       "      <td>-0.611536</td>\n",
       "      <td>-0.422250</td>\n",
       "      <td>-0.404247</td>\n",
       "    </tr>\n",
       "    <tr>\n",
       "      <th>3</th>\n",
       "      <td>2.085346</td>\n",
       "      <td>0.375947</td>\n",
       "      <td>0.109885</td>\n",
       "      <td>-0.506021</td>\n",
       "      <td>-1.614960</td>\n",
       "      <td>-0.422250</td>\n",
       "      <td>-0.404247</td>\n",
       "    </tr>\n",
       "    <tr>\n",
       "      <th>4</th>\n",
       "      <td>-0.432195</td>\n",
       "      <td>-0.008308</td>\n",
       "      <td>-0.878312</td>\n",
       "      <td>-0.704577</td>\n",
       "      <td>1.825350</td>\n",
       "      <td>2.873245</td>\n",
       "      <td>0.432555</td>\n",
       "    </tr>\n",
       "    <tr>\n",
       "      <th>...</th>\n",
       "      <td>...</td>\n",
       "      <td>...</td>\n",
       "      <td>...</td>\n",
       "      <td>...</td>\n",
       "      <td>...</td>\n",
       "      <td>...</td>\n",
       "      <td>...</td>\n",
       "    </tr>\n",
       "    <tr>\n",
       "      <th>9129</th>\n",
       "      <td>-0.761716</td>\n",
       "      <td>0.730708</td>\n",
       "      <td>-0.558602</td>\n",
       "      <td>1.479543</td>\n",
       "      <td>1.216128</td>\n",
       "      <td>3.971744</td>\n",
       "      <td>-0.822648</td>\n",
       "    </tr>\n",
       "    <tr>\n",
       "      <th>9130</th>\n",
       "      <td>1.633566</td>\n",
       "      <td>-1.239617</td>\n",
       "      <td>2.725701</td>\n",
       "      <td>-0.108908</td>\n",
       "      <td>-0.575700</td>\n",
       "      <td>-0.422250</td>\n",
       "      <td>-0.404247</td>\n",
       "    </tr>\n",
       "    <tr>\n",
       "      <th>9131</th>\n",
       "      <td>-0.399592</td>\n",
       "      <td>0.773205</td>\n",
       "      <td>-0.820183</td>\n",
       "      <td>-0.803856</td>\n",
       "      <td>0.714416</td>\n",
       "      <td>-0.422250</td>\n",
       "      <td>1.269358</td>\n",
       "    </tr>\n",
       "    <tr>\n",
       "      <th>9132</th>\n",
       "      <td>2.312546</td>\n",
       "      <td>0.071749</td>\n",
       "      <td>3.132606</td>\n",
       "      <td>-0.406743</td>\n",
       "      <td>0.535234</td>\n",
       "      <td>-0.422250</td>\n",
       "      <td>-0.404247</td>\n",
       "    </tr>\n",
       "    <tr>\n",
       "      <th>9133</th>\n",
       "      <td>0.577325</td>\n",
       "      <td>0.873573</td>\n",
       "      <td>1.882827</td>\n",
       "      <td>-1.498803</td>\n",
       "      <td>-0.754883</td>\n",
       "      <td>3.971744</td>\n",
       "      <td>1.269358</td>\n",
       "    </tr>\n",
       "  </tbody>\n",
       "</table>\n",
       "<p>9134 rows × 7 columns</p>\n",
       "</div>"
      ],
      "text/plain": [
       "      customer_lifetime_value    income  monthly_premium_auto  \\\n",
       "0                   -0.465089  0.341416             -0.936442   \n",
       "1                   -0.840748 -1.239617             -0.849248   \n",
       "2                    1.010475 -0.510839              0.197079   \n",
       "3                    2.085346  0.375947              0.109885   \n",
       "4                   -0.432195 -0.008308             -0.878312   \n",
       "...                       ...       ...                   ...   \n",
       "9129                -0.761716  0.730708             -0.558602   \n",
       "9130                 1.633566 -1.239617              2.725701   \n",
       "9131                -0.399592  0.773205             -0.820183   \n",
       "9132                 2.312546  0.071749              3.132606   \n",
       "9133                 0.577325  0.873573              1.882827   \n",
       "\n",
       "      months_since_last_claim  months_since_policy_inception  \\\n",
       "0                   -0.803856                       0.141031   \n",
       "1                   -1.200968                      -0.790719   \n",
       "2                    1.876656                      -0.611536   \n",
       "3                   -0.506021                      -1.614960   \n",
       "4                   -0.704577                       1.825350   \n",
       "...                       ...                            ...   \n",
       "9129                 1.479543                       1.216128   \n",
       "9130                -0.108908                      -0.575700   \n",
       "9131                -0.803856                       0.714416   \n",
       "9132                -0.406743                       0.535234   \n",
       "9133                -1.498803                      -0.754883   \n",
       "\n",
       "      number_of_open_complaints  number_of_policies  \n",
       "0                     -0.422250            2.524561  \n",
       "1                     -0.422250           -0.822648  \n",
       "2                     -0.422250           -0.404247  \n",
       "3                     -0.422250           -0.404247  \n",
       "4                      2.873245            0.432555  \n",
       "...                         ...                 ...  \n",
       "9129                   3.971744           -0.822648  \n",
       "9130                  -0.422250           -0.404247  \n",
       "9131                  -0.422250            1.269358  \n",
       "9132                  -0.422250           -0.404247  \n",
       "9133                   3.971744            1.269358  \n",
       "\n",
       "[9134 rows x 7 columns]"
      ]
     },
     "execution_count": 96,
     "metadata": {},
     "output_type": "execute_result"
    }
   ],
   "source": [
    "X_num_scaled_standard = pd.DataFrame(StandardScaler().fit_transform(X_num), columns=X_num.columns)\n",
    "X_num_scaled_standard"
   ]
  },
  {
   "cell_type": "markdown",
   "metadata": {},
   "source": [
    "## Categorical Variables Enconding"
   ]
  },
  {
   "cell_type": "code",
   "execution_count": 97,
   "metadata": {},
   "outputs": [
    {
     "data": {
      "text/html": [
       "<div>\n",
       "<style scoped>\n",
       "    .dataframe tbody tr th:only-of-type {\n",
       "        vertical-align: middle;\n",
       "    }\n",
       "\n",
       "    .dataframe tbody tr th {\n",
       "        vertical-align: top;\n",
       "    }\n",
       "\n",
       "    .dataframe thead th {\n",
       "        text-align: right;\n",
       "    }\n",
       "</style>\n",
       "<table border=\"1\" class=\"dataframe\">\n",
       "  <thead>\n",
       "    <tr style=\"text-align: right;\">\n",
       "      <th></th>\n",
       "      <th>state</th>\n",
       "      <th>response</th>\n",
       "      <th>coverage</th>\n",
       "      <th>education</th>\n",
       "      <th>employmentstatus</th>\n",
       "      <th>gender</th>\n",
       "      <th>location_code</th>\n",
       "      <th>marital_status</th>\n",
       "      <th>policy_type</th>\n",
       "      <th>renew_offer_type</th>\n",
       "      <th>sales_channel</th>\n",
       "      <th>vehicle_class</th>\n",
       "      <th>vehicle_size</th>\n",
       "      <th>total_claim_amount_binned</th>\n",
       "      <th>income_binned</th>\n",
       "    </tr>\n",
       "  </thead>\n",
       "  <tbody>\n",
       "    <tr>\n",
       "      <th>0</th>\n",
       "      <td>arizona</td>\n",
       "      <td>no</td>\n",
       "      <td>basic</td>\n",
       "      <td>college</td>\n",
       "      <td>employed</td>\n",
       "      <td>m</td>\n",
       "      <td>suburban</td>\n",
       "      <td>married</td>\n",
       "      <td>corporate auto</td>\n",
       "      <td>offer3</td>\n",
       "      <td>agent</td>\n",
       "      <td>four-door car</td>\n",
       "      <td>medsize</td>\n",
       "      <td>Low</td>\n",
       "      <td>Moderate</td>\n",
       "    </tr>\n",
       "    <tr>\n",
       "      <th>1</th>\n",
       "      <td>california</td>\n",
       "      <td>no</td>\n",
       "      <td>basic</td>\n",
       "      <td>college</td>\n",
       "      <td>unemployed</td>\n",
       "      <td>f</td>\n",
       "      <td>suburban</td>\n",
       "      <td>single</td>\n",
       "      <td>personal auto</td>\n",
       "      <td>offer4</td>\n",
       "      <td>call center</td>\n",
       "      <td>four-door car</td>\n",
       "      <td>medsize</td>\n",
       "      <td>Low</td>\n",
       "      <td>Very Low</td>\n",
       "    </tr>\n",
       "    <tr>\n",
       "      <th>2</th>\n",
       "      <td>washington</td>\n",
       "      <td>no</td>\n",
       "      <td>basic</td>\n",
       "      <td>bachelor</td>\n",
       "      <td>employed</td>\n",
       "      <td>m</td>\n",
       "      <td>suburban</td>\n",
       "      <td>single</td>\n",
       "      <td>personal auto</td>\n",
       "      <td>offer3</td>\n",
       "      <td>call center</td>\n",
       "      <td>suv</td>\n",
       "      <td>medsize</td>\n",
       "      <td>Low</td>\n",
       "      <td>Low</td>\n",
       "    </tr>\n",
       "    <tr>\n",
       "      <th>3</th>\n",
       "      <td>oregon</td>\n",
       "      <td>yes</td>\n",
       "      <td>extended</td>\n",
       "      <td>college</td>\n",
       "      <td>employed</td>\n",
       "      <td>m</td>\n",
       "      <td>suburban</td>\n",
       "      <td>single</td>\n",
       "      <td>corporate auto</td>\n",
       "      <td>offer2</td>\n",
       "      <td>branch</td>\n",
       "      <td>four-door car</td>\n",
       "      <td>medsize</td>\n",
       "      <td>Low</td>\n",
       "      <td>Moderate</td>\n",
       "    </tr>\n",
       "    <tr>\n",
       "      <th>4</th>\n",
       "      <td>california</td>\n",
       "      <td>no</td>\n",
       "      <td>basic</td>\n",
       "      <td>doctor</td>\n",
       "      <td>employed</td>\n",
       "      <td>f</td>\n",
       "      <td>urban</td>\n",
       "      <td>married</td>\n",
       "      <td>corporate auto</td>\n",
       "      <td>offer2</td>\n",
       "      <td>branch</td>\n",
       "      <td>four-door car</td>\n",
       "      <td>medsize</td>\n",
       "      <td>Low</td>\n",
       "      <td>Low</td>\n",
       "    </tr>\n",
       "  </tbody>\n",
       "</table>\n",
       "</div>"
      ],
      "text/plain": [
       "        state response  coverage education employmentstatus gender  \\\n",
       "0     arizona       no     basic   college         employed      m   \n",
       "1  california       no     basic   college       unemployed      f   \n",
       "2  washington       no     basic  bachelor         employed      m   \n",
       "3      oregon      yes  extended   college         employed      m   \n",
       "4  california       no     basic    doctor         employed      f   \n",
       "\n",
       "  location_code marital_status     policy_type renew_offer_type sales_channel  \\\n",
       "0      suburban        married  corporate auto           offer3         agent   \n",
       "1      suburban         single   personal auto           offer4   call center   \n",
       "2      suburban         single   personal auto           offer3   call center   \n",
       "3      suburban         single  corporate auto           offer2        branch   \n",
       "4         urban        married  corporate auto           offer2        branch   \n",
       "\n",
       "   vehicle_class vehicle_size total_claim_amount_binned income_binned  \n",
       "0  four-door car      medsize                       Low      Moderate  \n",
       "1  four-door car      medsize                       Low      Very Low  \n",
       "2            suv      medsize                       Low           Low  \n",
       "3  four-door car      medsize                       Low      Moderate  \n",
       "4  four-door car      medsize                       Low           Low  "
      ]
     },
     "execution_count": 97,
     "metadata": {},
     "output_type": "execute_result"
    }
   ],
   "source": [
    "X_cat.head()"
   ]
  },
  {
   "cell_type": "markdown",
   "metadata": {},
   "source": [
    "### Ordinal Encoding"
   ]
  },
  {
   "cell_type": "code",
   "execution_count": 98,
   "metadata": {},
   "outputs": [],
   "source": [
    "X_cat_ord = X_cat[[\"response\", \"coverage\", \"education\", \"renew_offer_type\", \"vehicle_size\"]]\n",
    "categories = [[\"no\",\"yes\"], [\"basic\", \"extended\", \"premium\"], [\"high school or below\", \"college\", \"bachelor\", \"master\", \"doctor\"], [\"offer1\", \"offer2\", \"offer3\", \"offer4\"], [\"not defined\", \"small\", \"medsize\", \"large\"]]\n",
    "\n",
    "ordinal_encoder = OrdinalEncoder(categories=categories)\n",
    "X_cat_ord_encoded = pd.DataFrame(ordinal_encoder.fit_transform(X_cat_ord),columns=X_cat_ord.columns)"
   ]
  },
  {
   "cell_type": "code",
   "execution_count": 99,
   "metadata": {},
   "outputs": [
    {
     "data": {
      "text/html": [
       "<div>\n",
       "<style scoped>\n",
       "    .dataframe tbody tr th:only-of-type {\n",
       "        vertical-align: middle;\n",
       "    }\n",
       "\n",
       "    .dataframe tbody tr th {\n",
       "        vertical-align: top;\n",
       "    }\n",
       "\n",
       "    .dataframe thead th {\n",
       "        text-align: right;\n",
       "    }\n",
       "</style>\n",
       "<table border=\"1\" class=\"dataframe\">\n",
       "  <thead>\n",
       "    <tr style=\"text-align: right;\">\n",
       "      <th></th>\n",
       "      <th>response</th>\n",
       "      <th>coverage</th>\n",
       "      <th>education</th>\n",
       "      <th>renew_offer_type</th>\n",
       "      <th>vehicle_size</th>\n",
       "    </tr>\n",
       "  </thead>\n",
       "  <tbody>\n",
       "    <tr>\n",
       "      <th>0</th>\n",
       "      <td>0.0</td>\n",
       "      <td>0.0</td>\n",
       "      <td>1.0</td>\n",
       "      <td>2.0</td>\n",
       "      <td>2.0</td>\n",
       "    </tr>\n",
       "    <tr>\n",
       "      <th>1</th>\n",
       "      <td>0.0</td>\n",
       "      <td>0.0</td>\n",
       "      <td>1.0</td>\n",
       "      <td>3.0</td>\n",
       "      <td>2.0</td>\n",
       "    </tr>\n",
       "    <tr>\n",
       "      <th>2</th>\n",
       "      <td>0.0</td>\n",
       "      <td>0.0</td>\n",
       "      <td>2.0</td>\n",
       "      <td>2.0</td>\n",
       "      <td>2.0</td>\n",
       "    </tr>\n",
       "    <tr>\n",
       "      <th>3</th>\n",
       "      <td>1.0</td>\n",
       "      <td>1.0</td>\n",
       "      <td>1.0</td>\n",
       "      <td>1.0</td>\n",
       "      <td>2.0</td>\n",
       "    </tr>\n",
       "    <tr>\n",
       "      <th>4</th>\n",
       "      <td>0.0</td>\n",
       "      <td>0.0</td>\n",
       "      <td>4.0</td>\n",
       "      <td>1.0</td>\n",
       "      <td>2.0</td>\n",
       "    </tr>\n",
       "    <tr>\n",
       "      <th>...</th>\n",
       "      <td>...</td>\n",
       "      <td>...</td>\n",
       "      <td>...</td>\n",
       "      <td>...</td>\n",
       "      <td>...</td>\n",
       "    </tr>\n",
       "    <tr>\n",
       "      <th>9129</th>\n",
       "      <td>0.0</td>\n",
       "      <td>0.0</td>\n",
       "      <td>1.0</td>\n",
       "      <td>1.0</td>\n",
       "      <td>2.0</td>\n",
       "    </tr>\n",
       "    <tr>\n",
       "      <th>9130</th>\n",
       "      <td>0.0</td>\n",
       "      <td>0.0</td>\n",
       "      <td>0.0</td>\n",
       "      <td>0.0</td>\n",
       "      <td>2.0</td>\n",
       "    </tr>\n",
       "    <tr>\n",
       "      <th>9131</th>\n",
       "      <td>0.0</td>\n",
       "      <td>0.0</td>\n",
       "      <td>1.0</td>\n",
       "      <td>1.0</td>\n",
       "      <td>2.0</td>\n",
       "    </tr>\n",
       "    <tr>\n",
       "      <th>9132</th>\n",
       "      <td>0.0</td>\n",
       "      <td>1.0</td>\n",
       "      <td>2.0</td>\n",
       "      <td>0.0</td>\n",
       "      <td>2.0</td>\n",
       "    </tr>\n",
       "    <tr>\n",
       "      <th>9133</th>\n",
       "      <td>0.0</td>\n",
       "      <td>2.0</td>\n",
       "      <td>1.0</td>\n",
       "      <td>0.0</td>\n",
       "      <td>2.0</td>\n",
       "    </tr>\n",
       "  </tbody>\n",
       "</table>\n",
       "<p>9134 rows × 5 columns</p>\n",
       "</div>"
      ],
      "text/plain": [
       "      response  coverage  education  renew_offer_type  vehicle_size\n",
       "0          0.0       0.0        1.0               2.0           2.0\n",
       "1          0.0       0.0        1.0               3.0           2.0\n",
       "2          0.0       0.0        2.0               2.0           2.0\n",
       "3          1.0       1.0        1.0               1.0           2.0\n",
       "4          0.0       0.0        4.0               1.0           2.0\n",
       "...        ...       ...        ...               ...           ...\n",
       "9129       0.0       0.0        1.0               1.0           2.0\n",
       "9130       0.0       0.0        0.0               0.0           2.0\n",
       "9131       0.0       0.0        1.0               1.0           2.0\n",
       "9132       0.0       1.0        2.0               0.0           2.0\n",
       "9133       0.0       2.0        1.0               0.0           2.0\n",
       "\n",
       "[9134 rows x 5 columns]"
      ]
     },
     "execution_count": 99,
     "metadata": {},
     "output_type": "execute_result"
    }
   ],
   "source": [
    "X_cat_ord_encoded"
   ]
  },
  {
   "cell_type": "markdown",
   "metadata": {},
   "source": [
    "### One Hot Encoding (For Nominal Variables)"
   ]
  },
  {
   "cell_type": "code",
   "execution_count": 100,
   "metadata": {},
   "outputs": [
    {
     "data": {
      "text/html": [
       "<div>\n",
       "<style scoped>\n",
       "    .dataframe tbody tr th:only-of-type {\n",
       "        vertical-align: middle;\n",
       "    }\n",
       "\n",
       "    .dataframe tbody tr th {\n",
       "        vertical-align: top;\n",
       "    }\n",
       "\n",
       "    .dataframe thead th {\n",
       "        text-align: right;\n",
       "    }\n",
       "</style>\n",
       "<table border=\"1\" class=\"dataframe\">\n",
       "  <thead>\n",
       "    <tr style=\"text-align: right;\">\n",
       "      <th></th>\n",
       "      <th>state</th>\n",
       "      <th>response</th>\n",
       "      <th>coverage</th>\n",
       "      <th>education</th>\n",
       "      <th>employmentstatus</th>\n",
       "      <th>gender</th>\n",
       "      <th>location_code</th>\n",
       "      <th>marital_status</th>\n",
       "      <th>policy_type</th>\n",
       "      <th>renew_offer_type</th>\n",
       "      <th>sales_channel</th>\n",
       "      <th>vehicle_class</th>\n",
       "      <th>vehicle_size</th>\n",
       "      <th>total_claim_amount_binned</th>\n",
       "      <th>income_binned</th>\n",
       "    </tr>\n",
       "  </thead>\n",
       "  <tbody>\n",
       "    <tr>\n",
       "      <th>0</th>\n",
       "      <td>arizona</td>\n",
       "      <td>no</td>\n",
       "      <td>basic</td>\n",
       "      <td>college</td>\n",
       "      <td>employed</td>\n",
       "      <td>m</td>\n",
       "      <td>suburban</td>\n",
       "      <td>married</td>\n",
       "      <td>corporate auto</td>\n",
       "      <td>offer3</td>\n",
       "      <td>agent</td>\n",
       "      <td>four-door car</td>\n",
       "      <td>medsize</td>\n",
       "      <td>Low</td>\n",
       "      <td>Moderate</td>\n",
       "    </tr>\n",
       "    <tr>\n",
       "      <th>1</th>\n",
       "      <td>california</td>\n",
       "      <td>no</td>\n",
       "      <td>basic</td>\n",
       "      <td>college</td>\n",
       "      <td>unemployed</td>\n",
       "      <td>f</td>\n",
       "      <td>suburban</td>\n",
       "      <td>single</td>\n",
       "      <td>personal auto</td>\n",
       "      <td>offer4</td>\n",
       "      <td>call center</td>\n",
       "      <td>four-door car</td>\n",
       "      <td>medsize</td>\n",
       "      <td>Low</td>\n",
       "      <td>Very Low</td>\n",
       "    </tr>\n",
       "    <tr>\n",
       "      <th>2</th>\n",
       "      <td>washington</td>\n",
       "      <td>no</td>\n",
       "      <td>basic</td>\n",
       "      <td>bachelor</td>\n",
       "      <td>employed</td>\n",
       "      <td>m</td>\n",
       "      <td>suburban</td>\n",
       "      <td>single</td>\n",
       "      <td>personal auto</td>\n",
       "      <td>offer3</td>\n",
       "      <td>call center</td>\n",
       "      <td>suv</td>\n",
       "      <td>medsize</td>\n",
       "      <td>Low</td>\n",
       "      <td>Low</td>\n",
       "    </tr>\n",
       "    <tr>\n",
       "      <th>3</th>\n",
       "      <td>oregon</td>\n",
       "      <td>yes</td>\n",
       "      <td>extended</td>\n",
       "      <td>college</td>\n",
       "      <td>employed</td>\n",
       "      <td>m</td>\n",
       "      <td>suburban</td>\n",
       "      <td>single</td>\n",
       "      <td>corporate auto</td>\n",
       "      <td>offer2</td>\n",
       "      <td>branch</td>\n",
       "      <td>four-door car</td>\n",
       "      <td>medsize</td>\n",
       "      <td>Low</td>\n",
       "      <td>Moderate</td>\n",
       "    </tr>\n",
       "    <tr>\n",
       "      <th>4</th>\n",
       "      <td>california</td>\n",
       "      <td>no</td>\n",
       "      <td>basic</td>\n",
       "      <td>doctor</td>\n",
       "      <td>employed</td>\n",
       "      <td>f</td>\n",
       "      <td>urban</td>\n",
       "      <td>married</td>\n",
       "      <td>corporate auto</td>\n",
       "      <td>offer2</td>\n",
       "      <td>branch</td>\n",
       "      <td>four-door car</td>\n",
       "      <td>medsize</td>\n",
       "      <td>Low</td>\n",
       "      <td>Low</td>\n",
       "    </tr>\n",
       "    <tr>\n",
       "      <th>...</th>\n",
       "      <td>...</td>\n",
       "      <td>...</td>\n",
       "      <td>...</td>\n",
       "      <td>...</td>\n",
       "      <td>...</td>\n",
       "      <td>...</td>\n",
       "      <td>...</td>\n",
       "      <td>...</td>\n",
       "      <td>...</td>\n",
       "      <td>...</td>\n",
       "      <td>...</td>\n",
       "      <td>...</td>\n",
       "      <td>...</td>\n",
       "      <td>...</td>\n",
       "      <td>...</td>\n",
       "    </tr>\n",
       "    <tr>\n",
       "      <th>9129</th>\n",
       "      <td>arizona</td>\n",
       "      <td>no</td>\n",
       "      <td>basic</td>\n",
       "      <td>college</td>\n",
       "      <td>employed</td>\n",
       "      <td>m</td>\n",
       "      <td>suburban</td>\n",
       "      <td>married</td>\n",
       "      <td>personal auto</td>\n",
       "      <td>offer2</td>\n",
       "      <td>branch</td>\n",
       "      <td>two-door car</td>\n",
       "      <td>medsize</td>\n",
       "      <td>Low</td>\n",
       "      <td>Moderate</td>\n",
       "    </tr>\n",
       "    <tr>\n",
       "      <th>9130</th>\n",
       "      <td>nevada</td>\n",
       "      <td>no</td>\n",
       "      <td>basic</td>\n",
       "      <td>high school or below</td>\n",
       "      <td>unemployed</td>\n",
       "      <td>m</td>\n",
       "      <td>suburban</td>\n",
       "      <td>single</td>\n",
       "      <td>personal auto</td>\n",
       "      <td>offer1</td>\n",
       "      <td>branch</td>\n",
       "      <td>luxury</td>\n",
       "      <td>medsize</td>\n",
       "      <td>Low</td>\n",
       "      <td>Very Low</td>\n",
       "    </tr>\n",
       "    <tr>\n",
       "      <th>9131</th>\n",
       "      <td>oregon</td>\n",
       "      <td>no</td>\n",
       "      <td>basic</td>\n",
       "      <td>college</td>\n",
       "      <td>employed</td>\n",
       "      <td>f</td>\n",
       "      <td>urban</td>\n",
       "      <td>married</td>\n",
       "      <td>personal auto</td>\n",
       "      <td>offer2</td>\n",
       "      <td>branch</td>\n",
       "      <td>four-door car</td>\n",
       "      <td>medsize</td>\n",
       "      <td>Low</td>\n",
       "      <td>High</td>\n",
       "    </tr>\n",
       "    <tr>\n",
       "      <th>9132</th>\n",
       "      <td>arizona</td>\n",
       "      <td>no</td>\n",
       "      <td>extended</td>\n",
       "      <td>bachelor</td>\n",
       "      <td>employed</td>\n",
       "      <td>f</td>\n",
       "      <td>rural</td>\n",
       "      <td>married</td>\n",
       "      <td>corporate auto</td>\n",
       "      <td>offer1</td>\n",
       "      <td>web</td>\n",
       "      <td>luxury</td>\n",
       "      <td>medsize</td>\n",
       "      <td>Low</td>\n",
       "      <td>Low</td>\n",
       "    </tr>\n",
       "    <tr>\n",
       "      <th>9133</th>\n",
       "      <td>california</td>\n",
       "      <td>no</td>\n",
       "      <td>premium</td>\n",
       "      <td>college</td>\n",
       "      <td>employed</td>\n",
       "      <td>f</td>\n",
       "      <td>urban</td>\n",
       "      <td>divorced</td>\n",
       "      <td>personal auto</td>\n",
       "      <td>offer1</td>\n",
       "      <td>branch</td>\n",
       "      <td>suv</td>\n",
       "      <td>medsize</td>\n",
       "      <td>Low</td>\n",
       "      <td>High</td>\n",
       "    </tr>\n",
       "  </tbody>\n",
       "</table>\n",
       "<p>9134 rows × 15 columns</p>\n",
       "</div>"
      ],
      "text/plain": [
       "           state response  coverage             education employmentstatus  \\\n",
       "0        arizona       no     basic               college         employed   \n",
       "1     california       no     basic               college       unemployed   \n",
       "2     washington       no     basic              bachelor         employed   \n",
       "3         oregon      yes  extended               college         employed   \n",
       "4     california       no     basic                doctor         employed   \n",
       "...          ...      ...       ...                   ...              ...   \n",
       "9129     arizona       no     basic               college         employed   \n",
       "9130      nevada       no     basic  high school or below       unemployed   \n",
       "9131      oregon       no     basic               college         employed   \n",
       "9132     arizona       no  extended              bachelor         employed   \n",
       "9133  california       no   premium               college         employed   \n",
       "\n",
       "     gender location_code marital_status     policy_type renew_offer_type  \\\n",
       "0         m      suburban        married  corporate auto           offer3   \n",
       "1         f      suburban         single   personal auto           offer4   \n",
       "2         m      suburban         single   personal auto           offer3   \n",
       "3         m      suburban         single  corporate auto           offer2   \n",
       "4         f         urban        married  corporate auto           offer2   \n",
       "...     ...           ...            ...             ...              ...   \n",
       "9129      m      suburban        married   personal auto           offer2   \n",
       "9130      m      suburban         single   personal auto           offer1   \n",
       "9131      f         urban        married   personal auto           offer2   \n",
       "9132      f         rural        married  corporate auto           offer1   \n",
       "9133      f         urban       divorced   personal auto           offer1   \n",
       "\n",
       "     sales_channel  vehicle_class vehicle_size total_claim_amount_binned  \\\n",
       "0            agent  four-door car      medsize                       Low   \n",
       "1      call center  four-door car      medsize                       Low   \n",
       "2      call center            suv      medsize                       Low   \n",
       "3           branch  four-door car      medsize                       Low   \n",
       "4           branch  four-door car      medsize                       Low   \n",
       "...            ...            ...          ...                       ...   \n",
       "9129        branch   two-door car      medsize                       Low   \n",
       "9130        branch         luxury      medsize                       Low   \n",
       "9131        branch  four-door car      medsize                       Low   \n",
       "9132           web         luxury      medsize                       Low   \n",
       "9133        branch            suv      medsize                       Low   \n",
       "\n",
       "     income_binned  \n",
       "0         Moderate  \n",
       "1         Very Low  \n",
       "2              Low  \n",
       "3         Moderate  \n",
       "4              Low  \n",
       "...            ...  \n",
       "9129      Moderate  \n",
       "9130      Very Low  \n",
       "9131          High  \n",
       "9132           Low  \n",
       "9133          High  \n",
       "\n",
       "[9134 rows x 15 columns]"
      ]
     },
     "execution_count": 100,
     "metadata": {},
     "output_type": "execute_result"
    }
   ],
   "source": [
    "X_cat"
   ]
  },
  {
   "cell_type": "code",
   "execution_count": 101,
   "metadata": {},
   "outputs": [
    {
     "data": {
      "text/html": [
       "<div>\n",
       "<style scoped>\n",
       "    .dataframe tbody tr th:only-of-type {\n",
       "        vertical-align: middle;\n",
       "    }\n",
       "\n",
       "    .dataframe tbody tr th {\n",
       "        vertical-align: top;\n",
       "    }\n",
       "\n",
       "    .dataframe thead th {\n",
       "        text-align: right;\n",
       "    }\n",
       "</style>\n",
       "<table border=\"1\" class=\"dataframe\">\n",
       "  <thead>\n",
       "    <tr style=\"text-align: right;\">\n",
       "      <th></th>\n",
       "      <th>state</th>\n",
       "      <th>employmentstatus</th>\n",
       "      <th>gender</th>\n",
       "      <th>location_code</th>\n",
       "      <th>marital_status</th>\n",
       "      <th>policy_type</th>\n",
       "      <th>sales_channel</th>\n",
       "      <th>vehicle_class</th>\n",
       "      <th>total_claim_amount_binned</th>\n",
       "      <th>income_binned</th>\n",
       "    </tr>\n",
       "  </thead>\n",
       "  <tbody>\n",
       "    <tr>\n",
       "      <th>0</th>\n",
       "      <td>arizona</td>\n",
       "      <td>employed</td>\n",
       "      <td>m</td>\n",
       "      <td>suburban</td>\n",
       "      <td>married</td>\n",
       "      <td>corporate auto</td>\n",
       "      <td>agent</td>\n",
       "      <td>four-door car</td>\n",
       "      <td>Low</td>\n",
       "      <td>Moderate</td>\n",
       "    </tr>\n",
       "    <tr>\n",
       "      <th>1</th>\n",
       "      <td>california</td>\n",
       "      <td>unemployed</td>\n",
       "      <td>f</td>\n",
       "      <td>suburban</td>\n",
       "      <td>single</td>\n",
       "      <td>personal auto</td>\n",
       "      <td>call center</td>\n",
       "      <td>four-door car</td>\n",
       "      <td>Low</td>\n",
       "      <td>Very Low</td>\n",
       "    </tr>\n",
       "    <tr>\n",
       "      <th>2</th>\n",
       "      <td>washington</td>\n",
       "      <td>employed</td>\n",
       "      <td>m</td>\n",
       "      <td>suburban</td>\n",
       "      <td>single</td>\n",
       "      <td>personal auto</td>\n",
       "      <td>call center</td>\n",
       "      <td>suv</td>\n",
       "      <td>Low</td>\n",
       "      <td>Low</td>\n",
       "    </tr>\n",
       "    <tr>\n",
       "      <th>3</th>\n",
       "      <td>oregon</td>\n",
       "      <td>employed</td>\n",
       "      <td>m</td>\n",
       "      <td>suburban</td>\n",
       "      <td>single</td>\n",
       "      <td>corporate auto</td>\n",
       "      <td>branch</td>\n",
       "      <td>four-door car</td>\n",
       "      <td>Low</td>\n",
       "      <td>Moderate</td>\n",
       "    </tr>\n",
       "    <tr>\n",
       "      <th>4</th>\n",
       "      <td>california</td>\n",
       "      <td>employed</td>\n",
       "      <td>f</td>\n",
       "      <td>urban</td>\n",
       "      <td>married</td>\n",
       "      <td>corporate auto</td>\n",
       "      <td>branch</td>\n",
       "      <td>four-door car</td>\n",
       "      <td>Low</td>\n",
       "      <td>Low</td>\n",
       "    </tr>\n",
       "    <tr>\n",
       "      <th>...</th>\n",
       "      <td>...</td>\n",
       "      <td>...</td>\n",
       "      <td>...</td>\n",
       "      <td>...</td>\n",
       "      <td>...</td>\n",
       "      <td>...</td>\n",
       "      <td>...</td>\n",
       "      <td>...</td>\n",
       "      <td>...</td>\n",
       "      <td>...</td>\n",
       "    </tr>\n",
       "    <tr>\n",
       "      <th>9129</th>\n",
       "      <td>arizona</td>\n",
       "      <td>employed</td>\n",
       "      <td>m</td>\n",
       "      <td>suburban</td>\n",
       "      <td>married</td>\n",
       "      <td>personal auto</td>\n",
       "      <td>branch</td>\n",
       "      <td>two-door car</td>\n",
       "      <td>Low</td>\n",
       "      <td>Moderate</td>\n",
       "    </tr>\n",
       "    <tr>\n",
       "      <th>9130</th>\n",
       "      <td>nevada</td>\n",
       "      <td>unemployed</td>\n",
       "      <td>m</td>\n",
       "      <td>suburban</td>\n",
       "      <td>single</td>\n",
       "      <td>personal auto</td>\n",
       "      <td>branch</td>\n",
       "      <td>luxury</td>\n",
       "      <td>Low</td>\n",
       "      <td>Very Low</td>\n",
       "    </tr>\n",
       "    <tr>\n",
       "      <th>9131</th>\n",
       "      <td>oregon</td>\n",
       "      <td>employed</td>\n",
       "      <td>f</td>\n",
       "      <td>urban</td>\n",
       "      <td>married</td>\n",
       "      <td>personal auto</td>\n",
       "      <td>branch</td>\n",
       "      <td>four-door car</td>\n",
       "      <td>Low</td>\n",
       "      <td>High</td>\n",
       "    </tr>\n",
       "    <tr>\n",
       "      <th>9132</th>\n",
       "      <td>arizona</td>\n",
       "      <td>employed</td>\n",
       "      <td>f</td>\n",
       "      <td>rural</td>\n",
       "      <td>married</td>\n",
       "      <td>corporate auto</td>\n",
       "      <td>web</td>\n",
       "      <td>luxury</td>\n",
       "      <td>Low</td>\n",
       "      <td>Low</td>\n",
       "    </tr>\n",
       "    <tr>\n",
       "      <th>9133</th>\n",
       "      <td>california</td>\n",
       "      <td>employed</td>\n",
       "      <td>f</td>\n",
       "      <td>urban</td>\n",
       "      <td>divorced</td>\n",
       "      <td>personal auto</td>\n",
       "      <td>branch</td>\n",
       "      <td>suv</td>\n",
       "      <td>Low</td>\n",
       "      <td>High</td>\n",
       "    </tr>\n",
       "  </tbody>\n",
       "</table>\n",
       "<p>9134 rows × 10 columns</p>\n",
       "</div>"
      ],
      "text/plain": [
       "           state employmentstatus gender location_code marital_status  \\\n",
       "0        arizona         employed      m      suburban        married   \n",
       "1     california       unemployed      f      suburban         single   \n",
       "2     washington         employed      m      suburban         single   \n",
       "3         oregon         employed      m      suburban         single   \n",
       "4     california         employed      f         urban        married   \n",
       "...          ...              ...    ...           ...            ...   \n",
       "9129     arizona         employed      m      suburban        married   \n",
       "9130      nevada       unemployed      m      suburban         single   \n",
       "9131      oregon         employed      f         urban        married   \n",
       "9132     arizona         employed      f         rural        married   \n",
       "9133  california         employed      f         urban       divorced   \n",
       "\n",
       "         policy_type sales_channel  vehicle_class total_claim_amount_binned  \\\n",
       "0     corporate auto         agent  four-door car                       Low   \n",
       "1      personal auto   call center  four-door car                       Low   \n",
       "2      personal auto   call center            suv                       Low   \n",
       "3     corporate auto        branch  four-door car                       Low   \n",
       "4     corporate auto        branch  four-door car                       Low   \n",
       "...              ...           ...            ...                       ...   \n",
       "9129   personal auto        branch   two-door car                       Low   \n",
       "9130   personal auto        branch         luxury                       Low   \n",
       "9131   personal auto        branch  four-door car                       Low   \n",
       "9132  corporate auto           web         luxury                       Low   \n",
       "9133   personal auto        branch            suv                       Low   \n",
       "\n",
       "     income_binned  \n",
       "0         Moderate  \n",
       "1         Very Low  \n",
       "2              Low  \n",
       "3         Moderate  \n",
       "4              Low  \n",
       "...            ...  \n",
       "9129      Moderate  \n",
       "9130      Very Low  \n",
       "9131          High  \n",
       "9132           Low  \n",
       "9133          High  \n",
       "\n",
       "[9134 rows x 10 columns]"
      ]
     },
     "execution_count": 101,
     "metadata": {},
     "output_type": "execute_result"
    }
   ],
   "source": [
    "X_cat_nom = X_cat.drop(X_cat_ord.columns, axis=1)\n",
    "X_cat_nom"
   ]
  },
  {
   "cell_type": "code",
   "execution_count": 3,
   "metadata": {},
   "outputs": [
    {
     "ename": "NameError",
     "evalue": "name 'X_cat_nom' is not defined",
     "output_type": "error",
     "traceback": [
      "\u001b[0;31m---------------------------------------------------------------------------\u001b[0m",
      "\u001b[0;31mNameError\u001b[0m                                 Traceback (most recent call last)",
      "Input \u001b[0;32mIn [3]\u001b[0m, in \u001b[0;36m<module>\u001b[0;34m\u001b[0m\n\u001b[1;32m      1\u001b[0m \u001b[38;5;66;03m# with pd.get_dummies()\u001b[39;00m\n\u001b[0;32m----> 2\u001b[0m X_cat_nom_encoded \u001b[38;5;241m=\u001b[39m pd\u001b[38;5;241m.\u001b[39mget_dummies(\u001b[43mX_cat_nom\u001b[49m,drop_first\u001b[38;5;241m=\u001b[39m\u001b[38;5;28;01mTrue\u001b[39;00m)\n",
      "\u001b[0;31mNameError\u001b[0m: name 'X_cat_nom' is not defined"
     ]
    }
   ],
   "source": [
    "# with pd.get_dummies()\n",
    "X_cat_nom_encoded = pd.get_dummies(X_cat_nom,drop_first=True)\n",
    "\n",
    "#drop_first = True creates K-1 columns\n",
    "\n",
    "\n",
    "\n"
   ]
  },
  {
   "cell_type": "code",
   "execution_count": null,
   "metadata": {},
   "outputs": [],
   "source": [
    "# with sklearn\n",
    "\n",
    "X_cat_nom_encoded = pd.DataFrame(OneHotEncoder(drop=\"first\").fit_transform(X_cat_nom).toarray(),\n",
    "                             columns=OneHotEncoder(drop='first').fit(X_cat_nom).get_feature_names_out(input_features=X_cat_nom.columns))\n",
    "X_cat_nom_encoded\n"
   ]
  },
  {
   "cell_type": "markdown",
   "metadata": {},
   "source": [
    "## Function for Transformations"
   ]
  },
  {
   "cell_type": "code",
   "execution_count": 4,
   "metadata": {},
   "outputs": [],
   "source": [
    "def my_transformations(df, test_size=0.2, scaler = \"minmax\"):\n",
    "    \"\"\"\n",
    "\n",
    "\n",
    "    Parameters\n",
    "    ----------\n",
    "    df : DataFrame\n",
    "    test_size : float, optional\n",
    "        Size in fraction (0-1) of the test set. The default is 0.2.\n",
    "    scaler : String, optional\n",
    "        The type of numerical scaling method to be used. Values accepted are\n",
    "        \"standard\" and \"minmax\". The default is \"standard\".\n",
    "\n",
    "    Returns\n",
    "    -------\n",
    "    dict\n",
    "        A dictionary containing two records, \"train\" and \"test\".\n",
    "        These two are lists containing the transformed train and test set:\n",
    "            - Scaled Numerical columns\n",
    "            - Encoded Categorical columns\n",
    "            - Target Variable\n",
    "\n",
    "    \"\"\"\n",
    "\n",
    "    # x-y split\n",
    "\n",
    "    X = df.drop(\"total_claim_amount\", axis=1)\n",
    "    y = df[\"total_claim_amount\"]\n",
    "\n",
    "    # Train/Test Split\n",
    "    X_train, X_test, y_train, y_test=train_test_split(X, y, test_size= test_size, random_state=0)\n",
    "    \n",
    "    \n",
    "    # Numerical and categorical variables\n",
    "\n",
    "    X_train_num = X_train._get_numeric_data()\n",
    "    X_test_num = X_test._get_numeric_data()\n",
    "    \n",
    "    X_train_cat = X_train.select_dtypes(\"category\")\n",
    "    X_test_cat = X_test.select_dtypes(\"category\")\n",
    "\n",
    "    # Categorical Variables Encoding - Ordinals\n",
    "\n",
    "    X_train_cat_ord = X_train_cat[[\"response\", \"coverage\", \"education\", \"renew_offer_type\", \"vehicle_size\"]]\n",
    "    X_test_cat_ord = X_test_cat[[\"response\", \"coverage\", \"education\", \"renew_offer_type\", \"vehicle_size\"]]\n",
    "\n",
    "    categories = [[\"no\",\"yes\"], [\"basic\", \"extended\", \"premium\"], [\"high school or below\", \"college\", \"bachelor\", \"master\", \"doctor\"], [\"offer1\", \"offer2\", \"offer3\", \"offer4\"], [\"not defined\", \"small\", \"medsize\", \"large\"]]\n",
    "    \n",
    "    ordinal_encoder = OrdinalEncoder(categories=categories)\n",
    "    X_train_cat_ord_encoded = pd.DataFrame(ordinal_encoder.fit_transform(X_train_cat_ord),columns=X_train_cat_ord.columns).reset_index(drop=True)\n",
    "    X_test_cat_ord_encoded = pd.DataFrame(ordinal_encoder.fit_transform(X_test_cat_ord),columns=X_test_cat_ord.columns).reset_index(drop=True)\n",
    "    \n",
    "    # Categorical Variables Encoding - Nominals\n",
    "\n",
    "    X_train_cat_nom = X_train_cat.drop(X_train_cat_ord.columns, axis=1)\n",
    "    X_test_cat_nom = X_test_cat.drop(X_test_cat_ord.columns, axis=1)\n",
    "\n",
    "    X_train_cat_nom_encoded = pd.get_dummies(X_train_cat_nom,drop_first=True).reset_index(drop=True)\n",
    "    X_test_cat_nom_encoded = pd.get_dummies(X_test_cat_nom,drop_first=True).reset_index(drop=True)\n",
    "    \n",
    "    # Concatinating back together the categorical features\n",
    "    X_train_cat = pd.concat([X_train_cat_nom_encoded, X_train_cat_ord_encoded], axis=1)\n",
    "    X_test_cat = pd.concat([X_test_cat_nom_encoded, X_test_cat_ord_encoded], axis=1)\n",
    "    \n",
    "    # Scaling of the Numerical Variables\n",
    "    if scaler != None:\n",
    "       \n",
    "       if scaler == \"minmax\":\n",
    "           \n",
    "           scaler = MinMaxScaler()\n",
    "           \n",
    "       elif scaler == \"standard\":\n",
    "           \n",
    "           scaler = StandardScaler()\n",
    "    \n",
    "       scaler.fit(X_train_num)\n",
    "       X_train_num_scaled = pd.DataFrame(scaler.transform(X_train_num), columns=X_train_num.columns).reset_index(drop=True)\n",
    "       X_test_num_scaled = pd.DataFrame(scaler.transform(X_test_num), columns=X_test_num.columns).reset_index(drop=True)\n",
    "    \n",
    "       return {\"train\":[X_train_num_scaled, X_train_cat, y_train], \"test\":[X_test_num_scaled, X_test_cat, y_test]}\n",
    "\n",
    "    return {\"train\":[X_train_num, X_train_cat, y_train], \"test\":[X_test_num, X_test_cat, y_test]}"
   ]
  },
  {
   "cell_type": "markdown",
   "metadata": {},
   "source": [
    "# Linear Regression"
   ]
  },
  {
   "cell_type": "markdown",
   "metadata": {},
   "source": [
    "## User Defined Functions"
   ]
  },
  {
   "cell_type": "code",
   "execution_count": 5,
   "metadata": {},
   "outputs": [],
   "source": [
    "def R2_adjusted(x, y, y_pred, R2=None):\n",
    "    \"\"\"\n",
    "\n",
    "\n",
    "    Parameters\n",
    "    ----------\n",
    "    x : DataFrame or Serie\n",
    "        Estimators\n",
    "    y : DataFrame or Serie\n",
    "        Observed Target Variable.\n",
    "    y_pred : DataFrame or Serie\n",
    "        Predicted Target Variable.\n",
    "    r2 : Float, optional\n",
    "        R2 value previously calculated. The default is None.\n",
    "\n",
    "    Returns\n",
    "    -------\n",
    "    r2_adj : Float\n",
    "        Adjusted R2 value.\n",
    "\n",
    "    \"\"\"\n",
    "    \n",
    "    if R2==None:\n",
    "    \n",
    "        R2 = r2_score(y, y_pred)\n",
    "    \n",
    "    else:\n",
    "        R2_adj = 1 - (1-R2)*(len(y)-1)/(len(y)-X.shape[1]-1)\n",
    "\n",
    "    return R2_adj"
   ]
  },
  {
   "cell_type": "code",
   "execution_count": 6,
   "metadata": {},
   "outputs": [],
   "source": [
    "\n",
    "def prediction_plot(model, X, y, set=\"test\", y_transformer = None, verbose = True, plot = True):\n",
    "    \"\"\"\n",
    "\n",
    "\n",
    "    Parameters\n",
    "    ----------\n",
    "    model : Sklearn model object\n",
    "        Model to be used for the prediction\n",
    "    X : DataFrame or Series\n",
    "        Estimators (train or test sets).\n",
    "    y : DataFrame or Series\n",
    "        Observed Target Variable (train or test sets).\n",
    "    y_transformer : String or sklearn transformer object, optional\n",
    "        The normalization transformer used on the target variable, if any. The default is None.\n",
    "    verbose : Boolean, optional\n",
    "        The default is True.\n",
    "    plot : Boolean, optional\n",
    "        The default is True.\n",
    "\n",
    "    Returns\n",
    "    -------\n",
    "    dict\n",
    "        Results of the regression.\n",
    "        - Prediction results\n",
    "        - Performance Metrics\n",
    "\n",
    "    \"\"\"\n",
    "    \n",
    "    # Predict\n",
    "    y_pred = model.predict(X)\n",
    "\n",
    "    # Do the inverse normal transformation to return the dependent variable to meaningfull values\n",
    "    if y_transformer != None:\n",
    "\n",
    "        if y_transformer != \"log\":\n",
    "\n",
    "            y = pd.DataFrame(y_transformer.inverse_transform(np.array(y).reshape(-1, 1)))[0]\n",
    "            y_pred = pd.DataFrame(y_transformer.inverse_transform(y_pred.reshape(-1, 1)))[0]\n",
    "        \n",
    "        elif y_transformer == \"log\":\n",
    "\n",
    "            y = np.exp(y)\n",
    "            y_pred = np.exp(y_pred)\n",
    "\n",
    "\n",
    "    result = pd.DataFrame({f\"y_{set}\":y, \"y_pred\":y_pred})\n",
    "\n",
    "    # Metrics\n",
    "    \n",
    "    R2 = r2_score(y, y_pred)\n",
    "    RMSE = mse(y, y_pred, squared=False)\n",
    "    R2_adj = R2_adjusted(X, y, y_pred, R2)\n",
    "    metrics = {\"MSE\":mse(y, y_pred), \"RMSE\":RMSE, \"MAE\":mae(y, y_pred), \"R2\":R2, \"R2_adj\":R2_adj}\n",
    "\n",
    "\n",
    "    if verbose:\n",
    "\n",
    "        print(f\"The model performance for the {set} set\")\n",
    "        print(\"-------------------------------------------\")\n",
    "        print(f\"RMSE of {set} set is {RMSE}\")\n",
    "        print(f\"Adjusted R2 score of {set} set is {R2_adj}\")\n",
    "        print()\n",
    "\n",
    "    # Plots\n",
    "\n",
    "    if plot:\n",
    "\n",
    "        fig, axs = plt.subplots(1,3,figsize=(15,5))\n",
    "\n",
    "        fs = 11\n",
    "    \n",
    "        plt.xticks(fontsize = fs)\n",
    "\n",
    "        sns.regplot(x=f\"y_{set}\", y=\"y_pred\", data=result, scatter_kws={\"color\": \"red\"}, line_kws={\"color\": \"black\"}, ax=axs[0])\n",
    "        sns.histplot(y-y_pred, kde=True, ax=axs[1])\n",
    "        axs[2].plot(y_pred,y - y_pred,\"o\")\n",
    "        axs[2].plot(y_pred,np.zeros(len(y_pred)),linestyle='dashed')\n",
    "\n",
    "        axs[0].set_title(f\"y_{set}\".capitalize() + \" Set - Observed VS Predicted\", fontsize = fs)\n",
    "        axs[1].set_title(f\"y_{set}\".capitalize() + \" Set - Histogram of the Residuals\", fontsize = fs)\n",
    "        axs[1].set_xlabel(f\"y_{set}\" + \" - y_pred\", fontsize = fs)\n",
    "        axs[2].set_xlabel(\"Predicted\", fontsize = fs)\n",
    "        axs[2].set_ylabel(\"Residuals\", fontsize = fs)\n",
    "        axs[2].set_title(\"Residuals by Predicted\", fontsize = fs)\n",
    "\n",
    "    \n",
    "\n",
    "    return {\"Result\":result, \"Metrics\":metrics}"
   ]
  },
  {
   "cell_type": "code",
   "execution_count": 7,
   "metadata": {},
   "outputs": [],
   "source": [
    "def my_flex_regression(X_train, y_train, X_test, y_test, model, verbose = True, plot = True, y_transformer = None):\n",
    "    \"\"\"\n",
    "\n",
    "\n",
    "    Parameters\n",
    "    ----------\n",
    "    X_train : DataFrame or Series\n",
    "        Estimators (train set).\n",
    "    y_train : DataFrame or Series\n",
    "        Observed Target Variable (train set).\n",
    "    X_test : DataFrame or Series\n",
    "        Estimators (test set).\n",
    "    y_test : DataFrame or Series\n",
    "        Observed Target Variable (test set).\n",
    "    model : Sklearn model object\n",
    "        Model to be used for the prediction\n",
    "    verbose : Boolean, optional\n",
    "        The default is True.\n",
    "    plot : Boolean, optional\n",
    "        The default is True.\n",
    "    y_transformer : String or sklearn transformer object, optional\n",
    "        The normalization transformer used on the target variable, if any. The default is None.\n",
    "\n",
    "    Returns\n",
    "    -------\n",
    "    dict\n",
    "        Results of the regression.\n",
    "        - Fitted Model\n",
    "        - Prediction results\n",
    "        - Performance Metrics\n",
    "\n",
    "    \"\"\"\n",
    "\n",
    "    # Model Fit\n",
    "    model.fit(X_train, y_train)\n",
    "\n",
    "    # Evaluation on the Train Set\n",
    "    train = prediction_plot(model, X_train, y_train, set=\"train\", y_transformer = y_transformer, verbose = verbose, plot = plot)\n",
    "\n",
    "    # Evaluation on the Test Set\n",
    "    test = prediction_plot(model, X_test, y_test, set=\"test\", y_transformer = y_transformer, verbose = verbose, plot = plot)\n",
    "\n",
    "    dict_for_df = {\"train\": train[\"Metrics\"], \"test\": test[\"Metrics\"]}\n",
    "    df_metrics = pd.DataFrame(dict_for_df)\n",
    "\n",
    "    return {\"Model\":model, \"Metrics\": df_metrics, \"Train\":train[\"Result\"], \"Test\":test[\"Result\"]}\n",
    "\n"
   ]
  },
  {
   "cell_type": "markdown",
   "metadata": {},
   "source": [
    "## Loading and cleaning the data"
   ]
  },
  {
   "cell_type": "markdown",
   "metadata": {},
   "source": [
    "First the data is loaded. For naming consistency the column headings are standarized."
   ]
  },
  {
   "cell_type": "code",
   "execution_count": 8,
   "metadata": {},
   "outputs": [
    {
     "ename": "NameError",
     "evalue": "name 'standard_headings' is not defined",
     "output_type": "error",
     "traceback": [
      "\u001b[0;31m---------------------------------------------------------------------------\u001b[0m",
      "\u001b[0;31mNameError\u001b[0m                                 Traceback (most recent call last)",
      "Input \u001b[0;32mIn [8]\u001b[0m, in \u001b[0;36m<module>\u001b[0;34m\u001b[0m\n\u001b[1;32m      1\u001b[0m ca_c_df \u001b[38;5;241m=\u001b[39m pd\u001b[38;5;241m.\u001b[39mread_csv(\u001b[38;5;124m\"\u001b[39m\u001b[38;5;124mData/Data_Marketing_Customer_Analysis_Round2.csv\u001b[39m\u001b[38;5;124m\"\u001b[39m)\n\u001b[0;32m----> 2\u001b[0m ca_c_df \u001b[38;5;241m=\u001b[39m \u001b[43mstandard_headings\u001b[49m(ca_c_df)\n",
      "\u001b[0;31mNameError\u001b[0m: name 'standard_headings' is not defined"
     ]
    }
   ],
   "source": [
    "ca_c_df = pd.read_csv(\"Data/Data_Marketing_Customer_Analysis_Round2.csv\")\n",
    "ca_c_df = standard_headings(ca_c_df)\n"
   ]
  },
  {
   "cell_type": "markdown",
   "metadata": {},
   "source": [
    "Variables to set up the cleaning pipeline are defined."
   ]
  },
  {
   "cell_type": "code",
   "execution_count": null,
   "metadata": {},
   "outputs": [],
   "source": [
    "drop_columns = [\"unnamed:_0\", \"customer\", \"effective_to_date\", \"policy\", \"vehicle_type\"]\n",
    "bucket_columns = [\"vehicle_class\"]\n",
    "clean_columns_zeros = [\"income\"]\n",
    "clean_columns_cat = [(\"response\", \"No\")]\n",
    "float_columns = list(set(ca_c_df._get_numeric_data().columns).difference(set(drop_columns)))\n",
    "obj_columns = list(set(ca_c_df.select_dtypes(\"object\").columns).difference(set(drop_columns)))\n",
    "\n",
    "cleaning_dict = {\"Luxury SUV\":\"Luxury\", \"Luxury Car\":\"Luxury\"\n",
    "                 ,np.nan:np.nan\n",
    "                 }"
   ]
  },
  {
   "cell_type": "markdown",
   "metadata": {},
   "source": [
    "The cleaning pipeline is defined."
   ]
  },
  {
   "cell_type": "code",
   "execution_count": null,
   "metadata": {},
   "outputs": [],
   "source": [
    "ca_c_df = (pd.read_csv(\"Data/Data_Marketing_Customer_Analysis_Round2.csv\")\n",
    "             .pipe(standard_headings)\n",
    "             .drop(drop_columns, axis=1)\n",
    "             .pipe(bucket_series, bucket_columns ,cleaning_dict)\n",
    "             .pipe(replace_by, clean_columns_zeros, replace_zeros = True)\n",
    "             .pipe(replace_by_cat, clean_columns_cat)\n",
    "             .dropna()\n",
    "             .pipe(standardize_data)\n",
    "             .pipe(float_to_int, float_columns)\n",
    "             .pipe(obj_to_cat, obj_columns)\n",
    "             .drop_duplicates()\n",
    "             .reset_index(drop=True)\n",
    "          )"
   ]
  },
  {
   "cell_type": "code",
   "execution_count": null,
   "metadata": {},
   "outputs": [],
   "source": [
    "ca_c_df"
   ]
  },
  {
   "cell_type": "code",
   "execution_count": null,
   "metadata": {},
   "outputs": [],
   "source": [
    "nan_counter(ca_c_df)"
   ]
  },
  {
   "cell_type": "markdown",
   "metadata": {},
   "source": [
    "## Baseline Model - only numerical variables"
   ]
  },
  {
   "cell_type": "markdown",
   "metadata": {},
   "source": [
    "### With Standard Scaling"
   ]
  },
  {
   "cell_type": "markdown",
   "metadata": {},
   "source": [
    "The data is transformed using user-defined function my_transformations():\n",
    "- X/Y Slpit\n",
    "- Train/Test Split\n",
    "- Scaling of the numerical features (Standard Scaler or MinMax Scaler)\n",
    "- Encoding of the categorical features (ordinal or nominal where appropiate)"
   ]
  },
  {
   "cell_type": "code",
   "execution_count": null,
   "metadata": {},
   "outputs": [],
   "source": [
    "transformed = my_transformations(ca_c_df, test_size=0.2, scaler=\"standard\")\n"
   ]
  },
  {
   "cell_type": "code",
   "execution_count": null,
   "metadata": {},
   "outputs": [],
   "source": [
    "\n",
    "X_train = transformed[\"train\"][0]\n",
    "y_train = transformed[\"train\"][2]\n",
    "\n",
    "X_test = transformed[\"test\"][0]\n",
    "y_test = transformed[\"test\"][2]\n"
   ]
  },
  {
   "cell_type": "markdown",
   "metadata": {},
   "source": [
    "The regression model is set-up, trained, analyzed and interpreted using user-defined function my_flex_regression()."
   ]
  },
  {
   "cell_type": "code",
   "execution_count": null,
   "metadata": {},
   "outputs": [],
   "source": [
    "output_baseline = my_flex_regression(X_train, y_train, X_test, y_test, LinearRegression(), y_transformer=None)"
   ]
  },
  {
   "cell_type": "code",
   "execution_count": null,
   "metadata": {},
   "outputs": [],
   "source": [
    "output_baseline[\"Metrics\"]"
   ]
  },
  {
   "cell_type": "markdown",
   "metadata": {},
   "source": [
    "The error seems to follow a normal distribution. Nevertheless it is too high and can be reduced."
   ]
  },
  {
   "cell_type": "code",
   "execution_count": null,
   "metadata": {},
   "outputs": [],
   "source": [
    "feature_importance = list(zip(X_train.columns, output_baseline[\"Model\"].coef_))\n",
    "feature_importance = sorted(feature_importance, key=lambda x:abs(x[1]), reverse=True)\n",
    "feature_importance"
   ]
  },
  {
   "cell_type": "markdown",
   "metadata": {},
   "source": [
    "Monthly Premium Auto is the more relevant numerical feature."
   ]
  },
  {
   "cell_type": "markdown",
   "metadata": {},
   "source": [
    "### With Min-Max Scaling"
   ]
  },
  {
   "cell_type": "code",
   "execution_count": null,
   "metadata": {},
   "outputs": [],
   "source": [
    "transformed = my_transformations(ca_c_df, test_size=0.2, scaler=\"minmax\")\n",
    "\n",
    "X_train = transformed[\"train\"][0]\n",
    "y_train = transformed[\"train\"][2]\n",
    "\n",
    "X_test = transformed[\"test\"][0]\n",
    "y_test = transformed[\"test\"][2]"
   ]
  },
  {
   "cell_type": "code",
   "execution_count": null,
   "metadata": {},
   "outputs": [],
   "source": [
    "output_baseline = my_flex_regression(X_train, y_train, X_test, y_test, LinearRegression(), y_transformer=None)"
   ]
  },
  {
   "cell_type": "code",
   "execution_count": null,
   "metadata": {},
   "outputs": [],
   "source": [
    "output_baseline[\"Metrics\"]"
   ]
  },
  {
   "cell_type": "markdown",
   "metadata": {},
   "source": [
    "**The scaling method has no impact in this case**"
   ]
  },
  {
   "cell_type": "markdown",
   "metadata": {},
   "source": [
    "## Including All Categorical Variables"
   ]
  },
  {
   "cell_type": "code",
   "execution_count": null,
   "metadata": {},
   "outputs": [],
   "source": [
    "transformed = my_transformations(ca_c_df, test_size=0.2, scaler=\"minmax\")\n",
    "\n",
    "# The numerical and the categorical features are concatenated back together\n",
    "X_train = pd.concat([transformed[\"train\"][0], transformed[\"train\"][1]], axis=1)\n",
    "y_train = transformed[\"train\"][2]\n",
    "\n",
    "X_test = pd.concat([transformed[\"test\"][0], transformed[\"test\"][1]], axis=1)\n",
    "y_test = transformed[\"test\"][2]"
   ]
  },
  {
   "cell_type": "code",
   "execution_count": null,
   "metadata": {},
   "outputs": [],
   "source": [
    "X_train"
   ]
  },
  {
   "cell_type": "code",
   "execution_count": null,
   "metadata": {},
   "outputs": [],
   "source": [
    "output_all_cat = my_flex_regression(X_train, y_train, X_test, y_test, LinearRegression(), y_transformer=None)"
   ]
  },
  {
   "cell_type": "code",
   "execution_count": null,
   "metadata": {},
   "outputs": [],
   "source": [
    "output_all_cat[\"Metrics\"]"
   ]
  },
  {
   "cell_type": "code",
   "execution_count": null,
   "metadata": {},
   "outputs": [],
   "source": [
    "feature_importance = list(zip(X_train.columns, output_all_cat[\"Model\"].coef_))\n",
    "feature_importance = sorted(feature_importance, key=lambda x:abs(x[1]), reverse=True)\n",
    "feature_importance"
   ]
  },
  {
   "cell_type": "markdown",
   "metadata": {},
   "source": [
    "## Further Improvements - Removing Outliers"
   ]
  },
  {
   "cell_type": "markdown",
   "metadata": {},
   "source": [
    "The highest coefficient corresponds to \"Monthly Premium Auto\". This feature therefore is the one that contributes the more to \"Total Claim Amount\""
   ]
  },
  {
   "cell_type": "code",
   "execution_count": null,
   "metadata": {},
   "outputs": [],
   "source": [
    "def remove_outliers_one_iteration(df, column):\n",
    "\n",
    "    pct_75 = pct(df[column], 75)\n",
    "    pct_25 = pct(df[column], 25)\n",
    "    upper_bound = pct_75 + 1.5*iqr(df[column])\n",
    "    lower_bound = pct_25 - 1.5*iqr(df[column])\n",
    "    df = df[(df[column] <= upper_bound) & (df[column] >= lower_bound)]\n",
    "    new_upper_bound = pct_75 + 1.5*iqr(df[column])\n",
    "    new_lower_bound = pct_25 - 1.5*iqr(df[column])\n",
    "    remaining_outliers = len(df[(df[column] > new_upper_bound) | (df[column] < new_lower_bound)])\n",
    "\n",
    "    return df, remaining_outliers\n",
    "\n",
    "def remove_outliers(df, columns_list):\n",
    "\n",
    "    for column in columns_list:\n",
    "\n",
    "        remaining_outliers = 1\n",
    "        iter=0\n",
    "\n",
    "        while remaining_outliers > 0:\n",
    "\n",
    "            df, remaining_outliers = remove_outliers_one_iteration(df, column)\n",
    "            \n",
    "            iter += 1\n",
    "            print((column, iter, remaining_outliers))\n",
    "\n",
    "    return df\n"
   ]
  },
  {
   "cell_type": "code",
   "execution_count": null,
   "metadata": {},
   "outputs": [],
   "source": [
    "ca_c_no_outliers_df = (remove_outliers(ca_c_df, ['customer_lifetime_value', 'income', 'monthly_premium_auto', \"total_claim_amount\"])\n",
    "                       .reset_index(drop=True)\n",
    "                      )"
   ]
  },
  {
   "cell_type": "code",
   "execution_count": null,
   "metadata": {},
   "outputs": [],
   "source": [
    "print(f\"The number of rows before removing outliers is {len(ca_c_df)}\")\n",
    "print(f\"The number of rows after removing outliers is {len(ca_c_no_outliers_df)}\")"
   ]
  },
  {
   "cell_type": "code",
   "execution_count": null,
   "metadata": {},
   "outputs": [],
   "source": [
    "# Creating the canvas\n",
    "\n",
    "fig, axs = plt.subplots(3,2,figsize=(16,16))\n",
    "\n",
    "fig.suptitle(\"Outliers - Before and After\")\n",
    "\n",
    "# Monthly Premium Auto\n",
    "sns.boxplot(data=ca_c_df, x=\"monthly_premium_auto\", ax=axs[0,0])\n",
    "sns.boxplot(data=ca_c_no_outliers_df, x=\"monthly_premium_auto\", ax=axs[0,1])\n",
    "\n",
    "# Total claim amount\n",
    "sns.boxplot(data=ca_c_df, x=\"total_claim_amount\", ax=axs[1,0])\n",
    "sns.boxplot(data=ca_c_no_outliers_df, x=\"total_claim_amount\", ax=axs[1,1])\n",
    "\n",
    "# Customer Lifetime Value\n",
    "sns.boxplot(data=ca_c_df, x=\"customer_lifetime_value\", ax=axs[2,0])\n",
    "sns.boxplot(data=ca_c_no_outliers_df, x=\"customer_lifetime_value\", ax=axs[2,1])\n",
    "\n"
   ]
  },
  {
   "cell_type": "code",
   "execution_count": null,
   "metadata": {},
   "outputs": [],
   "source": [
    "transformed = my_transformations(ca_c_no_outliers_df, test_size=0.2, scaler=\"minmax\")\n",
    "\n",
    "X_train = pd.concat([transformed[\"train\"][0], transformed[\"train\"][1]], axis=1)\n",
    "y_train = transformed[\"train\"][2]\n",
    "\n",
    "X_test = pd.concat([transformed[\"test\"][0], transformed[\"test\"][1]], axis=1)\n",
    "y_test = transformed[\"test\"][2]"
   ]
  },
  {
   "cell_type": "code",
   "execution_count": null,
   "metadata": {},
   "outputs": [],
   "source": [
    "output_all_cat_no_outliers = my_flex_regression(X_train, y_train, X_test, y_test, LinearRegression(), y_transformer=None)"
   ]
  },
  {
   "cell_type": "code",
   "execution_count": null,
   "metadata": {},
   "outputs": [],
   "source": [
    "output_all_cat_no_outliers[\"Metrics\"]"
   ]
  },
  {
   "cell_type": "markdown",
   "metadata": {},
   "source": [
    "## Statsmodels"
   ]
  },
  {
   "cell_type": "code",
   "execution_count": null,
   "metadata": {},
   "outputs": [],
   "source": [
    "y_train = y_train.reset_index(drop=True)"
   ]
  },
  {
   "cell_type": "code",
   "execution_count": null,
   "metadata": {},
   "outputs": [],
   "source": [
    "X_train_const = sm.add_constant(X_train)  \n",
    "X_test_const = sm.add_constant(X_test)\n",
    "\n",
    "model = sm.OLS(y_train, X_train_const).fit()"
   ]
  },
  {
   "cell_type": "code",
   "execution_count": null,
   "metadata": {},
   "outputs": [],
   "source": [
    "print(model.summary())"
   ]
  },
  {
   "cell_type": "markdown",
   "metadata": {},
   "source": [
    "## Power Transform on Monthly Premium Amount?"
   ]
  },
  {
   "cell_type": "code",
   "execution_count": null,
   "metadata": {},
   "outputs": [],
   "source": [
    "ca_c_no_outliers_df.hist(figsize=(12,12))"
   ]
  },
  {
   "cell_type": "code",
   "execution_count": null,
   "metadata": {},
   "outputs": [],
   "source": [
    "sns.displot(ca_c_no_outliers_df[\"monthly_premium_auto\"], kde=True)"
   ]
  },
  {
   "cell_type": "code",
   "execution_count": null,
   "metadata": {},
   "outputs": [],
   "source": [
    "sns.displot(ca_c_no_outliers_df[\"total_claim_amount\"], kde=True)"
   ]
  },
  {
   "cell_type": "code",
   "execution_count": null,
   "metadata": {},
   "outputs": [],
   "source": [
    "pt = PowerTransformer()\n",
    "\n",
    "monthly_premium_auto_transformer = pt.fit(ca_c_no_outliers_df[\"monthly_premium_auto\"].to_numpy().reshape(-1,1))\n",
    "\n",
    "monthly_premium_auto_transformed = monthly_premium_auto_transformer.transform(ca_c_no_outliers_df[\"monthly_premium_auto\"].to_numpy().reshape(-1,1))\n",
    "\n",
    "print(monthly_premium_auto_transformer.lambdas_)\n",
    "monthly_premium_auto_transformed = pd.DataFrame(monthly_premium_auto_transformed)"
   ]
  },
  {
   "cell_type": "code",
   "execution_count": null,
   "metadata": {},
   "outputs": [],
   "source": [
    "total_claim_amount_transformer = pt.fit(ca_c_no_outliers_df[\"total_claim_amount\"].to_numpy().reshape(-1,1))\n",
    "\n",
    "total_claim_amount_transformed = total_claim_amount_transformer.transform(ca_c_no_outliers_df[\"total_claim_amount\"].to_numpy().reshape(-1,1))\n",
    "\n",
    "print(total_claim_amount_transformer.lambdas_)\n",
    "total_claim_amount_transformed = pd.DataFrame(total_claim_amount_transformed)"
   ]
  },
  {
   "cell_type": "code",
   "execution_count": 9,
   "metadata": {},
   "outputs": [
    {
     "ename": "NameError",
     "evalue": "name 'monthly_premium_auto_transformed' is not defined",
     "output_type": "error",
     "traceback": [
      "\u001b[0;31m---------------------------------------------------------------------------\u001b[0m",
      "\u001b[0;31mNameError\u001b[0m                                 Traceback (most recent call last)",
      "Input \u001b[0;32mIn [9]\u001b[0m, in \u001b[0;36m<module>\u001b[0;34m\u001b[0m\n\u001b[0;32m----> 1\u001b[0m sns\u001b[38;5;241m.\u001b[39mdisplot(\u001b[43mmonthly_premium_auto_transformed\u001b[49m, kde\u001b[38;5;241m=\u001b[39m\u001b[38;5;28;01mTrue\u001b[39;00m)\n",
      "\u001b[0;31mNameError\u001b[0m: name 'monthly_premium_auto_transformed' is not defined"
     ]
    }
   ],
   "source": [
    "sns.displot(monthly_premium_auto_transformed, kde=True)"
   ]
  },
  {
   "cell_type": "code",
   "execution_count": null,
   "metadata": {},
   "outputs": [],
   "source": [
    "sns.displot(total_claim_amount_transformed, kde=True)"
   ]
  },
  {
   "cell_type": "code",
   "execution_count": null,
   "metadata": {},
   "outputs": [],
   "source": [
    "ca_c_transf_df = ca_c_no_outliers_df.copy(deep=True)"
   ]
  },
  {
   "cell_type": "code",
   "execution_count": null,
   "metadata": {},
   "outputs": [],
   "source": [
    "# ca_c_transf_df[\"monthly_premium_auto\"] = monthly_premium_auto_transformed\n",
    "# ca_c_transf_df[\"total_claim_amount\"] = total_claim_amount_transformed"
   ]
  },
  {
   "cell_type": "code",
   "execution_count": null,
   "metadata": {},
   "outputs": [],
   "source": [
    "transformed = my_transformations(ca_c_transf_df, test_size=0.2, scaler=\"minmax\")\n",
    "\n",
    "X_train = pd.concat([transformed[\"train\"][0], transformed[\"train\"][1]], axis=1)\n",
    "y_train = transformed[\"train\"][2]\n",
    "\n",
    "X_test = pd.concat([transformed[\"test\"][0], transformed[\"test\"][1]], axis=1)\n",
    "y_test = transformed[\"test\"][2]"
   ]
  },
  {
   "cell_type": "code",
   "execution_count": null,
   "metadata": {},
   "outputs": [],
   "source": [
    "X_train"
   ]
  },
  {
   "cell_type": "code",
   "execution_count": null,
   "metadata": {},
   "outputs": [],
   "source": [
    "pt = PowerTransformer()"
   ]
  },
  {
   "cell_type": "code",
   "execution_count": null,
   "metadata": {},
   "outputs": [],
   "source": [
    "monthly_premium_auto_transformer = pt.fit(X_train[\"monthly_premium_auto\"].to_numpy().reshape(-1,1))\n",
    "\n",
    "X_train[\"monthly_premium_auto\"] = monthly_premium_auto_transformer.transform(X_train[\"monthly_premium_auto\"].to_numpy().reshape(-1,1))\n",
    "X_test[\"monthly_premium_auto\"] = monthly_premium_auto_transformer.transform(X_test[\"monthly_premium_auto\"].to_numpy().reshape(-1,1))\n"
   ]
  },
  {
   "cell_type": "code",
   "execution_count": null,
   "metadata": {},
   "outputs": [],
   "source": [
    "X_train"
   ]
  },
  {
   "cell_type": "code",
   "execution_count": null,
   "metadata": {},
   "outputs": [],
   "source": [
    "y_train"
   ]
  },
  {
   "cell_type": "code",
   "execution_count": null,
   "metadata": {},
   "outputs": [],
   "source": [
    "total_claim_amount_transformer = pt.fit(y_train.to_numpy().reshape(-1,1))\n",
    "\n",
    "y_train = pd.DataFrame(total_claim_amount_transformer.transform(y_train.to_numpy().reshape(-1,1)))\n",
    "y_test = pd.DataFrame(total_claim_amount_transformer.transform(y_test.to_numpy().reshape(-1,1)))"
   ]
  },
  {
   "cell_type": "code",
   "execution_count": null,
   "metadata": {},
   "outputs": [],
   "source": [
    "y_train"
   ]
  },
  {
   "cell_type": "code",
   "execution_count": null,
   "metadata": {},
   "outputs": [],
   "source": [
    "output_all_cat_no_outliers_transformed = my_flex_regression(X_train, y_train, X_test, y_test, LinearRegression(), y_transformer=total_claim_amount_transformer)"
   ]
  },
  {
   "cell_type": "code",
   "execution_count": null,
   "metadata": {},
   "outputs": [],
   "source": [
    "output_all_cat_no_outliers_transformed[\"Metrics\"]"
   ]
  },
  {
   "cell_type": "markdown",
   "metadata": {},
   "source": [
    "## Summary"
   ]
  },
  {
   "cell_type": "code",
   "execution_count": null,
   "metadata": {},
   "outputs": [],
   "source": [
    "print(f'The adjusted R2 for the baseline model (only numerical features) is {round(output_baseline[\"Metrics\"].loc[\"R2_adj\",\"test\"],2)}')\n",
    "print(f'The adjusted R2 for the model baseline + all categorical features is {round(output_all_cat[\"Metrics\"].loc[\"R2_adj\",\"test\"],2)}')\n",
    "print(f'The adjusted R2 for the model baseline + all categorical features + removed outliers is {round(output_all_cat_no_outliers[\"Metrics\"].loc[\"R2_adj\",\"test\"],2)}')\n",
    "print(f'The adjusted R2 for the model baseline + all categorical features + removed outliers + normalization is {round(output_all_cat_no_outliers_transformed[\"Metrics\"].loc[\"R2_adj\",\"test\"],2)}')\n"
   ]
  }
 ],
 "metadata": {
  "interpreter": {
   "hash": "350fa199ac5972690c7e339cc739f563045f32da9cdb6c3e3b5da606ff6ebbd1"
  },
  "kernelspec": {
   "display_name": "Python 3 (ipykernel)",
   "language": "python",
   "name": "python3"
  },
  "language_info": {
   "codemirror_mode": {
    "name": "ipython",
    "version": 3
   },
   "file_extension": ".py",
   "mimetype": "text/x-python",
   "name": "python",
   "nbconvert_exporter": "python",
   "pygments_lexer": "ipython3",
   "version": "3.9.7"
  }
 },
 "nbformat": 4,
 "nbformat_minor": 2
}
