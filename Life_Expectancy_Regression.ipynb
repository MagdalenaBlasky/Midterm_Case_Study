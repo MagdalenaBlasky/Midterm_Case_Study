{
 "cells": [
  {
   "cell_type": "code",
   "execution_count": 74,
   "id": "6efd8430",
   "metadata": {},
   "outputs": [],
   "source": [
    "import pandas as pd\n",
    "import numpy as np\n",
    "import matplotlib.pyplot as plt\n",
    "import seaborn as sns\n",
    "%matplotlib inline\n",
    "\n",
    "from sklearn.preprocessing import StandardScaler\n",
    "from sklearn.preprocessing import minmax_scale\n",
    "from sklearn.preprocessing import OneHotEncoder\n",
    "from sklearn.preprocessing import QuantileTransformer\n",
    "from sklearn.linear_model import LinearRegression\n",
    "from sklearn.model_selection import train_test_split\n",
    "from sklearn.preprocessing import PowerTransformer\n",
    "from sklearn.linear_model import LinearRegression\n",
    "import statsmodels.api as sm\n",
    "from scipy.stats import boxcox"
   ]
  },
  {
   "cell_type": "code",
   "execution_count": 75,
   "id": "d440d781",
   "metadata": {},
   "outputs": [],
   "source": [
    "life_df = pd.read_csv(\"Data/cleaned_life_expectancy_df.csv\")"
   ]
  },
  {
   "cell_type": "code",
   "execution_count": 76,
   "id": "ed4854fe",
   "metadata": {},
   "outputs": [],
   "source": [
    "life_df.drop(columns=['bmi', 'adult_mortality'], inplace=True)"
   ]
  },
  {
   "cell_type": "code",
   "execution_count": 77,
   "id": "00436466",
   "metadata": {},
   "outputs": [
    {
     "data": {
      "text/html": [
       "<div>\n",
       "<style scoped>\n",
       "    .dataframe tbody tr th:only-of-type {\n",
       "        vertical-align: middle;\n",
       "    }\n",
       "\n",
       "    .dataframe tbody tr th {\n",
       "        vertical-align: top;\n",
       "    }\n",
       "\n",
       "    .dataframe thead th {\n",
       "        text-align: right;\n",
       "    }\n",
       "</style>\n",
       "<table border=\"1\" class=\"dataframe\">\n",
       "  <thead>\n",
       "    <tr style=\"text-align: right;\">\n",
       "      <th></th>\n",
       "      <th>life_expectancy</th>\n",
       "      <th>age_1-4_mortality</th>\n",
       "      <th>alcohol</th>\n",
       "      <th>age_5-19_thinness</th>\n",
       "      <th>age_5-19_obesity</th>\n",
       "      <th>polio_vacc</th>\n",
       "      <th>basic_water_access</th>\n",
       "      <th>doctors_per_10000</th>\n",
       "      <th>gghe-d</th>\n",
       "      <th>che_gdp</th>\n",
       "      <th>population</th>\n",
       "      <th>gni</th>\n",
       "    </tr>\n",
       "  </thead>\n",
       "  <tbody>\n",
       "    <tr>\n",
       "      <th>0</th>\n",
       "      <td>47.33730</td>\n",
       "      <td>0.02570</td>\n",
       "      <td>1.47439</td>\n",
       "      <td>11.0</td>\n",
       "      <td>0.5</td>\n",
       "      <td>21.0</td>\n",
       "      <td>41.14431</td>\n",
       "      <td>0.96700</td>\n",
       "      <td>1.11099</td>\n",
       "      <td>1.90860</td>\n",
       "      <td>16395.473</td>\n",
       "      <td>2530.0</td>\n",
       "    </tr>\n",
       "    <tr>\n",
       "      <th>1</th>\n",
       "      <td>48.19789</td>\n",
       "      <td>0.02450</td>\n",
       "      <td>1.94025</td>\n",
       "      <td>10.9</td>\n",
       "      <td>0.5</td>\n",
       "      <td>28.0</td>\n",
       "      <td>42.25467</td>\n",
       "      <td>0.96700</td>\n",
       "      <td>2.04631</td>\n",
       "      <td>4.48352</td>\n",
       "      <td>16945.753</td>\n",
       "      <td>2630.0</td>\n",
       "    </tr>\n",
       "    <tr>\n",
       "      <th>2</th>\n",
       "      <td>49.42569</td>\n",
       "      <td>0.02326</td>\n",
       "      <td>2.07512</td>\n",
       "      <td>10.7</td>\n",
       "      <td>0.6</td>\n",
       "      <td>22.0</td>\n",
       "      <td>43.37680</td>\n",
       "      <td>0.96700</td>\n",
       "      <td>1.30863</td>\n",
       "      <td>3.32946</td>\n",
       "      <td>17519.417</td>\n",
       "      <td>3180.0</td>\n",
       "    </tr>\n",
       "    <tr>\n",
       "      <th>3</th>\n",
       "      <td>50.50266</td>\n",
       "      <td>0.02192</td>\n",
       "      <td>2.20275</td>\n",
       "      <td>10.5</td>\n",
       "      <td>0.7</td>\n",
       "      <td>21.0</td>\n",
       "      <td>44.36387</td>\n",
       "      <td>0.96700</td>\n",
       "      <td>1.46560</td>\n",
       "      <td>3.54797</td>\n",
       "      <td>18121.479</td>\n",
       "      <td>3260.0</td>\n",
       "    </tr>\n",
       "    <tr>\n",
       "      <th>4</th>\n",
       "      <td>51.52863</td>\n",
       "      <td>0.02054</td>\n",
       "      <td>2.41274</td>\n",
       "      <td>10.3</td>\n",
       "      <td>0.8</td>\n",
       "      <td>18.0</td>\n",
       "      <td>45.35134</td>\n",
       "      <td>0.62100</td>\n",
       "      <td>1.68663</td>\n",
       "      <td>3.96720</td>\n",
       "      <td>18758.145</td>\n",
       "      <td>3560.0</td>\n",
       "    </tr>\n",
       "    <tr>\n",
       "      <th>...</th>\n",
       "      <td>...</td>\n",
       "      <td>...</td>\n",
       "      <td>...</td>\n",
       "      <td>...</td>\n",
       "      <td>...</td>\n",
       "      <td>...</td>\n",
       "      <td>...</td>\n",
       "      <td>...</td>\n",
       "      <td>...</td>\n",
       "      <td>...</td>\n",
       "      <td>...</td>\n",
       "      <td>...</td>\n",
       "    </tr>\n",
       "    <tr>\n",
       "      <th>2936</th>\n",
       "      <td>64.49448</td>\n",
       "      <td>0.00485</td>\n",
       "      <td>6.29833</td>\n",
       "      <td>9.2</td>\n",
       "      <td>3.1</td>\n",
       "      <td>78.0</td>\n",
       "      <td>72.07056</td>\n",
       "      <td>1.80000</td>\n",
       "      <td>0.43670</td>\n",
       "      <td>2.07638</td>\n",
       "      <td>6444.530</td>\n",
       "      <td>4570.0</td>\n",
       "    </tr>\n",
       "    <tr>\n",
       "      <th>2937</th>\n",
       "      <td>64.79716</td>\n",
       "      <td>0.00460</td>\n",
       "      <td>6.42186</td>\n",
       "      <td>9.1</td>\n",
       "      <td>3.5</td>\n",
       "      <td>86.0</td>\n",
       "      <td>74.05544</td>\n",
       "      <td>4.49300</td>\n",
       "      <td>0.71266</td>\n",
       "      <td>2.39985</td>\n",
       "      <td>6541.304</td>\n",
       "      <td>4980.0</td>\n",
       "    </tr>\n",
       "    <tr>\n",
       "      <th>2938</th>\n",
       "      <td>65.10757</td>\n",
       "      <td>0.00440</td>\n",
       "      <td>6.64447</td>\n",
       "      <td>9.0</td>\n",
       "      <td>3.8</td>\n",
       "      <td>88.0</td>\n",
       "      <td>76.02924</td>\n",
       "      <td>4.94900</td>\n",
       "      <td>0.68373</td>\n",
       "      <td>2.29846</td>\n",
       "      <td>6639.756</td>\n",
       "      <td>5440.0</td>\n",
       "    </tr>\n",
       "    <tr>\n",
       "      <th>2939</th>\n",
       "      <td>65.45008</td>\n",
       "      <td>0.00416</td>\n",
       "      <td>6.83826</td>\n",
       "      <td>8.9</td>\n",
       "      <td>4.2</td>\n",
       "      <td>80.0</td>\n",
       "      <td>77.99142</td>\n",
       "      <td>3.77612</td>\n",
       "      <td>0.86391</td>\n",
       "      <td>2.45366</td>\n",
       "      <td>6741.164</td>\n",
       "      <td>5810.0</td>\n",
       "    </tr>\n",
       "    <tr>\n",
       "      <th>2940</th>\n",
       "      <td>65.79089</td>\n",
       "      <td>0.00399</td>\n",
       "      <td>7.11148</td>\n",
       "      <td>8.9</td>\n",
       "      <td>4.7</td>\n",
       "      <td>66.0</td>\n",
       "      <td>79.94190</td>\n",
       "      <td>3.77612</td>\n",
       "      <td>0.76495</td>\n",
       "      <td>2.36087</td>\n",
       "      <td>6845.846</td>\n",
       "      <td>6190.0</td>\n",
       "    </tr>\n",
       "  </tbody>\n",
       "</table>\n",
       "<p>2941 rows × 12 columns</p>\n",
       "</div>"
      ],
      "text/plain": [
       "      life_expectancy  age_1-4_mortality  alcohol  age_5-19_thinness  \\\n",
       "0            47.33730            0.02570  1.47439               11.0   \n",
       "1            48.19789            0.02450  1.94025               10.9   \n",
       "2            49.42569            0.02326  2.07512               10.7   \n",
       "3            50.50266            0.02192  2.20275               10.5   \n",
       "4            51.52863            0.02054  2.41274               10.3   \n",
       "...               ...                ...      ...                ...   \n",
       "2936         64.49448            0.00485  6.29833                9.2   \n",
       "2937         64.79716            0.00460  6.42186                9.1   \n",
       "2938         65.10757            0.00440  6.64447                9.0   \n",
       "2939         65.45008            0.00416  6.83826                8.9   \n",
       "2940         65.79089            0.00399  7.11148                8.9   \n",
       "\n",
       "      age_5-19_obesity  polio_vacc  basic_water_access  doctors_per_10000  \\\n",
       "0                  0.5        21.0            41.14431            0.96700   \n",
       "1                  0.5        28.0            42.25467            0.96700   \n",
       "2                  0.6        22.0            43.37680            0.96700   \n",
       "3                  0.7        21.0            44.36387            0.96700   \n",
       "4                  0.8        18.0            45.35134            0.62100   \n",
       "...                ...         ...                 ...                ...   \n",
       "2936               3.1        78.0            72.07056            1.80000   \n",
       "2937               3.5        86.0            74.05544            4.49300   \n",
       "2938               3.8        88.0            76.02924            4.94900   \n",
       "2939               4.2        80.0            77.99142            3.77612   \n",
       "2940               4.7        66.0            79.94190            3.77612   \n",
       "\n",
       "       gghe-d  che_gdp  population     gni  \n",
       "0     1.11099  1.90860   16395.473  2530.0  \n",
       "1     2.04631  4.48352   16945.753  2630.0  \n",
       "2     1.30863  3.32946   17519.417  3180.0  \n",
       "3     1.46560  3.54797   18121.479  3260.0  \n",
       "4     1.68663  3.96720   18758.145  3560.0  \n",
       "...       ...      ...         ...     ...  \n",
       "2936  0.43670  2.07638    6444.530  4570.0  \n",
       "2937  0.71266  2.39985    6541.304  4980.0  \n",
       "2938  0.68373  2.29846    6639.756  5440.0  \n",
       "2939  0.86391  2.45366    6741.164  5810.0  \n",
       "2940  0.76495  2.36087    6845.846  6190.0  \n",
       "\n",
       "[2941 rows x 12 columns]"
      ]
     },
     "execution_count": 77,
     "metadata": {},
     "output_type": "execute_result"
    }
   ],
   "source": [
    "#get numerical data\n",
    "\n",
    "life_num = life_df._get_numeric_data()\n",
    "life_num = life_num.drop(columns='year')\n",
    "life_num"
   ]
  },
  {
   "cell_type": "code",
   "execution_count": 78,
   "id": "5892538f",
   "metadata": {},
   "outputs": [
    {
     "name": "stderr",
     "output_type": "stream",
     "text": [
      "/var/folders/qw/spw5ptl93b53bn0c_4sqb01m0000gq/T/ipykernel_17130/2912975559.py:3: DeprecationWarning: `np.object` is a deprecated alias for the builtin `object`. To silence this warning, use `object` by itself. Doing this will not modify any behavior and is safe. \n",
      "Deprecated in NumPy 1.20; for more details and guidance: https://numpy.org/devdocs/release/1.20.0-notes.html#deprecations\n",
      "  life_cat = life_df.select_dtypes(np.object)\n",
      "/var/folders/qw/spw5ptl93b53bn0c_4sqb01m0000gq/T/ipykernel_17130/2912975559.py:4: SettingWithCopyWarning: \n",
      "A value is trying to be set on a copy of a slice from a DataFrame.\n",
      "Try using .loc[row_indexer,col_indexer] = value instead\n",
      "\n",
      "See the caveats in the documentation: https://pandas.pydata.org/pandas-docs/stable/user_guide/indexing.html#returning-a-view-versus-a-copy\n",
      "  life_cat['year'] = life_df['year']\n"
     ]
    },
    {
     "data": {
      "text/html": [
       "<div>\n",
       "<style scoped>\n",
       "    .dataframe tbody tr th:only-of-type {\n",
       "        vertical-align: middle;\n",
       "    }\n",
       "\n",
       "    .dataframe tbody tr th {\n",
       "        vertical-align: top;\n",
       "    }\n",
       "\n",
       "    .dataframe thead th {\n",
       "        text-align: right;\n",
       "    }\n",
       "</style>\n",
       "<table border=\"1\" class=\"dataframe\">\n",
       "  <thead>\n",
       "    <tr style=\"text-align: right;\">\n",
       "      <th></th>\n",
       "      <th>country</th>\n",
       "      <th>region</th>\n",
       "      <th>year</th>\n",
       "    </tr>\n",
       "  </thead>\n",
       "  <tbody>\n",
       "    <tr>\n",
       "      <th>0</th>\n",
       "      <td>angola</td>\n",
       "      <td>africa</td>\n",
       "      <td>2000</td>\n",
       "    </tr>\n",
       "    <tr>\n",
       "      <th>1</th>\n",
       "      <td>angola</td>\n",
       "      <td>africa</td>\n",
       "      <td>2001</td>\n",
       "    </tr>\n",
       "    <tr>\n",
       "      <th>2</th>\n",
       "      <td>angola</td>\n",
       "      <td>africa</td>\n",
       "      <td>2002</td>\n",
       "    </tr>\n",
       "    <tr>\n",
       "      <th>3</th>\n",
       "      <td>angola</td>\n",
       "      <td>africa</td>\n",
       "      <td>2003</td>\n",
       "    </tr>\n",
       "    <tr>\n",
       "      <th>4</th>\n",
       "      <td>angola</td>\n",
       "      <td>africa</td>\n",
       "      <td>2004</td>\n",
       "    </tr>\n",
       "    <tr>\n",
       "      <th>...</th>\n",
       "      <td>...</td>\n",
       "      <td>...</td>\n",
       "      <td>...</td>\n",
       "    </tr>\n",
       "    <tr>\n",
       "      <th>2936</th>\n",
       "      <td>lao people's democratic republic</td>\n",
       "      <td>western pacific</td>\n",
       "      <td>2012</td>\n",
       "    </tr>\n",
       "    <tr>\n",
       "      <th>2937</th>\n",
       "      <td>lao people's democratic republic</td>\n",
       "      <td>western pacific</td>\n",
       "      <td>2013</td>\n",
       "    </tr>\n",
       "    <tr>\n",
       "      <th>2938</th>\n",
       "      <td>lao people's democratic republic</td>\n",
       "      <td>western pacific</td>\n",
       "      <td>2014</td>\n",
       "    </tr>\n",
       "    <tr>\n",
       "      <th>2939</th>\n",
       "      <td>lao people's democratic republic</td>\n",
       "      <td>western pacific</td>\n",
       "      <td>2015</td>\n",
       "    </tr>\n",
       "    <tr>\n",
       "      <th>2940</th>\n",
       "      <td>lao people's democratic republic</td>\n",
       "      <td>western pacific</td>\n",
       "      <td>2016</td>\n",
       "    </tr>\n",
       "  </tbody>\n",
       "</table>\n",
       "<p>2941 rows × 3 columns</p>\n",
       "</div>"
      ],
      "text/plain": [
       "                               country           region  year\n",
       "0                               angola           africa  2000\n",
       "1                               angola           africa  2001\n",
       "2                               angola           africa  2002\n",
       "3                               angola           africa  2003\n",
       "4                               angola           africa  2004\n",
       "...                                ...              ...   ...\n",
       "2936  lao people's democratic republic  western pacific  2012\n",
       "2937  lao people's democratic republic  western pacific  2013\n",
       "2938  lao people's democratic republic  western pacific  2014\n",
       "2939  lao people's democratic republic  western pacific  2015\n",
       "2940  lao people's democratic republic  western pacific  2016\n",
       "\n",
       "[2941 rows x 3 columns]"
      ]
     },
     "execution_count": 78,
     "metadata": {},
     "output_type": "execute_result"
    }
   ],
   "source": [
    "#get categorical data\n",
    "\n",
    "life_cat = life_df.select_dtypes(np.object)\n",
    "life_cat['year'] = life_df['year']\n",
    "life_cat"
   ]
  },
  {
   "cell_type": "code",
   "execution_count": 79,
   "id": "c00e2af9",
   "metadata": {},
   "outputs": [
    {
     "data": {
      "image/png": "[encoded data removed]",
      "text/plain": [
       "<Figure size 864x864 with 2 Axes>"
      ]
     },
     "metadata": {},
     "output_type": "display_data"
    }
   ],
   "source": [
    "corr = life_num.corr()\n",
    "mask = np.zeros_like(corr)\n",
    "mask[np.triu_indices_from(mask)] = True\n",
    "with sns.axes_style(\"white\"):\n",
    "    f, ax = plt.subplots(figsize=(12, 12))\n",
    "    ax = sns.heatmap(corr, mask=mask,cmap='coolwarm', vmin=-1,vmax=1,annot=True, square=True)"
   ]
  },
  {
   "cell_type": "code",
   "execution_count": 80,
   "id": "f3730201",
   "metadata": {},
   "outputs": [],
   "source": [
    "# X / y Split on numeric data\n",
    "\n",
    "X = life_num.drop('life_expectancy', axis=1)\n",
    "\n",
    "y = life_num['life_expectancy'] "
   ]
  },
  {
   "cell_type": "code",
   "execution_count": 81,
   "id": "3930a895",
   "metadata": {},
   "outputs": [],
   "source": [
    "# Train / Test Split on numeric data \n",
    "\n",
    "X_train, X_test, y_train, y_test = train_test_split(X,y,test_size=.20,random_state=123)"
   ]
  },
  {
   "cell_type": "code",
   "execution_count": 82,
   "id": "096f4d0b",
   "metadata": {},
   "outputs": [],
   "source": [
    "# Standardize the numerical data \n",
    "\n",
    "#TRAIN\n",
    "\n",
    "std_scaler=StandardScaler().fit(X_train)   \n",
    "\n",
    "X_train_scaled=std_scaler.transform(X_train)"
   ]
  },
  {
   "cell_type": "code",
   "execution_count": 83,
   "id": "1803700f",
   "metadata": {},
   "outputs": [],
   "source": [
    "#TEST\n",
    "\n",
    "X_test_scaled=std_scaler.transform(X_test)"
   ]
  },
  {
   "cell_type": "code",
   "execution_count": 84,
   "id": "b53bd3c9",
   "metadata": {},
   "outputs": [
    {
     "data": {
      "text/plain": [
       "LinearRegression()"
      ]
     },
     "execution_count": 84,
     "metadata": {},
     "output_type": "execute_result"
    }
   ],
   "source": [
    "# Model fitting \n",
    "\n",
    "model=LinearRegression()    \n",
    "model.fit(X_train_scaled, y_train)"
   ]
  },
  {
   "cell_type": "code",
   "execution_count": 85,
   "id": "847f13c6",
   "metadata": {},
   "outputs": [
    {
     "data": {
      "text/plain": [
       "array([-4.55735754, -0.45005822, -0.49092773,  0.28900467, -0.24049717,\n",
       "        1.72971961,  1.13794282,  1.36045547, -0.15682257,  0.39456602,\n",
       "        1.32320192])"
      ]
     },
     "execution_count": 85,
     "metadata": {},
     "output_type": "execute_result"
    }
   ],
   "source": [
    "#coefficients\n",
    "\n",
    "model.coef_"
   ]
  },
  {
   "cell_type": "code",
   "execution_count": 86,
   "id": "e929138f",
   "metadata": {},
   "outputs": [
    {
     "data": {
      "text/plain": [
       "69.21998391156463"
      ]
     },
     "execution_count": 86,
     "metadata": {},
     "output_type": "execute_result"
    }
   ],
   "source": [
    "#intercept\n",
    "\n",
    "model.intercept_"
   ]
  },
  {
   "cell_type": "code",
   "execution_count": 87,
   "id": "e578e14e",
   "metadata": {},
   "outputs": [
    {
     "name": "stdout",
     "output_type": "stream",
     "text": [
      "0.8702258920534083\n",
      "0.867751862265865\n"
     ]
    }
   ],
   "source": [
    "#score of the model (R2) on the test set\n",
    "\n",
    "R2 = model.score(X_test_scaled, y_test)\n",
    "\n",
    "Adj_R2 = 1 - (1-R2)*(len(y_test)-1)/(len(y_test)-X_test.shape[1]-1)\n",
    "\n",
    "print(R2)\n",
    "print(Adj_R2)"
   ]
  },
  {
   "cell_type": "code",
   "execution_count": 88,
   "id": "b1264748",
   "metadata": {},
   "outputs": [
    {
     "name": "stdout",
     "output_type": "stream",
     "text": [
      "0.8677676539151529\n",
      "0.8652467599689946\n"
     ]
    }
   ],
   "source": [
    "#score of the model (R2) on train set\n",
    "\n",
    "R2 = model.score(X_train_scaled, y_train)\n",
    "\n",
    "Adj_R2 = 1 - (1-R2)*(len(y_test)-1)/(len(y_test)-X_test.shape[1]-1)\n",
    "\n",
    "print(R2)\n",
    "print(Adj_R2)"
   ]
  },
  {
   "cell_type": "code",
   "execution_count": 89,
   "id": "a883c4b1",
   "metadata": {},
   "outputs": [],
   "source": [
    "y_pred=model.predict(X_test_scaled)"
   ]
  },
  {
   "cell_type": "code",
   "execution_count": 90,
   "id": "48744e76",
   "metadata": {},
   "outputs": [
    {
     "data": {
      "text/plain": [
       "776     72.03635\n",
       "1413    73.41284\n",
       "449     73.01061\n",
       "2410    80.27319\n",
       "1469    64.14814\n",
       "          ...   \n",
       "2269    79.90195\n",
       "196     66.56111\n",
       "2455    67.41263\n",
       "2118    76.69816\n",
       "167     61.22800\n",
       "Name: life_expectancy, Length: 589, dtype: float64"
      ]
     },
     "execution_count": 90,
     "metadata": {},
     "output_type": "execute_result"
    }
   ],
   "source": [
    "y_test"
   ]
  },
  {
   "cell_type": "code",
   "execution_count": 91,
   "id": "255cf689",
   "metadata": {},
   "outputs": [
    {
     "data": {
      "text/html": [
       "<div>\n",
       "<style scoped>\n",
       "    .dataframe tbody tr th:only-of-type {\n",
       "        vertical-align: middle;\n",
       "    }\n",
       "\n",
       "    .dataframe tbody tr th {\n",
       "        vertical-align: top;\n",
       "    }\n",
       "\n",
       "    .dataframe thead th {\n",
       "        text-align: right;\n",
       "    }\n",
       "</style>\n",
       "<table border=\"1\" class=\"dataframe\">\n",
       "  <thead>\n",
       "    <tr style=\"text-align: right;\">\n",
       "      <th></th>\n",
       "      <th>y_test</th>\n",
       "      <th>y_pred</th>\n",
       "    </tr>\n",
       "  </thead>\n",
       "  <tbody>\n",
       "    <tr>\n",
       "      <th>776</th>\n",
       "      <td>72.03635</td>\n",
       "      <td>69.204338</td>\n",
       "    </tr>\n",
       "    <tr>\n",
       "      <th>1413</th>\n",
       "      <td>73.41284</td>\n",
       "      <td>70.269365</td>\n",
       "    </tr>\n",
       "    <tr>\n",
       "      <th>449</th>\n",
       "      <td>73.01061</td>\n",
       "      <td>71.498279</td>\n",
       "    </tr>\n",
       "    <tr>\n",
       "      <th>2410</th>\n",
       "      <td>80.27319</td>\n",
       "      <td>75.529362</td>\n",
       "    </tr>\n",
       "    <tr>\n",
       "      <th>1469</th>\n",
       "      <td>64.14814</td>\n",
       "      <td>64.281105</td>\n",
       "    </tr>\n",
       "    <tr>\n",
       "      <th>...</th>\n",
       "      <td>...</td>\n",
       "      <td>...</td>\n",
       "    </tr>\n",
       "    <tr>\n",
       "      <th>2269</th>\n",
       "      <td>79.90195</td>\n",
       "      <td>78.313644</td>\n",
       "    </tr>\n",
       "    <tr>\n",
       "      <th>196</th>\n",
       "      <td>66.56111</td>\n",
       "      <td>65.061696</td>\n",
       "    </tr>\n",
       "    <tr>\n",
       "      <th>2455</th>\n",
       "      <td>67.41263</td>\n",
       "      <td>68.023667</td>\n",
       "    </tr>\n",
       "    <tr>\n",
       "      <th>2118</th>\n",
       "      <td>76.69816</td>\n",
       "      <td>76.857000</td>\n",
       "    </tr>\n",
       "    <tr>\n",
       "      <th>167</th>\n",
       "      <td>61.22800</td>\n",
       "      <td>61.745740</td>\n",
       "    </tr>\n",
       "  </tbody>\n",
       "</table>\n",
       "<p>589 rows × 2 columns</p>\n",
       "</div>"
      ],
      "text/plain": [
       "        y_test     y_pred\n",
       "776   72.03635  69.204338\n",
       "1413  73.41284  70.269365\n",
       "449   73.01061  71.498279\n",
       "2410  80.27319  75.529362\n",
       "1469  64.14814  64.281105\n",
       "...        ...        ...\n",
       "2269  79.90195  78.313644\n",
       "196   66.56111  65.061696\n",
       "2455  67.41263  68.023667\n",
       "2118  76.69816  76.857000\n",
       "167   61.22800  61.745740\n",
       "\n",
       "[589 rows x 2 columns]"
      ]
     },
     "execution_count": 91,
     "metadata": {},
     "output_type": "execute_result"
    }
   ],
   "source": [
    "result = pd.DataFrame({\"y_test\":y_test,\"y_pred\":y_pred})\n",
    "result"
   ]
  },
  {
   "cell_type": "code",
   "execution_count": 92,
   "id": "2c08ed4f",
   "metadata": {},
   "outputs": [
    {
     "data": {
      "text/plain": [
       "[<matplotlib.lines.Line2D at 0x7f902bc43fd0>]"
      ]
     },
     "execution_count": 92,
     "metadata": {},
     "output_type": "execute_result"
    },
    {
     "data": {
      "image/png": "[encoded data removed]",
      "text/plain": [
       "<Figure size 1152x432 with 3 Axes>"
      ]
     },
     "metadata": {
      "needs_background": "light"
     },
     "output_type": "display_data"
    }
   ],
   "source": [
    "fig1, ax1 = plt.subplots(1,3, figsize=(16,6))\n",
    "\n",
    "sns.scatterplot(x=y_pred, y=y_test, ax=ax1[0])\n",
    "ax1[0].set_xlabel(\"y_test\")\n",
    "ax1[0].set_ylabel(\"y_pred\")\n",
    "ax1[0].set_title('Test Set - Predicted vs. Real', fontweight='bold')\n",
    "\n",
    "sns.histplot(y_test-y_pred, ax = ax1[1])\n",
    "ax1[1].set_xlabel(\"Test y-y_pred\")\n",
    "ax1[1].set_title('Test Set - Residual histogram', fontweight='bold')\n",
    "\n",
    "sns.scatterplot(x = y_pred,y = y_test - y_pred, ax=ax1[2])\n",
    "ax1[2].set_xlabel(\"predicted\")\n",
    "ax1[2].set_ylabel(\"residuals\")\n",
    "ax1[2].set_title('Residuals by Predicted', fontweight='bold')\n",
    "ax1[2].plot(y_pred,np.zeros(len(y_pred)),linestyle='dashed', color='orange')"
   ]
  },
  {
   "cell_type": "code",
   "execution_count": 93,
   "id": "e831b08c",
   "metadata": {},
   "outputs": [
    {
     "name": "stdout",
     "output_type": "stream",
     "text": [
      "10.867356286769644\n",
      "2.400582866856249\n",
      "3.2965673490419762\n"
     ]
    }
   ],
   "source": [
    "#Model validation\n",
    "\n",
    "from sklearn.metrics import mean_squared_error as mse\n",
    "from sklearn.metrics import mean_absolute_error as mae\n",
    "\n",
    "MSE = mse(y_test,y_pred)\n",
    "MAE = mae(y_test,y_pred)\n",
    "RMSE = np.sqrt(MSE)\n",
    "\n",
    "print(MSE)\n",
    "print(MAE)\n",
    "print(RMSE)"
   ]
  },
  {
   "cell_type": "code",
   "execution_count": 94,
   "id": "70a81a6e",
   "metadata": {},
   "outputs": [],
   "source": [
    "#Feature Importance (least important features on top because we wanted to decide if we should delete some columns)\n",
    "\n",
    "features_importances = pd.DataFrame(data={\n",
    "    'Attribute': X_train.columns,\n",
    "    'Importance': abs(model.coef_)\n",
    "})\n",
    "features_importances = features_importances.sort_values(by='Importance', ascending=False)"
   ]
  },
  {
   "cell_type": "code",
   "execution_count": 95,
   "id": "9fa96c2a",
   "metadata": {},
   "outputs": [
    {
     "data": {
      "text/html": [
       "<div>\n",
       "<style scoped>\n",
       "    .dataframe tbody tr th:only-of-type {\n",
       "        vertical-align: middle;\n",
       "    }\n",
       "\n",
       "    .dataframe tbody tr th {\n",
       "        vertical-align: top;\n",
       "    }\n",
       "\n",
       "    .dataframe thead th {\n",
       "        text-align: right;\n",
       "    }\n",
       "</style>\n",
       "<table border=\"1\" class=\"dataframe\">\n",
       "  <thead>\n",
       "    <tr style=\"text-align: right;\">\n",
       "      <th></th>\n",
       "      <th>Attribute</th>\n",
       "      <th>Importance</th>\n",
       "    </tr>\n",
       "  </thead>\n",
       "  <tbody>\n",
       "    <tr>\n",
       "      <th>0</th>\n",
       "      <td>age_1-4_mortality</td>\n",
       "      <td>4.557358</td>\n",
       "    </tr>\n",
       "    <tr>\n",
       "      <th>5</th>\n",
       "      <td>basic_water_access</td>\n",
       "      <td>1.729720</td>\n",
       "    </tr>\n",
       "    <tr>\n",
       "      <th>7</th>\n",
       "      <td>gghe-d</td>\n",
       "      <td>1.360455</td>\n",
       "    </tr>\n",
       "    <tr>\n",
       "      <th>10</th>\n",
       "      <td>gni</td>\n",
       "      <td>1.323202</td>\n",
       "    </tr>\n",
       "    <tr>\n",
       "      <th>6</th>\n",
       "      <td>doctors_per_10000</td>\n",
       "      <td>1.137943</td>\n",
       "    </tr>\n",
       "    <tr>\n",
       "      <th>2</th>\n",
       "      <td>age_5-19_thinness</td>\n",
       "      <td>0.490928</td>\n",
       "    </tr>\n",
       "    <tr>\n",
       "      <th>1</th>\n",
       "      <td>alcohol</td>\n",
       "      <td>0.450058</td>\n",
       "    </tr>\n",
       "    <tr>\n",
       "      <th>9</th>\n",
       "      <td>population</td>\n",
       "      <td>0.394566</td>\n",
       "    </tr>\n",
       "    <tr>\n",
       "      <th>3</th>\n",
       "      <td>age_5-19_obesity</td>\n",
       "      <td>0.289005</td>\n",
       "    </tr>\n",
       "    <tr>\n",
       "      <th>4</th>\n",
       "      <td>polio_vacc</td>\n",
       "      <td>0.240497</td>\n",
       "    </tr>\n",
       "    <tr>\n",
       "      <th>8</th>\n",
       "      <td>che_gdp</td>\n",
       "      <td>0.156823</td>\n",
       "    </tr>\n",
       "  </tbody>\n",
       "</table>\n",
       "</div>"
      ],
      "text/plain": [
       "             Attribute  Importance\n",
       "0    age_1-4_mortality    4.557358\n",
       "5   basic_water_access    1.729720\n",
       "7               gghe-d    1.360455\n",
       "10                 gni    1.323202\n",
       "6    doctors_per_10000    1.137943\n",
       "2    age_5-19_thinness    0.490928\n",
       "1              alcohol    0.450058\n",
       "9           population    0.394566\n",
       "3     age_5-19_obesity    0.289005\n",
       "4           polio_vacc    0.240497\n",
       "8              che_gdp    0.156823"
      ]
     },
     "execution_count": 95,
     "metadata": {},
     "output_type": "execute_result"
    }
   ],
   "source": [
    "features_importances"
   ]
  },
  {
   "cell_type": "code",
   "execution_count": null,
   "id": "fd7c3377",
   "metadata": {},
   "outputs": [],
   "source": []
  }
 ],
 "metadata": {
  "kernelspec": {
   "display_name": "Python 3 (ipykernel)",
   "language": "python",
   "name": "python3"
  },
  "language_info": {
   "codemirror_mode": {
    "name": "ipython",
    "version": 3
   },
   "file_extension": ".py",
   "mimetype": "text/x-python",
   "name": "python",
   "nbconvert_exporter": "python",
   "pygments_lexer": "ipython3",
   "version": "3.9.7"
  }
 },
 "nbformat": 4,
 "nbformat_minor": 5
}
